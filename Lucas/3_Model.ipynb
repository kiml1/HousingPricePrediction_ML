{
 "cells": [
  {
   "cell_type": "markdown",
   "metadata": {},
   "source": [
    "# Libraries"
   ]
  },
  {
   "cell_type": "code",
   "execution_count": 21,
   "metadata": {},
   "outputs": [],
   "source": [
    "import pandas as pd\n",
    "import numpy as np\n",
    "\n",
    "pd.set_option('display.max_columns', 1000)\n",
    "pd.set_option('display.max_rows', 1000)\n",
    "\n",
    "from sklearn.model_selection import train_test_split\n",
    "\n",
    "# for the models\n",
    "from sklearn.linear_model import LinearRegression, Ridge, Lasso, ElasticNet\n",
    "from sklearn.metrics import mean_squared_error, mean_absolute_error\n",
    "from sklearn.model_selection import KFold, cross_val_score\n",
    "\n",
    "# warnings\n",
    "import warnings\n",
    "warnings.filterwarnings(action=\"ignore\")"
   ]
  },
  {
   "cell_type": "markdown",
   "metadata": {},
   "source": [
    "## Get new clean data"
   ]
  },
  {
   "cell_type": "code",
   "execution_count": 2,
   "metadata": {},
   "outputs": [],
   "source": [
    "train = pd.read_csv(\"./train_final.csv\")\n",
    "test = pd.read_csv(\"./test_final.csv\")"
   ]
  },
  {
   "cell_type": "markdown",
   "metadata": {},
   "source": [
    "## Modeling"
   ]
  },
  {
   "cell_type": "code",
   "execution_count": 16,
   "metadata": {},
   "outputs": [],
   "source": [
    "# separate predictors and prediction\n",
    "y = train[\"SalePrice\"]\n",
    "X = train.drop(\"SalePrice\", axis=1)\n",
    "\n",
    "# k-folds\n",
    "kfold = KFold(n_splits=10, random_state=0, shuffle=True)\n",
    "\n",
    "\n",
    "# functions for error score\n",
    "def rmse(y, y_pred):\n",
    "    return np.sqrt(mean_squared_error(y, y_pred))\n",
    "\n",
    "def cv_rmse(model):\n",
    "    rmse = np.sqrt(-cross_val_score(model, X, y, scoring=\"neg_mean_squared_error\", cv=kfold))\n",
    "    return (rmse)\n",
    "\n",
    "\n",
    "# Train test split\n",
    "X_train, X_test, y_train, y_test = train_test_split(X, y, test_size = .30, random_state = 0)"
   ]
  },
  {
   "cell_type": "markdown",
   "metadata": {},
   "source": [
    "Multiple Linear Regression"
   ]
  },
  {
   "cell_type": "code",
   "execution_count": 39,
   "metadata": {},
   "outputs": [
    {
     "name": "stdout",
     "output_type": "stream",
     "text": [
      "R^2 is equal to 0.8962\n",
      "RMSE is equal to 24316.4612\n",
      "----------------------------------------------------------------------\n",
      "CV LM score is 23820.8770\n"
     ]
    }
   ],
   "source": [
    "lm = LinearRegression()\n",
    "lm.fit(X_train, y_train)\n",
    "\n",
    "# Predict test data. \n",
    "y_pred = lm.predict(X_test)\n",
    "\n",
    "print('R^2 is equal to %.4f' %(lm.score(X_test, y_test)))\n",
    "print('RMSE is equal to %.4f' %rmse(y_test, y_pred))\n",
    "\n",
    "print(\"-\"*70)\n",
    "\n",
    "# CV\n",
    "score = cv_rmse(lm)\n",
    "print(\"CV LM RMSE score is {:.4f}\".format(score.mean()))"
   ]
  },
  {
   "cell_type": "markdown",
   "metadata": {},
   "source": [
    "Ridge"
   ]
  },
  {
   "cell_type": "code",
   "execution_count": 40,
   "metadata": {
    "scrolled": true
   },
   "outputs": [
    {
     "name": "stdout",
     "output_type": "stream",
     "text": [
      "R^2 is equal to 0.9073\n",
      "RMSE is equal to 22972.2337\n",
      "----------------------------------------------------------------------\n",
      "CV Ridge score is 24201.8182\n"
     ]
    }
   ],
   "source": [
    "ridge = Ridge(alpha=0.1, normalize=True)\n",
    "ridge.fit(X_train, y_train)\n",
    "\n",
    "# Predict test data. \n",
    "y_pred = ridge.predict(X_test)\n",
    "\n",
    "print('R^2 is equal to %.4f' %(ridge.score(X_test, y_test)))\n",
    "print('RMSE is equal to %.4f' %rmse(y_test, y_pred))\n",
    "\n",
    "print(\"-\"*70)\n",
    "\n",
    "# CV\n",
    "score = cv_rmse(ridge)\n",
    "print(\"CV Ridge RMSE score is {:.4f}\".format(score.mean()))"
   ]
  },
  {
   "cell_type": "markdown",
   "metadata": {},
   "source": [
    "Lasso"
   ]
  },
  {
   "cell_type": "code",
   "execution_count": 41,
   "metadata": {},
   "outputs": [
    {
     "name": "stdout",
     "output_type": "stream",
     "text": [
      "R^2 is equal to 0.8961\n",
      "RMSE is equal to 22972.2337\n",
      "----------------------------------------------------------------------\n",
      "CV Lasso score is 23806.0864\n"
     ]
    }
   ],
   "source": [
    "lasso = Lasso(alpha=0.1, normalize=True)\n",
    "lasso.fit(X_train, y_train)\n",
    "\n",
    "## Predict test data. \n",
    "pred = lasso.predict(X_test)\n",
    "\n",
    "print('R^2 is equal to %.4f' %(lasso.score(X_test, y_test)))\n",
    "print('RMSE is equal to %.4f' %np.sqrt(mean_squared_error(y_test, y_pred)))\n",
    "\n",
    "print(\"-\"*70)\n",
    "\n",
    "# CV\n",
    "score = cv_rmse(lasso)\n",
    "print(\"CV Lasso RMSE score is {:.4f}\".format(score.mean()))"
   ]
  },
  {
   "cell_type": "markdown",
   "metadata": {},
   "source": [
    "ElasticNet"
   ]
  },
  {
   "cell_type": "code",
   "execution_count": 45,
   "metadata": {},
   "outputs": [
    {
     "name": "stdout",
     "output_type": "stream",
     "text": [
      "The R^2 is 0.8913\n",
      "RMSE is equal to 22972.2337\n",
      "----------------------------------------------------------------------\n",
      "CV ElasticNet score is 25923.8078\n"
     ]
    }
   ],
   "source": [
    "elasticnet = ElasticNet(alpha=0.1, l1_ratio=0.5, normalize=False)\n",
    "elasticnet.fit(X_train, y_train)\n",
    "\n",
    "## Predict test data. \n",
    "pred = elasticnet.predict(X_test)\n",
    "\n",
    "print(r'The R^2 is %.4f' %(elasticnet.score(X_test, y_test)))\n",
    "print('RMSE is equal to %.4f' %np.sqrt(mean_squared_error(y_test, y_pred)))\n",
    "\n",
    "print(\"-\"*70)\n",
    "\n",
    "# CV\n",
    "score = cv_rmse(elasticnet)\n",
    "print(\"CV ElasticNet RMSE score is {:.4f}\".format(score.mean()))"
   ]
  },
  {
   "cell_type": "code",
   "execution_count": null,
   "metadata": {},
   "outputs": [],
   "source": []
  }
 ],
 "metadata": {
  "kernelspec": {
   "display_name": "Python 3",
   "language": "python",
   "name": "python3"
  },
  "language_info": {
   "codemirror_mode": {
    "name": "ipython",
    "version": 3
   },
   "file_extension": ".py",
   "mimetype": "text/x-python",
   "name": "python",
   "nbconvert_exporter": "python",
   "pygments_lexer": "ipython3",
   "version": "3.7.4"
  }
 },
 "nbformat": 4,
 "nbformat_minor": 2
}
