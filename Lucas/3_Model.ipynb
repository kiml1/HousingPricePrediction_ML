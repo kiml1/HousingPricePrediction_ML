{
 "cells": [
  {
   "cell_type": "markdown",
   "metadata": {},
   "source": [
    "# Libraries"
   ]
  },
  {
   "cell_type": "code",
   "execution_count": 1,
   "metadata": {},
   "outputs": [],
   "source": [
    "import pandas as pd\n",
    "import numpy as np\n",
    "import seaborn as sns\n",
    "import matplotlib.pyplot as plt\n",
    "\n",
    "# for the models\n",
    "from sklearn.model_selection import train_test_split, GridSearchCV\n",
    "from sklearn.linear_model import LinearRegression, Ridge, Lasso, ElasticNet\n",
    "from sklearn.metrics import mean_squared_log_error, mean_squared_error\n",
    "from sklearn.ensemble import RandomForestRegressor, GradientBoostingClassifier, GradientBoostingRegressor\n",
    "from lightgbm import LGBMRegressor\n",
    "from sklearn.model_selection import KFold, cross_val_score\n",
    "from sklearn.preprocessing import StandardScaler\n",
    "from xgboost import XGBRegressor\n",
    "from sklearn.tree import DecisionTreeRegressor\n",
    "\n",
    "\n",
    "\n",
    "# misc\n",
    "import warnings\n",
    "warnings.filterwarnings(action=\"ignore\")\n",
    "pd.set_option('display.max_columns', 1000)\n",
    "pd.set_option('display.max_rows', 1000)"
   ]
  },
  {
   "cell_type": "markdown",
   "metadata": {},
   "source": [
    "## Get new clean data"
   ]
  },
  {
   "cell_type": "code",
   "execution_count": 2,
   "metadata": {},
   "outputs": [],
   "source": [
    "train = pd.read_csv(\"./train_final.csv\")\n",
    "test = pd.read_csv(\"./test_final.csv\")\n",
    "\n",
    "train_dummies = pd.read_csv(\"./train_dummies_final.csv\")\n",
    "test_dummies = pd.read_csv(\"./test_dummies_final.csv\")\n",
    "\n",
    "train_encoded = pd.read_csv(\"./train_encoded_final.csv\").astype(int)\n",
    "test_encoded = pd.read_csv(\"./test_encoded_final.csv\").astype(int)"
   ]
  },
  {
   "cell_type": "markdown",
   "metadata": {},
   "source": [
    "## Target Variable "
   ]
  },
  {
   "cell_type": "code",
   "execution_count": 3,
   "metadata": {},
   "outputs": [
    {
     "data": {
      "image/png": "[encoded data removed]",
      "text/plain": [
       "<Figure size 432x288 with 1 Axes>"
      ]
     },
     "metadata": {
      "needs_background": "light"
     },
     "output_type": "display_data"
    }
   ],
   "source": [
    "# our target variable is SalePrice\n",
    "sns.distplot(train['SalePrice'], color='Red');"
   ]
  },
  {
   "cell_type": "markdown",
   "metadata": {},
   "source": [
    "The target variable is <b>skewed right</b>. We should use a power transformation to make it evenly distributed. Powers < 1 are good for transforming data that is skewed right. This will be done in feature engineering."
   ]
  },
  {
   "cell_type": "code",
   "execution_count": 4,
   "metadata": {},
   "outputs": [
    {
     "data": {
      "image/png": "[encoded data removed]",
      "text/plain": [
       "<Figure size 432x288 with 1 Axes>"
      ]
     },
     "metadata": {
      "needs_background": "light"
     },
     "output_type": "display_data"
    }
   ],
   "source": [
    "train[\"SalePrice\"] = np.log(train[\"SalePrice\"])\n",
    "train_dummies[\"SalePrice\"] = np.log(train_dummies[\"SalePrice\"])\n",
    "train_encoded[\"SalePrice\"] = np.log(train_encoded[\"SalePrice\"])\n",
    "sns.distplot(train['SalePrice'], color='Red');"
   ]
  },
  {
   "cell_type": "markdown",
   "metadata": {},
   "source": [
    "## Modeling"
   ]
  },
  {
   "cell_type": "code",
   "execution_count": 5,
   "metadata": {},
   "outputs": [],
   "source": [
    "# feature scaling\n",
    "#scaler = StandardScaler()\n",
    "#train_columns = train.columns\n",
    "#train = pd.DataFrame(scaler.fit_transform(train), columns = train_columns)\n",
    "\n",
    "# separate predictors and prediction\n",
    "y = train_dummies[\"SalePrice\"]\n",
    "X = train_dummies.drop(\"SalePrice\", axis=1)\n",
    "\n",
    "ye = train_encoded[\"SalePrice\"]\n",
    "Xe = train_encoded.drop(\"SalePrice\", axis=1)\n",
    "\n",
    "# Train test split\n",
    "X_train, X_test, y_train, y_test = train_test_split(X, y, test_size = .20, random_state = 0)\n",
    "Xe_train, Xe_test, ye_train, ye_test = train_test_split(Xe, ye, test_size = .20, random_state = 0)\n",
    "\n",
    "# df with each score to make a comparison plot later\n",
    "d = {'Model': [], 'Score': []}\n",
    "model_scores_df = pd.DataFrame(data=d)"
   ]
  },
  {
   "cell_type": "markdown",
   "metadata": {},
   "source": [
    "##### Multiple Linear Regression"
   ]
  },
  {
   "cell_type": "code",
   "execution_count": 6,
   "metadata": {},
   "outputs": [
    {
     "name": "stdout",
     "output_type": "stream",
     "text": [
      "R^2 for train_split set: 0.932744\n",
      "R^2 for test_split  set: 0.914361\n",
      "RMSE for test_split  set: 0.113773\n",
      "RMSLE for test_split  set: 0.008784\n",
      "CV RMSE for test_split  set: 0.128056\n"
     ]
    }
   ],
   "source": [
    "lm = LinearRegression()\n",
    "lm.fit(X_train, y_train)\n",
    "print(\"R^2 for train_split set: %f\" %lm.score(X_train, y_train))\n",
    "print(\"R^2 for test_split  set: %f\" %lm.score(X_test, y_test))\n",
    "print(\"RMSE for test_split  set: %f\" %np.sqrt(mean_squared_error(lm.predict(X_test), y_test)))\n",
    "print(\"RMSLE for test_split  set: %f\" %np.sqrt(mean_squared_log_error(lm.predict(X_test), y_test)))\n",
    "\n",
    "scores = cross_val_score(lm, X_train, y_train, scoring=\"neg_mean_squared_error\", cv=10)\n",
    "print(\"CV RMSE for test_split  set: %f\" %np.sqrt(-scores).mean())"
   ]
  },
  {
   "cell_type": "markdown",
   "metadata": {},
   "source": [
    "##### Ridge"
   ]
  },
  {
   "cell_type": "code",
   "execution_count": 7,
   "metadata": {},
   "outputs": [
    {
     "name": "stdout",
     "output_type": "stream",
     "text": [
      "--------------- Alpha = 1 ---------------\n",
      "Training set score: 0.93088\n",
      "Test set score: 0.92027\n",
      "RMSE for test_split  set: 0.109775\n",
      "RMSLE for test_split  set: 0.008473\n",
      "CV RMSE for test_split  set: 0.124239\n",
      "\n",
      "--------------- Alpha = 10 ---------------\n",
      "Training set score: 0.92371\n",
      "Test set score: 0.92030\n",
      "RMSE for test_split  set: 0.109759\n",
      "RMSLE for test_split  set: 0.008467\n",
      "CV RMSE for test_split  set: 0.124204\n",
      "\n",
      "--------------- Alpha = 0.1 ---------------\n",
      "Training set score: 0.93259\n",
      "Test set score: 0.91793\n",
      "RMSE for test_split  set: 0.111373\n",
      "RMSLE for test_split  set: 0.008598\n",
      "CV RMSE for test_split  set: 0.126709\n"
     ]
    }
   ],
   "source": [
    "print('-'*15, 'Alpha = 1', '-'*15)\n",
    "ridge = Ridge(alpha=1).fit(X_train, y_train)\n",
    "print(\"Training set score: {:.5f}\".format(ridge.score(X_train, y_train))) \n",
    "print(\"Test set score: {:.5f}\".format(ridge.score(X_test, y_test)))\n",
    "print(\"RMSE for test_split  set: %f\" %np.sqrt(mean_squared_error(ridge.predict(X_test), y_test)))\n",
    "print(\"RMSLE for test_split  set: %f\" %np.sqrt(mean_squared_log_error(ridge.predict(X_test), y_test)))\n",
    "scores = cross_val_score(ridge, X_train, y_train, scoring=\"neg_mean_squared_error\", cv=10)\n",
    "print(\"CV RMSE for test_split  set: %f\" %np.sqrt(-scores).mean())\n",
    "\n",
    "\n",
    "print()\n",
    "print('-'*15, 'Alpha = 10', '-'*15)\n",
    "\n",
    "ridge10 = Ridge(alpha=10).fit(X_train, y_train)\n",
    "print(\"Training set score: {:.5f}\".format(ridge10.score(X_train, y_train))) \n",
    "print(\"Test set score: {:.5f}\".format(ridge10.score(X_test, y_test)))\n",
    "print(\"RMSE for test_split  set: %f\" %np.sqrt(mean_squared_error(ridge10.predict(X_test), y_test)))\n",
    "print(\"RMSLE for test_split  set: %f\" %np.sqrt(mean_squared_log_error(ridge10.predict(X_test), y_test)))\n",
    "scores = cross_val_score(ridge10, X_train, y_train, scoring=\"neg_mean_squared_error\", cv=10)\n",
    "print(\"CV RMSE for test_split  set: %f\" %np.sqrt(-scores).mean())\n",
    "\n",
    "print()\n",
    "print('-'*15, 'Alpha = 0.1', '-'*15)\n",
    "\n",
    "ridge01 = Ridge(alpha=0.1).fit(X_train, y_train)\n",
    "print(\"Training set score: {:.5f}\".format(ridge01.score(X_train, y_train))) \n",
    "print(\"Test set score: {:.5f}\".format(ridge01.score(X_test, y_test)))\n",
    "print(\"RMSE for test_split  set: %f\" %np.sqrt(mean_squared_error(ridge01.predict(X_test), y_test)))\n",
    "print(\"RMSLE for test_split  set: %f\" %np.sqrt(mean_squared_log_error(ridge01.predict(X_test), y_test)))\n",
    "scores = cross_val_score(ridge01, X_train, y_train, scoring=\"neg_mean_squared_error\", cv=10)\n",
    "print(\"CV RMSE for test_split  set: %f\" %np.sqrt(-scores).mean())\n"
   ]
  },
  {
   "cell_type": "code",
   "execution_count": 8,
   "metadata": {},
   "outputs": [
    {
     "data": {
      "image/png": "[encoded data removed]",
      "text/plain": [
       "<Figure size 432x288 with 1 Axes>"
      ]
     },
     "metadata": {
      "needs_background": "light"
     },
     "output_type": "display_data"
    }
   ],
   "source": [
    "plt.plot(ridge.coef_, 's', label=\"Ridge alpha=1\") \n",
    "plt.plot(ridge10.coef_, '^', label=\"Ridge alpha=10\") \n",
    "plt.plot(ridge01.coef_, 'v', label=\"Ridge alpha=0.1\")\n",
    "plt.plot(lm.coef_, 'o', label=\"LinearRegression\") \n",
    "plt.xlabel(\"Coefficient index\") \n",
    "plt.ylabel(\"Coefficient magnitude\") \n",
    "plt.hlines(0, 0, len(lm.coef_)) \n",
    "plt.legend();"
   ]
  },
  {
   "cell_type": "markdown",
   "metadata": {},
   "source": [
    "##### Lasso"
   ]
  },
  {
   "cell_type": "code",
   "execution_count": 9,
   "metadata": {},
   "outputs": [
    {
     "name": "stdout",
     "output_type": "stream",
     "text": [
      "--------------- Alpha = 1 ---------------\n",
      "Training set score: 0.69\n",
      "Test set score: 0.70\n",
      "Number of features used: 6\n",
      "RMSE for test_split  set: 0.212573\n",
      "RMSLE for test_split  set: 0.016218\n",
      "CV RMSE for test_split  set: 0.223062\n",
      "\n",
      "--------------- Alpha = 0.01 ---------------\n",
      "Training set score: 0.83\n",
      "Test set score: 0.84\n",
      "Number of features used: 23\n",
      "RMSE for test_split  set: 0.157592\n",
      "RMSLE for test_split  set: 0.012073\n",
      "CV RMSE for test_split  set: 0.168512\n",
      "\n",
      "--------------- Alpha = 0.001 ---------------\n",
      "Training set score: 0.91\n",
      "Test set score: 0.92\n",
      "Number of features used: 80\n",
      "RMSE for test_split  set: 0.111277\n",
      "RMSLE for test_split  set: 0.008580\n",
      "CV RMSE for test_split  set: 0.129161\n",
      "\n",
      "--------------- Alpha = 0.0001 ---------------\n",
      "Training set score: 0.93\n",
      "Test set score: 0.92\n",
      "Number of features used: 146\n",
      "RMSE for test_split  set: 0.108485\n",
      "RMSLE for test_split  set: 0.008373\n",
      "CV RMSE for test_split  set: 0.123601\n"
     ]
    }
   ],
   "source": [
    "print('-'*15, 'Alpha = 1', '-'*15)\n",
    "\n",
    "lasso = Lasso(max_iter=100000).fit(X_train, y_train) \n",
    "print(\"Training set score: {:.2f}\".format(lasso.score(X_train, y_train))) \n",
    "print(\"Test set score: {:.2f}\".format(lasso.score(X_test, y_test))) \n",
    "print(\"Number of features used: {}\".format(np.sum(lasso.coef_ != 0)))\n",
    "print(\"RMSE for test_split  set: %f\" %np.sqrt(mean_squared_error(lasso.predict(X_test), y_test)))\n",
    "print(\"RMSLE for test_split  set: %f\" %np.sqrt(mean_squared_log_error(lasso.predict(X_test), y_test)))\n",
    "scores = cross_val_score(lasso, X_train, y_train, scoring=\"neg_mean_squared_error\", cv=10)\n",
    "print(\"CV RMSE for test_split  set: %f\" %np.sqrt(-scores).mean())\n",
    "\n",
    "print()\n",
    "print('-'*15, 'Alpha = 0.01', '-'*15)\n",
    "\n",
    "lasso01 = Lasso(alpha=0.01, max_iter=100000).fit(X_train, y_train) \n",
    "print(\"Training set score: {:.2f}\".format(lasso01.score(X_train, y_train))) \n",
    "print(\"Test set score: {:.2f}\".format(lasso01.score(X_test, y_test))) \n",
    "print(\"Number of features used: {}\".format(np.sum(lasso01.coef_ != 0)))\n",
    "print(\"RMSE for test_split  set: %f\" %np.sqrt(mean_squared_error(lasso01.predict(X_test), y_test)))\n",
    "print(\"RMSLE for test_split  set: %f\" %np.sqrt(mean_squared_log_error(lasso01.predict(X_test), y_test)))\n",
    "scores = cross_val_score(lasso01, X_train, y_train, scoring=\"neg_mean_squared_error\", cv=10)\n",
    "print(\"CV RMSE for test_split  set: %f\" %np.sqrt(-scores).mean())\n",
    "\n",
    "print()\n",
    "print('-'*15, 'Alpha = 0.001', '-'*15)\n",
    "\n",
    "lasso001 = Lasso(alpha=0.001, max_iter=100000).fit(X_train, y_train) \n",
    "print(\"Training set score: {:.2f}\".format(lasso001.score(X_train, y_train))) \n",
    "print(\"Test set score: {:.2f}\".format(lasso001.score(X_test, y_test))) \n",
    "print(\"Number of features used: {}\".format(np.sum(lasso001.coef_ != 0)))\n",
    "print(\"RMSE for test_split  set: %f\" %np.sqrt(mean_squared_error(lasso001.predict(X_test), y_test)))\n",
    "print(\"RMSLE for test_split  set: %f\" %np.sqrt(mean_squared_log_error(lasso001.predict(X_test), y_test)))\n",
    "scores = cross_val_score(lasso001, X_train, y_train, scoring=\"neg_mean_squared_error\", cv=10)\n",
    "print(\"CV RMSE for test_split  set: %f\" %np.sqrt(-scores).mean())\n",
    "\n",
    "print()\n",
    "print('-'*15, 'Alpha = 0.0001', '-'*15)\n",
    "\n",
    "lasso0001 = Lasso(alpha=0.0001, max_iter=100000).fit(X_train, y_train) \n",
    "print(\"Training set score: {:.2f}\".format(lasso0001.score(X_train, y_train))) \n",
    "print(\"Test set score: {:.2f}\".format(lasso0001.score(X_test, y_test))) \n",
    "print(\"Number of features used: {}\".format(np.sum(lasso0001.coef_ != 0)))\n",
    "print(\"RMSE for test_split  set: %f\" %np.sqrt(mean_squared_error(lasso0001.predict(X_test), y_test)))\n",
    "print(\"RMSLE for test_split  set: %f\" %np.sqrt(mean_squared_log_error(lasso0001.predict(X_test), y_test)))\n",
    "scores = cross_val_score(lasso0001, X_train, y_train, scoring=\"neg_mean_squared_error\", cv=10)\n",
    "print(\"CV RMSE for test_split  set: %f\" %np.sqrt(-scores).mean())"
   ]
  },
  {
   "cell_type": "code",
   "execution_count": 10,
   "metadata": {},
   "outputs": [
    {
     "data": {
      "image/png": "[encoded data removed]",
      "text/plain": [
       "<Figure size 432x288 with 1 Axes>"
      ]
     },
     "metadata": {
      "needs_background": "light"
     },
     "output_type": "display_data"
    }
   ],
   "source": [
    "plt.plot(lasso.coef_, 's', label=\"Lasso alpha=1\") \n",
    "plt.plot(lasso001.coef_, '^', label=\"Lasso alpha=0.01\") \n",
    "plt.plot(lasso0001.coef_, 'v', label=\"Lasso alpha=0.0001\")\n",
    "plt.plot(ridge01.coef_, 'o', label=\"Ridge alpha=0.1\") \n",
    "plt.legend()\n",
    "plt.xlabel(\"Coefficient index\") \n",
    "plt.ylabel(\"Coefficient magnitude\");"
   ]
  },
  {
   "cell_type": "markdown",
   "metadata": {},
   "source": [
    "##### ElasticNet"
   ]
  },
  {
   "cell_type": "code",
   "execution_count": 11,
   "metadata": {},
   "outputs": [
    {
     "name": "stdout",
     "output_type": "stream",
     "text": [
      "--------------- normalize=False ---------------\n",
      "The R^2 !normalized is 0.72\n",
      "RMSE for test_split  set: 0.204100\n",
      "RMSLE for test_split  set: 0.015616\n",
      "CV RMSE for test_split  set: 0.212357\n",
      "\n",
      "--------------- normalize=True ---------------\n",
      "The R^2 normalized is 0.00\n",
      "RMSE for test_split  set: 0.389413\n",
      "RMSLE for test_split  set: 0.029747\n",
      "CV RMSE for test_split  set: 0.395819\n"
     ]
    }
   ],
   "source": [
    "print('-'*15, 'normalize=False', '-'*15)\n",
    "\n",
    "elasticnet = ElasticNet(alpha=0.1, l1_ratio=0.5, normalize=False)\n",
    "elasticnet.fit(X, y)\n",
    "print(r'The R^2 !normalized is %.2f' %(elasticnet.score(X, y)))\n",
    "print(\"RMSE for test_split  set: %f\" %np.sqrt(mean_squared_error(elasticnet.predict(X_test), y_test)))\n",
    "print(\"RMSLE for test_split  set: %f\" %np.sqrt(mean_squared_log_error(elasticnet.predict(X_test), y_test)))\n",
    "scores = cross_val_score(elasticnet, X_train, y_train, scoring=\"neg_mean_squared_error\", cv=10)\n",
    "print(\"CV RMSE for test_split  set: %f\" %np.sqrt(-scores).mean())\n",
    "\n",
    "print()\n",
    "print('-'*15, 'normalize=True', '-'*15)\n",
    "\n",
    "elasticnetNorm = ElasticNet(alpha=0.1, l1_ratio=0.5, normalize=True)\n",
    "elasticnetNorm.fit(X, y)\n",
    "print(r'The R^2 normalized is %.2f' %(elasticnetNorm.score(X, y)))\n",
    "print(\"RMSE for test_split  set: %f\" %np.sqrt(mean_squared_error(elasticnetNorm.predict(X_test), y_test)))\n",
    "print(\"RMSLE for test_split  set: %f\" %np.sqrt(mean_squared_log_error(elasticnetNorm.predict(X_test), y_test)))\n",
    "scores = cross_val_score(elasticnetNorm, X_train, y_train, scoring=\"neg_mean_squared_error\", cv=10)\n",
    "print(\"CV RMSE for test_split  set: %f\" %np.sqrt(-scores).mean())"
   ]
  },
  {
   "cell_type": "markdown",
   "metadata": {},
   "source": [
    "#### Gradient Boosting Regressor"
   ]
  },
  {
   "cell_type": "code",
   "execution_count": 12,
   "metadata": {},
   "outputs": [
    {
     "name": "stdout",
     "output_type": "stream",
     "text": [
      "RMSE for test_split  set: 0.110520\n",
      "RMSLE for test_split  set: 0.008470\n",
      "CV RMSE for test_split  set: 0.138713\n"
     ]
    }
   ],
   "source": [
    "gbm = GradientBoostingRegressor().fit(X_train, y_train)\n",
    "print(\"RMSE for test_split  set: %f\" %np.sqrt(mean_squared_error(gbm.predict(X_test), y_test)))\n",
    "print(\"RMSLE for test_split  set: %f\" %np.sqrt(mean_squared_log_error(gbm.predict(X_test), y_test)))\n",
    "scores = cross_val_score(gbm, X_train, y_train, scoring=\"neg_mean_squared_error\", cv=10)\n",
    "print(\"CV RMSE for test_split  set: %f\" %np.sqrt(-scores).mean())"
   ]
  },
  {
   "cell_type": "markdown",
   "metadata": {},
   "source": [
    "##### LightGBM"
   ]
  },
  {
   "cell_type": "code",
   "execution_count": 13,
   "metadata": {},
   "outputs": [
    {
     "name": "stdout",
     "output_type": "stream",
     "text": [
      "RMSE for test_split  set: 0.111043\n",
      "RMSLE for test_split  set: 0.008562\n",
      "CV RMSE for test_split  set: 0.139503\n"
     ]
    }
   ],
   "source": [
    "lightgbm = LGBMRegressor(objective='regression').fit(X_train, y_train)\n",
    "print(\"RMSE for test_split  set: %f\" %np.sqrt(mean_squared_error(lightgbm.predict(X_test), y_test)))\n",
    "print(\"RMSLE for test_split  set: %f\" %np.sqrt(mean_squared_log_error(lightgbm.predict(X_test), y_test)))\n",
    "scores = cross_val_score(lightgbm, X_train, y_train, scoring=\"neg_mean_squared_error\", cv=10)\n",
    "print(\"CV RMSE for test_split  set: %f\" %np.sqrt(-scores).mean())"
   ]
  },
  {
   "cell_type": "markdown",
   "metadata": {},
   "source": [
    "#### XGBoost"
   ]
  },
  {
   "cell_type": "code",
   "execution_count": 14,
   "metadata": {},
   "outputs": [
    {
     "name": "stdout",
     "output_type": "stream",
     "text": [
      "RMSE for test_split  set: 0.130974\n",
      "RMSLE for test_split  set: 0.010103\n",
      "CV RMSE for test_split  set: 0.146433\n"
     ]
    }
   ],
   "source": [
    "xgboost = XGBRegressor().fit(X_train, y_train)\n",
    "print(\"RMSE for test_split  set: %f\" %np.sqrt(mean_squared_error(xgboost.predict(X_test), y_test)))\n",
    "print(\"RMSLE for test_split  set: %f\" %np.sqrt(mean_squared_log_error(xgboost.predict(X_test), y_test)))\n",
    "scores = cross_val_score(xgboost, X_train, y_train, scoring=\"neg_mean_squared_error\", cv=10)\n",
    "print(\"CV RMSE for test_split  set: %f\" %np.sqrt(-scores).mean())\n",
    "\n",
    "# insert into model_scores_df\n",
    "#model_scores_df = model_scores_df.append({'Model': 'XGBoost', 'Score': score.mean()}, ignore_index=True)"
   ]
  },
  {
   "cell_type": "markdown",
   "metadata": {},
   "source": [
    "#### Random Forest Regressor"
   ]
  },
  {
   "cell_type": "code",
   "execution_count": 19,
   "metadata": {},
   "outputs": [
    {
     "name": "stdout",
     "output_type": "stream",
     "text": [
      "RMSE for test_split  set: 0.130098\n"
     ]
    }
   ],
   "source": [
    "forest = RandomForestRegressor() \n",
    "forest.fit(Xe_train, ye_train)\n",
    "\n",
    "print(\"RMSE for test_split  set: %f\" %np.sqrt(mean_squared_error(forest.predict(Xe_test), ye_test)))"
   ]
  },
  {
   "cell_type": "markdown",
   "metadata": {},
   "source": [
    "#### Random Forest Grid Search"
   ]
  },
  {
   "cell_type": "code",
   "execution_count": 20,
   "metadata": {
    "scrolled": false
   },
   "outputs": [],
   "source": [
    "#grid_para_tree = [{'n_estimators': range(200,300,10), 'max_features': range(20,40)}]\n",
    "\n",
    "#forest_reg = RandomForestRegressor()\n",
    "#grid_search = GridSearchCV(forest_reg, grid_para_tree, cv=5, scoring='neg_mean_squared_error')\n",
    "#grid_search.fit(Xe_train, ye_train)\n",
    "\n",
    "#grid_search.best_params_, grid_search.best_estimator_"
   ]
  },
  {
   "cell_type": "code",
   "execution_count": null,
   "metadata": {},
   "outputs": [],
   "source": [
    "#cvres = grid_search.cv_results_\n",
    "#for mean_score, params in zip(cvres[\"mean_test_score\"], cvres[\"params\"]): \n",
    "#    print(np.sqrt(-mean_score), params)"
   ]
  },
  {
   "cell_type": "markdown",
   "metadata": {},
   "source": [
    "#### Decision Tree Regressor"
   ]
  },
  {
   "cell_type": "code",
   "execution_count": 22,
   "metadata": {},
   "outputs": [
    {
     "name": "stdout",
     "output_type": "stream",
     "text": [
      "RMSE for test_split  set: 0.192894\n"
     ]
    }
   ],
   "source": [
    "tree_reg = DecisionTreeRegressor()\n",
    "tree_reg.fit(Xe_train, ye_train)\n",
    "\n",
    "print(\"RMSE for test_split  set: %f\" %np.sqrt(mean_squared_error(tree_reg.predict(Xe_test), ye_test)))"
   ]
  },
  {
   "cell_type": "markdown",
   "metadata": {},
   "source": [
    "#### Comparison"
   ]
  },
  {
   "cell_type": "code",
   "execution_count": null,
   "metadata": {},
   "outputs": [],
   "source": [
    "# Plot the predictions for each model\n",
    "#fig = plt.figure(figsize=(24, 12))\n",
    "#ax = sns.pointplot(x='Model', y='Score', data=model_scores_df)\n",
    "\n",
    "#plt.ylabel('RMSE', size=20, labelpad=12.5)\n",
    "#plt.xlabel('Model', size=20, labelpad=12.5)\n",
    "#plt.tick_params(axis='x', labelsize=13.5)\n",
    "#plt.tick_params(axis='y', labelsize=12.5)\n",
    "\n",
    "#plt.show()"
   ]
  }
 ],
 "metadata": {
  "kernelspec": {
   "display_name": "Python 3",
   "language": "python",
   "name": "python3"
  },
  "language_info": {
   "codemirror_mode": {
    "name": "ipython",
    "version": 3
   },
   "file_extension": ".py",
   "mimetype": "text/x-python",
   "name": "python",
   "nbconvert_exporter": "python",
   "pygments_lexer": "ipython3",
   "version": "3.7.4"
  }
 },
 "nbformat": 4,
 "nbformat_minor": 2
}
