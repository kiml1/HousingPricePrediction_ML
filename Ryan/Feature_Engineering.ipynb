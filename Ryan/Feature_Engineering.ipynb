{
 "cells": [
  {
   "cell_type": "markdown",
   "metadata": {},
   "source": [
    "# Data Preprocessing and Feature Engineering"
   ]
  },
  {
   "cell_type": "code",
   "execution_count": 1,
   "metadata": {},
   "outputs": [],
   "source": [
    "import pandas as pd\n",
    "import numpy as np\n",
    "from matplotlib import pyplot as plt\n",
    "import seaborn as sns\n",
    "%matplotlib inline\n",
    "plt.rcParams['figure.figsize'] = (9, 6)\n",
    "sns.set(style = \"whitegrid\")\n",
    "pd.set_option('display.max_columns', 500)\n",
    "pd.set_option('display.max_rows', 500)"
   ]
  },
  {
   "cell_type": "markdown",
   "metadata": {},
   "source": [
    "## Load Data"
   ]
  },
  {
   "cell_type": "code",
   "execution_count": 62,
   "metadata": {},
   "outputs": [],
   "source": [
    "train = pd.read_csv(\"../train.csv\", index_col = \"Id\")\n",
    "test = pd.read_csv(\"../test.csv\", index_col = \"Id\")"
   ]
  },
  {
   "cell_type": "markdown",
   "metadata": {},
   "source": [
    "## Feature Transformation based on EDA"
   ]
  },
  {
   "cell_type": "code",
   "execution_count": 9,
   "metadata": {},
   "outputs": [],
   "source": [
    "# TotalBsmtSF is a linear combination of BsmtFinSF1, BsmtFinSF2, and BsmtUnfSF\n",
    "# Also, TotalBsmtSF is highly correlated to 1stFlrSF\n",
    "train.drop(\"BsmtFinSF1\", axis = 1, inplace = True)\n",
    "train.drop(\"BsmtFinSF2\", axis = 1, inplace = True)\n",
    "train.drop(\"BsmtUnfSF\", axis = 1, inplace = True)\n",
    "train.drop(\"TotalBsmtSF\", axis = 1, inplace = True)"
   ]
  },
  {
   "cell_type": "code",
   "execution_count": 56,
   "metadata": {},
   "outputs": [],
   "source": [
    "# Drop 1st, 2nd Floor, and LowQualFin SF since there is GrLivArea(The combo of three) \n",
    "#and create a dummy for 2nd Floor\n",
    "train[\"SecondFlr\"] = train[\"2ndFlrSF\"].apply(lambda x: 1 if x > 0 else 0)\n",
    "train.drop(\"1stFlrSF\", axis = 1, inplace = True)\n",
    "train.drop(\"2ndFlrSF\", axis = 1, inplace = True)\n",
    "train.drop(\"LowQualFinSF\", axis = 1, inplace = True)"
   ]
  },
  {
   "cell_type": "code",
   "execution_count": 23,
   "metadata": {},
   "outputs": [],
   "source": [
    "# Combine the SF for Porch since, except OpenPorchSF, all three are zero inflated\n",
    "train[\"PorchSF\"] = train[\"OpenPorchSF\"]+train[\"EnclosedPorch\"]+train[\"3SsnPorch\"]+train[\"ScreenPorch\"]\n",
    "train.drop(\"OpenPorchSF\", axis = 1, inplace = True)\n",
    "train.drop(\"EnclosedPorch\", axis = 1, inplace = True)\n",
    "train.drop(\"3SsnPorch\", axis = 1, inplace = True)\n",
    "train.drop(\"ScreenPorch\", axis = 1, inplace = True)"
   ]
  },
  {
   "cell_type": "code",
   "execution_count": 32,
   "metadata": {},
   "outputs": [],
   "source": [
    "# BedroomAbvGr is a part of TotRmsAbvGrd, hence highly correlated to TotRmsAbvGrd\n",
    "# Therefore, separate extra rooms from bedrooms \n",
    "train[\"ExtraRoom\"] = train[\"TotRmsAbvGrd\"] - train[\"BedroomAbvGr\"]\n",
    "train.drop(\"TotRmsAbvGrd\", axis = 1, inplace = True)\n",
    "train.drop(\"BedroomAbvGr\", axis = 1, inplace = True)"
   ]
  },
  {
   "cell_type": "code",
   "execution_count": null,
   "metadata": {},
   "outputs": [],
   "source": [
    "# GarageYrBlt is highly correlated to YearBuilt\n",
    "train.drop(\"GarageYrBlt\", axis = 1, inplace = True)\n",
    "# GarageCars is highly correlated to GarageArea\n",
    "# Yet GarageCars is more highly correlated to SalePrice\n",
    "train.drop(\"GarageArea\", axis = 1, inplace = True)"
   ]
  },
  {
   "cell_type": "code",
   "execution_count": 48,
   "metadata": {},
   "outputs": [],
   "source": [
    "# Create SinceRemod that takes into account how many years past since remodelling and before sold\n",
    "# Drop YearSold and YearBuilt, since they are correlated to SinceRemod\n",
    "# But SinceRemod is more highly correlated to SalePrice\n",
    "train[\"SinceRemod\"] = train[\"YrSold\"] - train[\"YearRemodAdd\"]\n",
    "train.drop(\"YearRemodAdd\", axis = 1, inplace = True)\n",
    "train.drop(\"YrSold\", axis = 1, inplace = True)\n",
    "train.drop(\"YearBuilt\", aixs = 1, inplace = True)"
   ]
  },
  {
   "cell_type": "code",
   "execution_count": 60,
   "metadata": {},
   "outputs": [],
   "source": [
    "# Combine fullbaths and halfbaths\n",
    "# needs imputation of missing NaN before tho\n",
    "train[\"FullBaths\"] = train[\"BsmtFullBath\"] + train[\"FullBath\"]\n",
    "train[\"HalfBaths\"] = train[\"BsmtHalfBath\"] + train[\"HalfBath\"]"
   ]
  },
  {
   "cell_type": "code",
   "execution_count": 70,
   "metadata": {},
   "outputs": [],
   "source": [
    "# Combine the irregular categories of LotShape together\n",
    "train[\"LotShape\"] = train[\"LotShape\"].apply(lambda x: \"IR\" \n",
    "                        if ((x == \"IR1\") | (x == \"IR2\") | (x == \"IR3\")) \n",
    "                        else x)"
   ]
  },
  {
   "cell_type": "code",
   "execution_count": 76,
   "metadata": {},
   "outputs": [],
   "source": [
    "# Combine the categories into Attached and Detached Garages\n",
    "garagetype_ord = {\"BuiltIn\":\"Attchd\", \"Basment\": \"Attchd\", \"CarPort\": \"Detchd\", \"2Types\": \"Attchd\"}\n",
    "train[\"GarageType\"] = train[\"GarageType\"].replace(garagetype_ord)"
   ]
  },
  {
   "cell_type": "code",
   "execution_count": null,
   "metadata": {},
   "outputs": [],
   "source": [
    "masvnrarea lotfrontage lotarea lotconfig "
   ]
  },
  {
   "cell_type": "code",
   "execution_count": null,
   "metadata": {},
   "outputs": [],
   "source": []
  },
  {
   "cell_type": "code",
   "execution_count": null,
   "metadata": {},
   "outputs": [],
   "source": [
    "# MSSubClass is a combination of HouseStyle, BdlgType, YearBuilt, YearRemodAdd\n",
    "train.drop(\"MsSubClass\", axis= 1, inplace = True)"
   ]
  },
  {
   "cell_type": "code",
   "execution_count": 86,
   "metadata": {},
   "outputs": [],
   "source": [
    "# drop columns that are Zero-inflated or has mostly one category\n",
    "train.drop(\"MiscVal\", axis = 1, inplace = True)\n",
    "train.drop(\"Street\", axis = 1, inplace = True)\n",
    "train.drop(\"Alley\", axis = 1, inplace = True)\n",
    "train.drop(\"Utilities\", axis = 1, inplace = True)\n",
    "train.drop(\"Condition2\", axis = 1, inplace = True)\n",
    "train.drop(\"RoofMatl\", axis = 1, inplace = True)\n",
    "train.drop(\"BsmtFinType2\", axis = 1, inplace = True)\n",
    "train.drop(\"Heating\", axis = 1, inplace = True)\n",
    "train.drop(\"Fence\", axis = 1, inplace = True)\n",
    "train.drop(\"LandSlope\", axis = 1, inplace = True)\n",
    "train.drop(\"MiscFeature\", axis = 1, inplace = True)\n"
   ]
  },
  {
   "cell_type": "code",
   "execution_count": 93,
   "metadata": {},
   "outputs": [],
   "source": [
    "# Combine the land contours that are not flat/level\n",
    "landcont_ord = {\"Bnk\":\"NotLvl\",\"HLS\":\"NotLvl\",\"Low\":\"NotLvl\"}\n",
    "train[\"LandContour\"] = train[\"LandContour\"].replace(landcont_ord)"
   ]
  },
  {
   "cell_type": "code",
   "execution_count": 98,
   "metadata": {},
   "outputs": [],
   "source": [
    "# Combine Condition1 categories that are not normal\n",
    "train[\"Condition1\"] = train[\"Condition1\"].apply(lambda x: \"Abnorm\" if x != \"Norm\" else x)"
   ]
  },
  {
   "cell_type": "code",
   "execution_count": 106,
   "metadata": {},
   "outputs": [],
   "source": [
    "# Combine Functional categories that are not typical\n",
    "train[\"Functional\"] = train[\"Functional\"].apply(lambda x: \"Nottyp\" if x != \"Typ\" else x)"
   ]
  },
  {
   "cell_type": "code",
   "execution_count": 104,
   "metadata": {},
   "outputs": [],
   "source": [
    "# Combine SaleType and SaleCondition category that are not conventional\n",
    "train[\"SaleType\"] = train[\"SaleType\"].apply(lambda x: \"Unconv\" if x != \"WD\" else x)\n",
    "train[\"SaleCondition\"] = train[\"SaleCondition\"].apply(lambda x: \"Unconv\" if x != \"Normal\" else x)"
   ]
  },
  {
   "cell_type": "code",
   "execution_count": null,
   "metadata": {},
   "outputs": [],
   "source": []
  },
  {
   "cell_type": "code",
   "execution_count": null,
   "metadata": {},
   "outputs": [],
   "source": []
  },
  {
   "cell_type": "code",
   "execution_count": null,
   "metadata": {},
   "outputs": [],
   "source": []
  },
  {
   "cell_type": "code",
   "execution_count": null,
   "metadata": {},
   "outputs": [],
   "source": []
  },
  {
   "cell_type": "code",
   "execution_count": null,
   "metadata": {},
   "outputs": [],
   "source": []
  },
  {
   "cell_type": "code",
   "execution_count": null,
   "metadata": {},
   "outputs": [],
   "source": []
  },
  {
   "cell_type": "markdown",
   "metadata": {},
   "source": [
    "### Dealing with missing values"
   ]
  },
  {
   "cell_type": "code",
   "execution_count": 6,
   "metadata": {},
   "outputs": [
    {
     "data": {
      "text/html": [
       "<div>\n",
       "<style scoped>\n",
       "    .dataframe tbody tr th:only-of-type {\n",
       "        vertical-align: middle;\n",
       "    }\n",
       "\n",
       "    .dataframe tbody tr th {\n",
       "        vertical-align: top;\n",
       "    }\n",
       "\n",
       "    .dataframe thead th {\n",
       "        text-align: right;\n",
       "    }\n",
       "</style>\n",
       "<table border=\"1\" class=\"dataframe\">\n",
       "  <thead>\n",
       "    <tr style=\"text-align: right;\">\n",
       "      <th></th>\n",
       "      <th>Count_NaN</th>\n",
       "    </tr>\n",
       "  </thead>\n",
       "  <tbody>\n",
       "    <tr>\n",
       "      <th>PoolQC</th>\n",
       "      <td>1453</td>\n",
       "    </tr>\n",
       "    <tr>\n",
       "      <th>MiscFeature</th>\n",
       "      <td>1406</td>\n",
       "    </tr>\n",
       "    <tr>\n",
       "      <th>Alley</th>\n",
       "      <td>1369</td>\n",
       "    </tr>\n",
       "    <tr>\n",
       "      <th>Fence</th>\n",
       "      <td>1179</td>\n",
       "    </tr>\n",
       "    <tr>\n",
       "      <th>FireplaceQu</th>\n",
       "      <td>690</td>\n",
       "    </tr>\n",
       "    <tr>\n",
       "      <th>LotFrontage</th>\n",
       "      <td>259</td>\n",
       "    </tr>\n",
       "    <tr>\n",
       "      <th>GarageCond</th>\n",
       "      <td>81</td>\n",
       "    </tr>\n",
       "    <tr>\n",
       "      <th>GarageType</th>\n",
       "      <td>81</td>\n",
       "    </tr>\n",
       "    <tr>\n",
       "      <th>GarageYrBlt</th>\n",
       "      <td>81</td>\n",
       "    </tr>\n",
       "    <tr>\n",
       "      <th>GarageFinish</th>\n",
       "      <td>81</td>\n",
       "    </tr>\n",
       "    <tr>\n",
       "      <th>GarageQual</th>\n",
       "      <td>81</td>\n",
       "    </tr>\n",
       "    <tr>\n",
       "      <th>BsmtExposure</th>\n",
       "      <td>38</td>\n",
       "    </tr>\n",
       "    <tr>\n",
       "      <th>BsmtFinType2</th>\n",
       "      <td>38</td>\n",
       "    </tr>\n",
       "    <tr>\n",
       "      <th>BsmtFinType1</th>\n",
       "      <td>37</td>\n",
       "    </tr>\n",
       "    <tr>\n",
       "      <th>BsmtCond</th>\n",
       "      <td>37</td>\n",
       "    </tr>\n",
       "    <tr>\n",
       "      <th>BsmtQual</th>\n",
       "      <td>37</td>\n",
       "    </tr>\n",
       "    <tr>\n",
       "      <th>MasVnrArea</th>\n",
       "      <td>8</td>\n",
       "    </tr>\n",
       "    <tr>\n",
       "      <th>MasVnrType</th>\n",
       "      <td>8</td>\n",
       "    </tr>\n",
       "    <tr>\n",
       "      <th>Electrical</th>\n",
       "      <td>1</td>\n",
       "    </tr>\n",
       "  </tbody>\n",
       "</table>\n",
       "</div>"
      ],
      "text/plain": [
       "              Count_NaN\n",
       "PoolQC             1453\n",
       "MiscFeature        1406\n",
       "Alley              1369\n",
       "Fence              1179\n",
       "FireplaceQu         690\n",
       "LotFrontage         259\n",
       "GarageCond           81\n",
       "GarageType           81\n",
       "GarageYrBlt          81\n",
       "GarageFinish         81\n",
       "GarageQual           81\n",
       "BsmtExposure         38\n",
       "BsmtFinType2         38\n",
       "BsmtFinType1         37\n",
       "BsmtCond             37\n",
       "BsmtQual             37\n",
       "MasVnrArea            8\n",
       "MasVnrType            8\n",
       "Electrical            1"
      ]
     },
     "execution_count": 6,
     "metadata": {},
     "output_type": "execute_result"
    }
   ],
   "source": [
    "missing = pd.DataFrame(features.isna().sum().sort_values(ascending=False), columns = [\"Count_NaN\"])\n",
    "missing[missing[\"Count_NaN\"] > 0]"
   ]
  },
  {
   "cell_type": "code",
   "execution_count": 7,
   "metadata": {},
   "outputs": [],
   "source": [
    "# PoolQC, MiscFeature, Alley, Fence are missing not at random.\n",
    "# They are missing simply because the houses do not have those features.\n",
    "# I will drop PoolQC, MiscFeature, Alley, Fence because there are just too many houses without those features.\n",
    "# These variable won't have much predictive power. \n",
    "features.drop([\"PoolQC\",\"MiscFeature\",\"Alley\",\"Fence\"], axis = 1, inplace = True)"
   ]
  },
  {
   "cell_type": "markdown",
   "metadata": {},
   "source": [
    "#### Imputing Missing Values"
   ]
  },
  {
   "cell_type": "code",
   "execution_count": 8,
   "metadata": {},
   "outputs": [],
   "source": [
    "# non-existant\n",
    "features[\"FireplaceQu\"].fillna(\"No\", inplace = True)\n",
    "\n",
    "# LotFrontage may be similar for houses in the same neighborhood\n",
    "features[\"LotFrontage\"] = features.groupby(\"Neighborhood\")[\"LotFrontage\"].transform(lambda x: x.fillna(x.mean()))\n",
    "\n",
    "# non-existant\n",
    "features[\"GarageYrBlt\"].fillna(0, inplace = True)\n",
    "features.fillna({\"GarageCond\":\"No\",\"GarageType\":\"No\",\"GarageFinish\":\"No\",\"GarageQual\":\"No\"}, inplace = True)\n",
    "\n",
    "# non-existant\n",
    "features.fillna({\"BsmtExposure\":\"No\",\"BsmtFinType2\":\"No\",\n",
    "                 \"BsmtFinType1\":\"No\",\"BsmtCond\":\"No\",\"BsmtQual\":\"No\"}, inplace = True)\n",
    "\n",
    "# non-existant\n",
    "features[\"MasVnrArea\"].fillna(0, inplace = True)\n",
    "features[\"MasVnrType\"].fillna(\"None\", inplace = True)\n",
    "\n",
    "# Vast majority of the Electrical is SBrkr\n",
    "features[\"Electrical\"].fillna(\"SBrkr\", inplace = True)"
   ]
  },
  {
   "cell_type": "code",
   "execution_count": 13,
   "metadata": {},
   "outputs": [
    {
     "data": {
      "text/plain": [
       "MSSubClass       False\n",
       "MSZoning         False\n",
       "LotFrontage      False\n",
       "LotArea          False\n",
       "Street           False\n",
       "LotShape         False\n",
       "LandContour      False\n",
       "Utilities        False\n",
       "LotConfig        False\n",
       "LandSlope        False\n",
       "Neighborhood     False\n",
       "Condition1       False\n",
       "Condition2       False\n",
       "BldgType         False\n",
       "HouseStyle       False\n",
       "OverallQual      False\n",
       "OverallCond      False\n",
       "YearBuilt        False\n",
       "YearRemodAdd     False\n",
       "RoofStyle        False\n",
       "RoofMatl         False\n",
       "Exterior1st      False\n",
       "Exterior2nd      False\n",
       "MasVnrType       False\n",
       "MasVnrArea       False\n",
       "ExterQual        False\n",
       "ExterCond        False\n",
       "Foundation       False\n",
       "BsmtQual         False\n",
       "BsmtCond         False\n",
       "BsmtExposure     False\n",
       "BsmtFinType1     False\n",
       "BsmtFinSF1       False\n",
       "BsmtFinType2     False\n",
       "BsmtFinSF2       False\n",
       "BsmtUnfSF        False\n",
       "TotalBsmtSF      False\n",
       "Heating          False\n",
       "HeatingQC        False\n",
       "CentralAir       False\n",
       "Electrical       False\n",
       "1stFlrSF         False\n",
       "2ndFlrSF         False\n",
       "LowQualFinSF     False\n",
       "GrLivArea        False\n",
       "BsmtFullBath     False\n",
       "BsmtHalfBath     False\n",
       "FullBath         False\n",
       "HalfBath         False\n",
       "BedroomAbvGr     False\n",
       "KitchenAbvGr     False\n",
       "KitchenQual      False\n",
       "TotRmsAbvGrd     False\n",
       "Functional       False\n",
       "Fireplaces       False\n",
       "FireplaceQu      False\n",
       "GarageType       False\n",
       "GarageYrBlt      False\n",
       "GarageFinish     False\n",
       "GarageCars       False\n",
       "GarageArea       False\n",
       "GarageQual       False\n",
       "GarageCond       False\n",
       "PavedDrive       False\n",
       "WoodDeckSF       False\n",
       "OpenPorchSF      False\n",
       "EnclosedPorch    False\n",
       "3SsnPorch        False\n",
       "ScreenPorch      False\n",
       "PoolArea         False\n",
       "MiscVal          False\n",
       "MoSold           False\n",
       "YrSold           False\n",
       "SaleType         False\n",
       "SaleCondition    False\n",
       "dtype: bool"
      ]
     },
     "execution_count": 13,
     "metadata": {},
     "output_type": "execute_result"
    }
   ],
   "source": [
    "features.isna().any()"
   ]
  },
  {
   "cell_type": "code",
   "execution_count": null,
   "metadata": {},
   "outputs": [],
   "source": []
  },
  {
   "cell_type": "code",
   "execution_count": null,
   "metadata": {},
   "outputs": [],
   "source": []
  },
  {
   "cell_type": "code",
   "execution_count": null,
   "metadata": {},
   "outputs": [],
   "source": []
  },
  {
   "cell_type": "code",
   "execution_count": null,
   "metadata": {},
   "outputs": [],
   "source": []
  },
  {
   "cell_type": "code",
   "execution_count": null,
   "metadata": {},
   "outputs": [],
   "source": []
  },
  {
   "cell_type": "code",
   "execution_count": null,
   "metadata": {},
   "outputs": [],
   "source": []
  },
  {
   "cell_type": "markdown",
   "metadata": {},
   "source": [
    "# Data Description"
   ]
  },
  {
   "cell_type": "markdown",
   "metadata": {},
   "source": []
  },
  {
   "cell_type": "code",
   "execution_count": null,
   "metadata": {},
   "outputs": [],
   "source": []
  }
 ],
 "metadata": {
  "kernelspec": {
   "display_name": "Python 3",
   "language": "python",
   "name": "python3"
  },
  "language_info": {
   "codemirror_mode": {
    "name": "ipython",
    "version": 3
   },
   "file_extension": ".py",
   "mimetype": "text/x-python",
   "name": "python",
   "nbconvert_exporter": "python",
   "pygments_lexer": "ipython3",
   "version": "3.7.6"
  },
  "toc": {
   "base_numbering": 1,
   "nav_menu": {},
   "number_sections": true,
   "sideBar": true,
   "skip_h1_title": false,
   "title_cell": "Table of Contents",
   "title_sidebar": "Contents",
   "toc_cell": false,
   "toc_position": {},
   "toc_section_display": true,
   "toc_window_display": false
  },
  "varInspector": {
   "cols": {
    "lenName": 16,
    "lenType": 16,
    "lenVar": 40
   },
   "kernels_config": {
    "python": {
     "delete_cmd_postfix": "",
     "delete_cmd_prefix": "del ",
     "library": "var_list.py",
     "varRefreshCmd": "print(var_dic_list())"
    },
    "r": {
     "delete_cmd_postfix": ") ",
     "delete_cmd_prefix": "rm(",
     "library": "var_list.r",
     "varRefreshCmd": "cat(var_dic_list()) "
    }
   },
   "types_to_exclude": [
    "module",
    "function",
    "builtin_function_or_method",
    "instance",
    "_Feature"
   ],
   "window_display": false
  }
 },
 "nbformat": 4,
 "nbformat_minor": 4
}
