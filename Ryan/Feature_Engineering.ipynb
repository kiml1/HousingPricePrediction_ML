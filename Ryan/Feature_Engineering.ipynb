{
 "cells": [
  {
   "cell_type": "markdown",
   "metadata": {},
   "source": [
    "# Feature Engineering and Feature Selection"
   ]
  },
  {
   "cell_type": "code",
   "execution_count": 1,
   "metadata": {},
   "outputs": [],
   "source": [
    "import pandas as pd\n",
    "import numpy as np\n",
    "from matplotlib import pyplot as plt\n",
    "import seaborn as sns\n",
    "%matplotlib inline\n",
    "plt.rcParams['figure.figsize'] = (9, 6)\n",
    "sns.set(style = \"whitegrid\")\n",
    "pd.set_option('display.max_columns', 500)\n",
    "pd.set_option('display.max_rows', 500)"
   ]
  },
  {
   "cell_type": "markdown",
   "metadata": {},
   "source": [
    "## Load Data"
   ]
  },
  {
   "cell_type": "code",
   "execution_count": 2,
   "metadata": {},
   "outputs": [],
   "source": [
    "train = pd.read_csv(\"../train.csv\", index_col = \"Id\")\n",
    "test = pd.read_csv(\"../test.csv\", index_col = \"Id\")"
   ]
  },
  {
   "cell_type": "markdown",
   "metadata": {},
   "source": [
    "## Feature Transformation based on EDA"
   ]
  },
  {
   "cell_type": "markdown",
   "metadata": {},
   "source": [
    "### Features from 10 critical factors"
   ]
  },
  {
   "cell_type": "code",
   "execution_count": 3,
   "metadata": {},
   "outputs": [],
   "source": [
    "def imp_feat_eng(df):\n",
    "    # TotalBsmtSF is a linear combination of BsmtFinSF1, BsmtFinSF2, and BsmtUnfSF\n",
    "    # Also, TotalBsmtSF is highly correlated to 1stFlrSF\n",
    "    df.drop(\"BsmtFinSF1\", axis = 1, inplace = True)\n",
    "    df.drop(\"BsmtFinSF2\", axis = 1, inplace = True)\n",
    "    df.drop(\"BsmtUnfSF\", axis = 1, inplace = True)\n",
    "    df.drop(\"TotalBsmtSF\", axis = 1, inplace = True)\n",
    "\n",
    "    # Drop 1st, 2nd Floor, and LowQualFin SF since there is GrLivArea(The combo of three) \n",
    "    #and create a dummy for 2nd Floor\n",
    "    df[\"SecondFlr\"] = df[\"2ndFlrSF\"].apply(lambda x: 1 if x > 0 else 0)\n",
    "    df.drop(\"1stFlrSF\", axis = 1, inplace = True)\n",
    "    df.drop(\"2ndFlrSF\", axis = 1, inplace = True)\n",
    "    df.drop(\"LowQualFinSF\", axis = 1, inplace = True)\n",
    "\n",
    "    # Combine the SF for Porch since, except OpenPorchSF, all three are zero inflated\n",
    "    df[\"PorchSF\"] = df[\"OpenPorchSF\"]+df[\"EnclosedPorch\"]+df[\"3SsnPorch\"]+df[\"ScreenPorch\"]\n",
    "    df.drop(\"OpenPorchSF\", axis = 1, inplace = True)\n",
    "    df.drop(\"EnclosedPorch\", axis = 1, inplace = True)\n",
    "    df.drop(\"3SsnPorch\", axis = 1, inplace = True)\n",
    "    df.drop(\"ScreenPorch\", axis = 1, inplace = True)\n",
    "\n",
    "    # BedroomAbvGr is a part of TotRmsAbvGrd, hence highly correlated to TotRmsAbvGrd\n",
    "    # Therefore, separate extra rooms from bedrooms \n",
    "    df[\"ExtraRoom\"] = df[\"TotRmsAbvGrd\"] - df[\"BedroomAbvGr\"]\n",
    "    df.drop(\"TotRmsAbvGrd\", axis = 1, inplace = True)\n",
    "\n",
    "    # GarageYrBlt is highly correlated to YearBuilt\n",
    "    df.drop(\"GarageYrBlt\", axis = 1, inplace = True)\n",
    "    # GarageCars is highly correlated to GarageArea\n",
    "    # Yet GarageCars is more highly correlated to SalePrice\n",
    "    df.drop(\"GarageArea\", axis = 1, inplace = True)\n",
    "\n",
    "    # Create SinceRemod that takes into account how many years past since remodelling and before sold\n",
    "    # Drop YearSold and YearBuilt, since they are correlated to SinceRemod\n",
    "    # But SinceRemod is more highly correlated to SalePrice\n",
    "    df[\"SinceRemod\"] = df[\"YrSold\"] - df[\"YearRemodAdd\"]\n",
    "    df.drop(\"YearRemodAdd\", axis = 1, inplace = True)\n",
    "    df.drop(\"YrSold\", axis = 1, inplace = True)\n",
    "    df.drop(\"YearBuilt\", axis = 1, inplace = True)\n",
    "\n",
    "    # Combine fullbaths and halfbaths\n",
    "    # needs imputation of missing NaN before tho\n",
    "    df[\"FullBaths\"] = df[\"BsmtFullBath\"] + df[\"FullBath\"]\n",
    "    df[\"HalfBaths\"] = df[\"BsmtHalfBath\"] + df[\"HalfBath\"]\n",
    "    df.drop(\"BsmtFullBath\", axis = 1, inplace = True)\n",
    "    df.drop(\"FullBath\", axis = 1, inplace = True)\n",
    "    df.drop(\"BsmtHalfBath\", axis = 1, inplace = True)\n",
    "    df.drop(\"HalfBath\", axis = 1, inplace = True)\n",
    "\n",
    "    # Combine the irregular categories of LotShape together\n",
    "    df[\"LotShape\"] = df[\"LotShape\"].apply(lambda x: \"IR\" \n",
    "                            if ((x == \"IR1\") | (x == \"IR2\") | (x == \"IR3\")) \n",
    "                            else x)\n",
    "\n",
    "    # Combine the LotConfig categories, FR2 and FR3, to FR (Frontage on 2>= sides)\n",
    "    lotconf_ord = {\"FR2\":\"FR\", \"FR3\":\"FR\"}\n",
    "    df[\"LotConfig\"] = df[\"LotConfig\"].replace(lotconf_ord)\n",
    "\n",
    "    # Combine the categories into Attached and Detached Garages\n",
    "    garagetype_ord = {\"BuiltIn\":\"Attchd\", \"Basment\": \"Attchd\", \"CarPort\": \"Detchd\", \"2Types\": \"Attchd\"}\n",
    "    df[\"GarageType\"] = df[\"GarageType\"].replace(garagetype_ord)\n",
    "    \n",
    "    return df"
   ]
  },
  {
   "cell_type": "markdown",
   "metadata": {},
   "source": [
    "### Features not from 10 critical factors"
   ]
  },
  {
   "cell_type": "code",
   "execution_count": 4,
   "metadata": {},
   "outputs": [],
   "source": [
    "def unimp_feat_eng(df):\n",
    "    # MSSubClass is a combination of HouseStyle, BdlgType, YearBuilt, YearRemodAdd\n",
    "    df.drop(\"MSSubClass\", axis= 1, inplace = True)\n",
    "\n",
    "    # drop columns that are zero-inflated or has mostly one category\n",
    "    df.drop(\"MiscVal\", axis = 1, inplace = True)\n",
    "    df.drop(\"Street\", axis = 1, inplace = True)\n",
    "    df.drop(\"Alley\", axis = 1, inplace = True)\n",
    "    df.drop(\"Utilities\", axis = 1, inplace = True)\n",
    "    df.drop(\"Condition2\", axis = 1, inplace = True)\n",
    "    df.drop(\"RoofMatl\", axis = 1, inplace = True)\n",
    "    df.drop(\"BsmtFinType2\", axis = 1, inplace = True)\n",
    "    df.drop(\"Heating\", axis = 1, inplace = True)\n",
    "    df.drop(\"Fence\", axis = 1, inplace = True)\n",
    "    df.drop(\"LandSlope\", axis = 1, inplace = True)\n",
    "    df.drop(\"MiscFeature\", axis = 1, inplace = True)\n",
    "\n",
    "    # Combine the land contours that are not flat/level\n",
    "    landcont_ord = {\"Bnk\":\"NotLvl\",\"HLS\":\"NotLvl\",\"Low\":\"NotLvl\"}\n",
    "    df[\"LandContour\"] = df[\"LandContour\"].replace(landcont_ord)\n",
    "\n",
    "    # Combine Condition1 categories that are not normal\n",
    "    df[\"Condition1\"] = df[\"Condition1\"].apply(lambda x: \"Abnorm\" if x != \"Norm\" else x)\n",
    "\n",
    "    # Combine the Roofstyle categories with few samples\n",
    "    df[\"RoofStyle\"] = df[\"RoofStyle\"].apply(lambda x: \"Other\" if x not in [\"Gable\", \"Hip\"] else x)\n",
    "\n",
    "    # Combine Poor with Fair category and call it BA (Below Average) \n",
    "    # since there are only a couple of samples \n",
    "    df[\"HeatingQC\"] = df[\"HeatingQC\"].apply(lambda x: \"BA\" if ((x == \"Fa\") | (x == \"Po\")) else x)\n",
    "\n",
    "    # Combine Functional categories that are not typical\n",
    "    df[\"Functional\"] = df[\"Functional\"].apply(lambda x: \"Nottyp\" if x != \"Typ\" else x)\n",
    "\n",
    "    # Combine SaleType and SaleCondition category that are not conventional\n",
    "    df[\"SaleType\"] = df[\"SaleType\"].apply(lambda x: \"Unconv\" if x != \"WD\" else x)\n",
    "    df[\"SaleCondition\"] = df[\"SaleCondition\"].apply(lambda x: \"Unconv\" if x != \"Normal\" else x)\n",
    "\n",
    "    # Categorize and bin the Quality and Condition features\n",
    "    # BA: Below Average, Avg: Average, AA: Above Average, GO: Good, EX: Excellent\n",
    "    df[\"OverallQual\"] = \\\n",
    "        df[\"OverallQual\"].apply(lambda x: \n",
    "            \"BA\" if x < 5 else \"Avg\" if x == 5 else \"AA\" if x == 6 else \"EX\" if x > 8 else \"GO\")\n",
    "    df[\"OverallCond\"] = \\\n",
    "        df[\"OverallCond\"].apply(lambda x: \n",
    "            \"BA\" if x < 5 else \"Avg\" if x == 5 else \"AA\" if x == 6 else \"EX\" if x > 8 else \"GO\")\n",
    "    \n",
    "    return df"
   ]
  },
  {
   "cell_type": "code",
   "execution_count": 5,
   "metadata": {},
   "outputs": [
    {
     "name": "stdout",
     "output_type": "stream",
     "text": [
      "Number of features in train set before feature engineering: 80\n",
      "--------------------------------------------------\n",
      "Number of features in train set after feature engineering: 53\n"
     ]
    }
   ],
   "source": [
    "print(\"Number of features in train set before feature engineering: \" + str(train.shape[1]))\n",
    "print(\"-\"*50)\n",
    "train = imp_feat_eng(train)\n",
    "new_train = unimp_feat_eng(train)\n",
    "print(\"Number of features in train set after feature engineering: \" + str(new_train.shape[1]))"
   ]
  },
  {
   "cell_type": "code",
   "execution_count": 6,
   "metadata": {},
   "outputs": [
    {
     "name": "stdout",
     "output_type": "stream",
     "text": [
      "Number of features in test set before feature engineering: 79\n",
      "--------------------------------------------------\n",
      "Number of features in test set after feature engineering: 52\n"
     ]
    }
   ],
   "source": [
    "print(\"Number of features in test set before feature engineering: \" + str(test.shape[1]))\n",
    "print(\"-\"*50)\n",
    "test = imp_feat_eng(test)\n",
    "new_test = unimp_feat_eng(test)\n",
    "print(\"Number of features in test set after feature engineering: \" + str(new_test.shape[1]))"
   ]
  },
  {
   "cell_type": "markdown",
   "metadata": {},
   "source": [
    "### One-Hot Encoding"
   ]
  },
  {
   "cell_type": "code",
   "execution_count": 7,
   "metadata": {},
   "outputs": [
    {
     "name": "stderr",
     "output_type": "stream",
     "text": [
      "/Users/hb/opt/anaconda3/lib/python3.7/site-packages/pandas/core/frame.py:3997: SettingWithCopyWarning: \n",
      "A value is trying to be set on a copy of a slice from a DataFrame\n",
      "\n",
      "See the caveats in the documentation: https://pandas.pydata.org/pandas-docs/stable/user_guide/indexing.html#returning-a-view-versus-a-copy\n",
      "  errors=errors,\n"
     ]
    }
   ],
   "source": [
    "new_train[\"train\"] = 1\n",
    "new_test[\"train\"] = 0\n",
    "combined = pd.concat([new_train,new_test], axis = 0)\n",
    "df = pd.get_dummies(combined, drop_first = True)\n",
    "train_final = df[df[\"train\"] == 1]\n",
    "test_final = df[df[\"train\"] == 0]\n",
    "train_final.drop(\"train\", axis = 1, inplace = True)\n",
    "test_final.drop(\"train\", axis = 1, inplace = True)"
   ]
  },
  {
   "cell_type": "code",
   "execution_count": 9,
   "metadata": {},
   "outputs": [
    {
     "name": "stdout",
     "output_type": "stream",
     "text": [
      "Number of features in train set after one-hot encoding for train: 164\n",
      "------------------------------------------------------------\n",
      "Number of features in test set after one-hot encoding for test: 164\n"
     ]
    }
   ],
   "source": [
    "print(\"Number of features in train set after one-hot encoding for train: \" + str(train_final.shape[1]))\n",
    "print(\"-\"*60)\n",
    "print(\"Number of features in test set after one-hot encoding for test: \" + str(test_final.shape[1]))"
   ]
  },
  {
   "cell_type": "markdown",
   "metadata": {},
   "source": [
    "#### Quality and Condition Features we might consider dropping since there are OverallQual and OverallCond"
   ]
  },
  {
   "cell_type": "raw",
   "metadata": {},
   "source": [
    "GarageQual GarageCond PoolQC FireplaceQU ExterQual ExterCond BsmtQual BsmtCond HeatingQC KitchenQual"
   ]
  },
  {
   "cell_type": "code",
   "execution_count": null,
   "metadata": {},
   "outputs": [],
   "source": []
  },
  {
   "cell_type": "code",
   "execution_count": null,
   "metadata": {},
   "outputs": [],
   "source": []
  },
  {
   "cell_type": "code",
   "execution_count": null,
   "metadata": {},
   "outputs": [],
   "source": []
  },
  {
   "cell_type": "code",
   "execution_count": null,
   "metadata": {},
   "outputs": [],
   "source": []
  },
  {
   "cell_type": "code",
   "execution_count": null,
   "metadata": {},
   "outputs": [],
   "source": []
  },
  {
   "cell_type": "code",
   "execution_count": null,
   "metadata": {},
   "outputs": [],
   "source": []
  },
  {
   "cell_type": "code",
   "execution_count": null,
   "metadata": {},
   "outputs": [],
   "source": []
  }
 ],
 "metadata": {
  "kernelspec": {
   "display_name": "Python 3",
   "language": "python",
   "name": "python3"
  },
  "language_info": {
   "codemirror_mode": {
    "name": "ipython",
    "version": 3
   },
   "file_extension": ".py",
   "mimetype": "text/x-python",
   "name": "python",
   "nbconvert_exporter": "python",
   "pygments_lexer": "ipython3",
   "version": "3.7.6"
  },
  "toc": {
   "base_numbering": 1,
   "nav_menu": {},
   "number_sections": true,
   "sideBar": true,
   "skip_h1_title": false,
   "title_cell": "Table of Contents",
   "title_sidebar": "Contents",
   "toc_cell": false,
   "toc_position": {},
   "toc_section_display": true,
   "toc_window_display": false
  },
  "varInspector": {
   "cols": {
    "lenName": 16,
    "lenType": 16,
    "lenVar": 40
   },
   "kernels_config": {
    "python": {
     "delete_cmd_postfix": "",
     "delete_cmd_prefix": "del ",
     "library": "var_list.py",
     "varRefreshCmd": "print(var_dic_list())"
    },
    "r": {
     "delete_cmd_postfix": ") ",
     "delete_cmd_prefix": "rm(",
     "library": "var_list.r",
     "varRefreshCmd": "cat(var_dic_list()) "
    }
   },
   "types_to_exclude": [
    "module",
    "function",
    "builtin_function_or_method",
    "instance",
    "_Feature"
   ],
   "window_display": false
  }
 },
 "nbformat": 4,
 "nbformat_minor": 4
}
