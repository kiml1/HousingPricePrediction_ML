{
 "cells": [
  {
   "cell_type": "markdown",
   "metadata": {},
   "source": [
    "# Feature Engineering and Feature Selection"
   ]
  },
  {
   "cell_type": "code",
   "execution_count": 1,
   "metadata": {},
   "outputs": [],
   "source": [
    "import pandas as pd\n",
    "import numpy as np\n",
    "from matplotlib import pyplot as plt\n",
    "import seaborn as sns\n",
    "%matplotlib inline\n",
    "plt.rcParams['figure.figsize'] = (9, 6)\n",
    "sns.set(style = \"whitegrid\")\n",
    "pd.set_option('display.max_columns', 500)\n",
    "pd.set_option('display.max_rows', 500)"
   ]
  },
  {
   "cell_type": "markdown",
   "metadata": {},
   "source": [
    "## Load Data"
   ]
  },
  {
   "cell_type": "code",
   "execution_count": 2,
   "metadata": {},
   "outputs": [],
   "source": [
    "train = pd.read_csv(\"../train.csv\", index_col = \"Id\")\n",
    "test = pd.read_csv(\"../test.csv\", index_col = \"Id\")"
   ]
  },
  {
   "cell_type": "markdown",
   "metadata": {},
   "source": [
    "## Missing Value Imputation based on EDA"
   ]
  },
  {
   "cell_type": "markdown",
   "metadata": {},
   "source": [
    "### Train Set NaNs"
   ]
  },
  {
   "cell_type": "code",
   "execution_count": 3,
   "metadata": {},
   "outputs": [],
   "source": [
    "# Funtion for filling missingness with NA\n",
    "def fill_nan(df,cols):\n",
    "    df[cols] = df[cols].fillna(\"NA\")\n",
    "    return df"
   ]
  },
  {
   "cell_type": "code",
   "execution_count": 4,
   "metadata": {},
   "outputs": [],
   "source": [
    "# Fill the NaNs of LotFrontage with the mean of each Neighborhood\n",
    "train[\"LotFrontage\"] = train.groupby(\"Neighborhood\")[\"LotFrontage\"].apply(lambda x: x.fillna(x.mean()))"
   ]
  },
  {
   "cell_type": "code",
   "execution_count": 5,
   "metadata": {},
   "outputs": [],
   "source": [
    "# Fill the NaNs with NA, since the samples simply do not have these features\n",
    "cols = [\"PoolQC\", \"FireplaceQu\", \"GarageFinish\", \"GarageType\", \"GarageCond\", \"GarageQual\"] \n",
    "train = fill_nan(train, cols)"
   ]
  },
  {
   "cell_type": "code",
   "execution_count": 6,
   "metadata": {},
   "outputs": [
    {
     "name": "stdout",
     "output_type": "stream",
     "text": [
      "    BsmtCond BsmtExposure BsmtQual BsmtFinType1  TotalBsmtSF\n",
      "Id                                                          \n",
      "949       TA          NaN       Gd          Unf          936\n"
     ]
    }
   ],
   "source": [
    "# MCAR for one sample in BsmtExposure, hence fill NaN with mode\n",
    "bsmt = train[[\"BsmtCond\", \"BsmtExposure\", \"BsmtQual\", \"BsmtFinType1\",\"TotalBsmtSF\"]]\n",
    "print(bsmt[(bsmt[\"TotalBsmtSF\"]>0) & (bsmt[[\"BsmtCond\", \"BsmtExposure\", \"BsmtQual\", \"BsmtFinType1\"]].isna().any(axis=1))])\n",
    "train.loc[949,\"BsmtExposure\"] = \"No\""
   ]
  },
  {
   "cell_type": "code",
   "execution_count": 7,
   "metadata": {},
   "outputs": [],
   "source": [
    "# Fill the NaNs with NA, since they simply don't have basement\n",
    "bsmt_train = [\"BsmtQual\",\"BsmtCond\",\"BsmtFinType1\",\"BsmtExposure\"]\n",
    "train = fill_nan(train, bsmt_train)"
   ]
  },
  {
   "cell_type": "code",
   "execution_count": 8,
   "metadata": {},
   "outputs": [],
   "source": [
    "# Fill the NaNs with the mode \n",
    "train[\"MasVnrType\"].fillna(\"None\", inplace = True)\n",
    "train[\"MasVnrArea\"].fillna(0.0, inplace = True) \n",
    "train[\"Electrical\"].fillna(\"SBrkr\", inplace = True)"
   ]
  },
  {
   "cell_type": "markdown",
   "metadata": {},
   "source": [
    "### Test Set NaNs"
   ]
  },
  {
   "cell_type": "code",
   "execution_count": 9,
   "metadata": {},
   "outputs": [],
   "source": [
    "## Fill the NaNs of LotFrontage with the mean of each Neighborhood in the train set\n",
    "neighbor_mean = dict(train.groupby('Neighborhood')[\"LotFrontage\"].mean())\n",
    "test[\"LotFrontage\"] = test[\"LotFrontage\"].fillna(test[\"Neighborhood\"].map(neighbor_mean))"
   ]
  },
  {
   "cell_type": "code",
   "execution_count": 10,
   "metadata": {},
   "outputs": [
    {
     "name": "stdout",
     "output_type": "stream",
     "text": [
      "      PoolArea PoolQC\n",
      "Id                   \n",
      "2421       368    NaN\n",
      "2504       444    NaN\n",
      "2600       561    NaN\n"
     ]
    }
   ],
   "source": [
    "# PoolQC that are MCAR\n",
    "# fill with mode in train set\n",
    "print(test[[\"PoolArea\",\"PoolQC\"]][(test[\"PoolArea\"]> 0) & (test[\"PoolQC\"].isnull())])\n",
    "test.loc[2421, \"PoolQC\"] = train[\"PoolQC\"].mode()[0]\n",
    "test.loc[2504, \"PoolQC\"] = train[\"PoolQC\"].mode()[0]\n",
    "test.loc[2600, \"PoolQC\"] = train[\"PoolQC\"].mode()[0]"
   ]
  },
  {
   "cell_type": "code",
   "execution_count": 11,
   "metadata": {
    "scrolled": false
   },
   "outputs": [
    {
     "data": {
      "text/html": [
       "<div>\n",
       "<style scoped>\n",
       "    .dataframe tbody tr th:only-of-type {\n",
       "        vertical-align: middle;\n",
       "    }\n",
       "\n",
       "    .dataframe tbody tr th {\n",
       "        vertical-align: top;\n",
       "    }\n",
       "\n",
       "    .dataframe thead th {\n",
       "        text-align: right;\n",
       "    }\n",
       "</style>\n",
       "<table border=\"1\" class=\"dataframe\">\n",
       "  <thead>\n",
       "    <tr style=\"text-align: right;\">\n",
       "      <th></th>\n",
       "      <th>GarageCond</th>\n",
       "      <th>GarageFinish</th>\n",
       "      <th>GarageQual</th>\n",
       "      <th>GarageType</th>\n",
       "    </tr>\n",
       "    <tr>\n",
       "      <th>Id</th>\n",
       "      <th></th>\n",
       "      <th></th>\n",
       "      <th></th>\n",
       "      <th></th>\n",
       "    </tr>\n",
       "  </thead>\n",
       "  <tbody>\n",
       "    <tr>\n",
       "      <th>2127</th>\n",
       "      <td>NaN</td>\n",
       "      <td>NaN</td>\n",
       "      <td>NaN</td>\n",
       "      <td>Detchd</td>\n",
       "    </tr>\n",
       "    <tr>\n",
       "      <th>2577</th>\n",
       "      <td>NaN</td>\n",
       "      <td>NaN</td>\n",
       "      <td>NaN</td>\n",
       "      <td>Detchd</td>\n",
       "    </tr>\n",
       "  </tbody>\n",
       "</table>\n",
       "</div>"
      ],
      "text/plain": [
       "     GarageCond GarageFinish GarageQual GarageType\n",
       "Id                                                \n",
       "2127        NaN          NaN        NaN     Detchd\n",
       "2577        NaN          NaN        NaN     Detchd"
      ]
     },
     "execution_count": 11,
     "metadata": {},
     "output_type": "execute_result"
    }
   ],
   "source": [
    "# GarageCond, GarageFinish, GarageQual completely that are MCAR\n",
    "garage = test[[\"GarageCond\",\"GarageFinish\",\"GarageQual\",\"GarageType\"]]\n",
    "garage[(garage[[\"GarageCond\",\"GarageFinish\",\"GarageQual\"]].isna().any(axis=1)) & (garage[\"GarageType\"].notnull())]"
   ]
  },
  {
   "cell_type": "code",
   "execution_count": 12,
   "metadata": {},
   "outputs": [],
   "source": [
    "# Fill missinginess in test set with mode of train set\n",
    "test.loc[2127, \"GarageCond\"] = train[train[\"GarageType\"] == \"Detchd\"][\"GarageCond\"].mode()[0]\n",
    "test.loc[2577, \"GarageCond\"] = train[train[\"GarageType\"] == \"Detchd\"][\"GarageCond\"].mode()[0]\n",
    "test.loc[2127, \"GarageFinish\"] = train[train[\"GarageType\"] == \"Detchd\"][\"GarageFinish\"].mode()[0]\n",
    "test.loc[2577, \"GarageFinish\"] = train[train[\"GarageType\"] == \"Detchd\"][\"GarageFinish\"].mode()[0]\n",
    "test.loc[2127, \"GarageQual\"] = train[train[\"GarageType\"] == \"Detchd\"][\"GarageQual\"].mode()[0]\n",
    "test.loc[2577, \"GarageQual\"] = train[train[\"GarageType\"] == \"Detchd\"][\"GarageQual\"].mode()[0]"
   ]
  },
  {
   "cell_type": "code",
   "execution_count": 13,
   "metadata": {},
   "outputs": [],
   "source": [
    "# Fill the NaNs with NA, since the samples simply do not have these features\n",
    "cols = [\"PoolQC\", \"FireplaceQu\", \"GarageCond\", \"GarageFinish\", \"GarageQual\", \"GarageType\"]  \n",
    "test = fill_nan(test, cols)"
   ]
  },
  {
   "cell_type": "code",
   "execution_count": 14,
   "metadata": {},
   "outputs": [
    {
     "data": {
      "text/html": [
       "<div>\n",
       "<style scoped>\n",
       "    .dataframe tbody tr th:only-of-type {\n",
       "        vertical-align: middle;\n",
       "    }\n",
       "\n",
       "    .dataframe tbody tr th {\n",
       "        vertical-align: top;\n",
       "    }\n",
       "\n",
       "    .dataframe thead th {\n",
       "        text-align: right;\n",
       "    }\n",
       "</style>\n",
       "<table border=\"1\" class=\"dataframe\">\n",
       "  <thead>\n",
       "    <tr style=\"text-align: right;\">\n",
       "      <th></th>\n",
       "      <th>BsmtCond</th>\n",
       "      <th>BsmtExposure</th>\n",
       "      <th>BsmtQual</th>\n",
       "      <th>BsmtFinType1</th>\n",
       "      <th>TotalBsmtSF</th>\n",
       "    </tr>\n",
       "    <tr>\n",
       "      <th>Id</th>\n",
       "      <th></th>\n",
       "      <th></th>\n",
       "      <th></th>\n",
       "      <th></th>\n",
       "      <th></th>\n",
       "    </tr>\n",
       "  </thead>\n",
       "  <tbody>\n",
       "    <tr>\n",
       "      <th>1488</th>\n",
       "      <td>TA</td>\n",
       "      <td>NaN</td>\n",
       "      <td>Gd</td>\n",
       "      <td>Unf</td>\n",
       "      <td>1595.0</td>\n",
       "    </tr>\n",
       "    <tr>\n",
       "      <th>2041</th>\n",
       "      <td>NaN</td>\n",
       "      <td>Mn</td>\n",
       "      <td>Gd</td>\n",
       "      <td>GLQ</td>\n",
       "      <td>1426.0</td>\n",
       "    </tr>\n",
       "    <tr>\n",
       "      <th>2186</th>\n",
       "      <td>NaN</td>\n",
       "      <td>No</td>\n",
       "      <td>TA</td>\n",
       "      <td>BLQ</td>\n",
       "      <td>1127.0</td>\n",
       "    </tr>\n",
       "    <tr>\n",
       "      <th>2218</th>\n",
       "      <td>Fa</td>\n",
       "      <td>No</td>\n",
       "      <td>NaN</td>\n",
       "      <td>Unf</td>\n",
       "      <td>173.0</td>\n",
       "    </tr>\n",
       "    <tr>\n",
       "      <th>2219</th>\n",
       "      <td>TA</td>\n",
       "      <td>No</td>\n",
       "      <td>NaN</td>\n",
       "      <td>Unf</td>\n",
       "      <td>356.0</td>\n",
       "    </tr>\n",
       "    <tr>\n",
       "      <th>2349</th>\n",
       "      <td>TA</td>\n",
       "      <td>NaN</td>\n",
       "      <td>Gd</td>\n",
       "      <td>Unf</td>\n",
       "      <td>725.0</td>\n",
       "    </tr>\n",
       "    <tr>\n",
       "      <th>2525</th>\n",
       "      <td>NaN</td>\n",
       "      <td>Av</td>\n",
       "      <td>TA</td>\n",
       "      <td>ALQ</td>\n",
       "      <td>995.0</td>\n",
       "    </tr>\n",
       "  </tbody>\n",
       "</table>\n",
       "</div>"
      ],
      "text/plain": [
       "     BsmtCond BsmtExposure BsmtQual BsmtFinType1  TotalBsmtSF\n",
       "Id                                                           \n",
       "1488       TA          NaN       Gd          Unf       1595.0\n",
       "2041      NaN           Mn       Gd          GLQ       1426.0\n",
       "2186      NaN           No       TA          BLQ       1127.0\n",
       "2218       Fa           No      NaN          Unf        173.0\n",
       "2219       TA           No      NaN          Unf        356.0\n",
       "2349       TA          NaN       Gd          Unf        725.0\n",
       "2525      NaN           Av       TA          ALQ        995.0"
      ]
     },
     "execution_count": 14,
     "metadata": {},
     "output_type": "execute_result"
    }
   ],
   "source": [
    "# BsmtCond, BsmtExposure, BsmtQual, BsmtFinType1 that are MCAR\n",
    "# fill with mode in train set\n",
    "bsmt = test[[\"BsmtCond\", \"BsmtExposure\", \"BsmtQual\", \"BsmtFinType1\",\"TotalBsmtSF\"]]\n",
    "bsmt[(bsmt[\"TotalBsmtSF\"]>0) & (bsmt[[\"BsmtCond\", \"BsmtExposure\", \"BsmtQual\", \"BsmtFinType1\"]].isna().any(axis=1))]"
   ]
  },
  {
   "cell_type": "code",
   "execution_count": 15,
   "metadata": {},
   "outputs": [],
   "source": [
    "test.loc[1488, \"BsmtExposure\"] = train[\"BsmtExposure\"].mode()[0]\n",
    "test.loc[2041, \"BsmtCond\"] = train[\"BsmtCond\"].mode()[0]\n",
    "test.loc[2186, \"BsmtCond\"] = train[\"BsmtCond\"].mode()[0]\n",
    "test.loc[2218, \"BsmtQual\"] = train[\"BsmtQual\"].mode()[0]\n",
    "test.loc[2219, \"BsmtQual\"] = train[\"BsmtQual\"].mode()[0]\n",
    "test.loc[2349, \"BsmtExposure\"] = train[\"BsmtExposure\"].mode()[0]\n",
    "test.loc[2525, \"BsmtCond\"] = train[\"BsmtCond\"].mode()[0]"
   ]
  },
  {
   "cell_type": "code",
   "execution_count": 16,
   "metadata": {},
   "outputs": [],
   "source": [
    "# Fill the NaNs with NA, since the samples simply do not have these features\n",
    "cols = [\"BsmtCond\", \"BsmtExposure\", \"BsmtQual\", \"BsmtFinType1\"]\n",
    "test = fill_nan(test, cols)"
   ]
  },
  {
   "cell_type": "code",
   "execution_count": 17,
   "metadata": {},
   "outputs": [
    {
     "name": "stdout",
     "output_type": "stream",
     "text": [
      "     MasVnrType  MasVnrArea\n",
      "Id                         \n",
      "2611        NaN       198.0\n"
     ]
    }
   ],
   "source": [
    "# MasVnrType that is MCAR\n",
    "# fill with mode in train set\n",
    "print(test[[\"MasVnrType\",\"MasVnrArea\"]][(test[\"MasVnrArea\"] > 0) & test[\"MasVnrType\"].isna()])\n",
    "test.loc[2611, \"MasVnrType\"] = train[\"MasVnrType\"].mode()[0]"
   ]
  },
  {
   "cell_type": "code",
   "execution_count": 18,
   "metadata": {},
   "outputs": [],
   "source": [
    "# Fill the NaNs with the mode \n",
    "test[\"MasVnrType\"].fillna(\"None\", inplace = True)\n",
    "test[\"MasVnrArea\"].fillna(0.0, inplace = True) \n",
    "test[\"MSZoning\"].fillna(train[\"MSZoning\"].mode()[0], inplace = True)\n",
    "test[\"BsmtHalfBath\"].fillna(train[\"BsmtHalfBath\"].mode()[0], inplace = True)\n",
    "test[\"BsmtFullBath\"].fillna(train[\"BsmtFullBath\"].mode()[0], inplace = True)\n",
    "test[\"Functional\"].fillna(train[\"Functional\"].mode()[0], inplace = True)\n",
    "test[\"Exterior2nd\"].fillna(train[\"Exterior2nd\"].mode()[0], inplace = True)\n",
    "test[\"SaleType\"].fillna(train[\"SaleType\"].mode()[0], inplace = True)\n",
    "test[\"Exterior1st\"].fillna(train[\"Exterior1st\"].mode()[0], inplace = True)\n",
    "test[\"KitchenQual\"].fillna(train[\"KitchenQual\"].mode()[0], inplace = True)\n",
    "test[\"GarageCars\"].fillna(train[\"GarageCars\"].mode()[0], inplace = True)"
   ]
  },
  {
   "cell_type": "markdown",
   "metadata": {},
   "source": [
    "## Feature Transformation based on EDA"
   ]
  },
  {
   "cell_type": "markdown",
   "metadata": {},
   "source": [
    "### Features from 10 critical factors"
   ]
  },
  {
   "cell_type": "code",
   "execution_count": 19,
   "metadata": {},
   "outputs": [],
   "source": [
    "def imp_feat_eng(df):\n",
    "    # Change Month Sold to categorical variable\n",
    "    df['MoSold'] = df['MoSold'].astype(\"category\")\n",
    "    \n",
    "    # TotalBsmtSF is a linear combination of BsmtFinSF1, BsmtFinSF2, and BsmtUnfSF\n",
    "    # Also, TotalBsmtSF is highly correlated to 1stFlrSF\n",
    "    df.drop(\"BsmtFinSF1\", axis = 1, inplace = True)\n",
    "    df.drop(\"BsmtFinSF2\", axis = 1, inplace = True)\n",
    "    df.drop(\"BsmtUnfSF\", axis = 1, inplace = True)\n",
    "    df.drop(\"TotalBsmtSF\", axis = 1, inplace = True)\n",
    "\n",
    "    # Drop 1st, 2nd Floor, and LowQualFin SF since there is GrLivArea(The linear combo of three) \n",
    "    #and create a dummy for 2nd Floor\n",
    "    df[\"SecondFlr\"] = df[\"2ndFlrSF\"].apply(lambda x: 1 if x > 0 else 0)\n",
    "    df.drop(\"1stFlrSF\", axis = 1, inplace = True)\n",
    "    df.drop(\"2ndFlrSF\", axis = 1, inplace = True)\n",
    "    df.drop(\"LowQualFinSF\", axis = 1, inplace = True)\n",
    "    # Drop 4 outliers of GrLivArea in train set\n",
    "    train.drop(train[train[\"GrLivArea\"] > 4000].index, inplace = True)\n",
    "\n",
    "    # Combine the SF for Porch since, except OpenPorchSF, all three are zero inflated\n",
    "    df[\"PorchSF\"] = df[\"OpenPorchSF\"]+df[\"EnclosedPorch\"]+df[\"3SsnPorch\"]+df[\"ScreenPorch\"]\n",
    "    df.drop(\"OpenPorchSF\", axis = 1, inplace = True)\n",
    "    df.drop(\"EnclosedPorch\", axis = 1, inplace = True)\n",
    "    df.drop(\"3SsnPorch\", axis = 1, inplace = True)\n",
    "    df.drop(\"ScreenPorch\", axis = 1, inplace = True)\n",
    "\n",
    "    # BedroomAbvGr is a part of TotRmsAbvGrd, hence highly correlated to TotRmsAbvGrd\n",
    "    # Therefore, separate extra rooms from bedrooms \n",
    "    df[\"ExtraRoom\"] = df[\"TotRmsAbvGrd\"] - df[\"BedroomAbvGr\"]\n",
    "    df.drop(\"TotRmsAbvGrd\", axis = 1, inplace = True)\n",
    "\n",
    "    # GarageYrBlt is highly correlated to YearBuilt\n",
    "    df.drop(\"GarageYrBlt\", axis = 1, inplace = True)\n",
    "    # GarageCars is highly correlated to GarageArea\n",
    "    # Yet GarageCars is more highly correlated to SalePrice\n",
    "    df.drop(\"GarageArea\", axis = 1, inplace = True)\n",
    "    # Combine the categories into Attached and Detached Garages\n",
    "    garagetype_ord = {\"BuiltIn\":\"Attchd\", \"Basment\": \"Attchd\", \"CarPort\": \"Detchd\", \"2Types\": \"Attchd\"}\n",
    "    df[\"GarageType\"] = df[\"GarageType\"].replace(garagetype_ord)\n",
    "    \n",
    "    # Create SinceRemod that takes into account how many years past since remodelling and before sold\n",
    "    # Drop YearSold and YearBuilt, since they are correlated to SinceRemod\n",
    "    # But SinceRemod is more highly correlated to SalePrice\n",
    "    df[\"SinceRemod\"] = df[\"YrSold\"].astype(int) - df[\"YearRemodAdd\"].astype(int)\n",
    "    df.drop(\"YearRemodAdd\", axis = 1, inplace = True)\n",
    "    df.drop(\"YrSold\", axis = 1, inplace = True)\n",
    "    df.drop(\"YearBuilt\", axis = 1, inplace = True)\n",
    "\n",
    "    # Combine fullbaths and halfbaths\n",
    "    # needs imputation of missing NaN before tho\n",
    "    df[\"FullBaths\"] = df[\"BsmtFullBath\"] + df[\"FullBath\"]\n",
    "    df[\"HalfBaths\"] = df[\"BsmtHalfBath\"] + df[\"HalfBath\"]\n",
    "    df.drop(\"BsmtFullBath\", axis = 1, inplace = True)\n",
    "    df.drop(\"FullBath\", axis = 1, inplace = True)\n",
    "    df.drop(\"BsmtHalfBath\", axis = 1, inplace = True)\n",
    "    df.drop(\"HalfBath\", axis = 1, inplace = True)\n",
    "\n",
    "    # Combine the irregular categories of LotShape together\n",
    "    df[\"LotShape\"] = df[\"LotShape\"].apply(lambda x: \"IR\" \n",
    "                            if ((x == \"IR1\") | (x == \"IR2\") | (x == \"IR3\")) \n",
    "                            else x)\n",
    "\n",
    "    # Combine the LotConfig categories, FR2 and FR3, to FR (Frontage on 2>= sides)\n",
    "    lotconf_ord = {\"FR2\":\"FR\", \"FR3\":\"FR\"}\n",
    "    df[\"LotConfig\"] = df[\"LotConfig\"].replace(lotconf_ord)\n",
    "\n",
    "    return df"
   ]
  },
  {
   "cell_type": "markdown",
   "metadata": {},
   "source": [
    "### Features not from 10 critical factors"
   ]
  },
  {
   "cell_type": "code",
   "execution_count": 20,
   "metadata": {},
   "outputs": [],
   "source": [
    "def unimp_feat_eng(df):\n",
    "    # MSSubClass is a combination of HouseStyle, BdlgType, YearBuilt, YearRemodAdd\n",
    "    df.drop(\"MSSubClass\", axis= 1, inplace = True)\n",
    "\n",
    "    # drop columns that are zero-inflated or has mostly one category\n",
    "    df.drop(\"MiscVal\", axis = 1, inplace = True)\n",
    "    df.drop(\"Street\", axis = 1, inplace = True)\n",
    "    df.drop(\"Alley\", axis = 1, inplace = True)\n",
    "    df.drop(\"Utilities\", axis = 1, inplace = True)\n",
    "    df.drop(\"Condition2\", axis = 1, inplace = True)\n",
    "    df.drop(\"RoofMatl\", axis = 1, inplace = True)\n",
    "    df.drop(\"BsmtFinType2\", axis = 1, inplace = True)\n",
    "    df.drop(\"Heating\", axis = 1, inplace = True)\n",
    "    df.drop(\"Fence\", axis = 1, inplace = True)\n",
    "    df.drop(\"LandSlope\", axis = 1, inplace = True)\n",
    "    df.drop(\"MiscFeature\", axis = 1, inplace = True)\n",
    "\n",
    "    # Combine the land contours that are not flat/level\n",
    "    landcont_ord = {\"Bnk\":\"NotLvl\",\"HLS\":\"NotLvl\",\"Low\":\"NotLvl\"}\n",
    "    df[\"LandContour\"] = df[\"LandContour\"].replace(landcont_ord)\n",
    "\n",
    "    # Combine Condition1 categories that are not normal\n",
    "    df[\"Condition1\"] = df[\"Condition1\"].apply(lambda x: \"Abnorm\" if x != \"Norm\" else x)\n",
    "\n",
    "    # Combine the Roofstyle categories with few samples\n",
    "    df[\"RoofStyle\"] = df[\"RoofStyle\"].apply(lambda x: \"Other\" if x not in [\"Gable\", \"Hip\"] else x)\n",
    "\n",
    "    # Combine Poor with Fair category and call it BA (Below Average) \n",
    "    # since there are only a couple of samples \n",
    "    df[\"HeatingQC\"] = df[\"HeatingQC\"].apply(lambda x: \"BA\" if ((x == \"Fa\") | (x == \"Po\")) else x)\n",
    "\n",
    "    # Combine Functional categories that are not typical\n",
    "    df[\"Functional\"] = df[\"Functional\"].apply(lambda x: \"Nottyp\" if x != \"Typ\" else x)\n",
    "\n",
    "    # Combine SaleType and SaleCondition category that are not conventional\n",
    "    df[\"SaleType\"] = df[\"SaleType\"].apply(lambda x: \"Unconv\" if x != \"WD\" else x)\n",
    "    df[\"SaleCondition\"] = df[\"SaleCondition\"].apply(lambda x: \"Unconv\" if x != \"Normal\" else x)\n",
    "\n",
    "    # Categorize and bin the Quality and Condition features\n",
    "    # BA: Below Average, Avg: Average, AA: Above Average, GO: Good, EX: Excellent\n",
    "    df[\"OverallQual\"] = \\\n",
    "        df[\"OverallQual\"].apply(lambda x: \n",
    "            \"BA\" if x < 5 else \"Avg\" if x == 5 else \"AA\" if x == 6 else \"EX\" if x > 8 else \"GO\")\n",
    "    df[\"OverallCond\"] = \\\n",
    "        df[\"OverallCond\"].apply(lambda x: \n",
    "            \"BA\" if x < 5 else \"Avg\" if x == 5 else \"AA\" if x == 6 else \"EX\" if x > 8 else \"GO\")\n",
    "    \n",
    "    return df"
   ]
  },
  {
   "cell_type": "code",
   "execution_count": 21,
   "metadata": {},
   "outputs": [
    {
     "name": "stdout",
     "output_type": "stream",
     "text": [
      "Number of features in train set before feature engineering: 80\n",
      "------------------------------------------------------------\n",
      "Number of features in train set after feature engineering: 53\n"
     ]
    }
   ],
   "source": [
    "print(\"Number of features in train set before feature engineering: \" + str(train.shape[1]))\n",
    "print(\"-\"*60)\n",
    "train = imp_feat_eng(train)\n",
    "new_train = unimp_feat_eng(train)\n",
    "print(\"Number of features in train set after feature engineering: \" + str(new_train.shape[1]))"
   ]
  },
  {
   "cell_type": "code",
   "execution_count": 22,
   "metadata": {},
   "outputs": [
    {
     "name": "stdout",
     "output_type": "stream",
     "text": [
      "Number of features in test set before feature engineering: 79\n",
      "------------------------------------------------------------\n",
      "Number of features in test set after feature engineering: 52\n"
     ]
    }
   ],
   "source": [
    "print(\"Number of features in test set before feature engineering: \" + str(test.shape[1]))\n",
    "print(\"-\"*60)\n",
    "test = imp_feat_eng(test)\n",
    "new_test = unimp_feat_eng(test)\n",
    "print(\"Number of features in test set after feature engineering: \" + str(new_test.shape[1]))"
   ]
  },
  {
   "cell_type": "markdown",
   "metadata": {},
   "source": [
    "### One-Hot Encoding"
   ]
  },
  {
   "cell_type": "code",
   "execution_count": 23,
   "metadata": {},
   "outputs": [],
   "source": [
    "new_train[\"train\"] = 1\n",
    "new_test[\"train\"] = 0\n",
    "combined = pd.concat([new_train,new_test], axis = 0)\n",
    "df = pd.get_dummies(combined, drop_first = True)\n",
    "train_final = df[df[\"train\"] == 1]\n",
    "test_final = df[df[\"train\"] == 0]\n",
    "train_final = train_final.drop(\"train\", axis = 1)\n",
    "test_final = test_final.drop([\"train\",\"SalePrice\"], axis = 1)"
   ]
  },
  {
   "cell_type": "code",
   "execution_count": 24,
   "metadata": {},
   "outputs": [
    {
     "name": "stdout",
     "output_type": "stream",
     "text": [
      "Number of features in train set after one-hot encoding for train: 184\n",
      "----------------------------------------------------------------------\n",
      "Number of features in test set after one-hot encoding for test: 183\n"
     ]
    }
   ],
   "source": [
    "print(\"Number of features in train set after one-hot encoding for train: \" + str(train_final.shape[1]))\n",
    "print(\"-\"*70)\n",
    "print(\"Number of features in test set after one-hot encoding for test: \" + str(test_final.shape[1]))"
   ]
  },
  {
   "cell_type": "markdown",
   "metadata": {},
   "source": [
    "### Final Check for missingvalues"
   ]
  },
  {
   "cell_type": "code",
   "execution_count": 25,
   "metadata": {
    "scrolled": false
   },
   "outputs": [
    {
     "data": {
      "text/plain": [
       "LotFrontage             0\n",
       "LotArea                 0\n",
       "MasVnrArea              0\n",
       "GrLivArea               0\n",
       "BedroomAbvGr            0\n",
       "KitchenAbvGr            0\n",
       "Fireplaces              0\n",
       "GarageCars              0\n",
       "WoodDeckSF              0\n",
       "PoolArea                0\n",
       "SalePrice               0\n",
       "SecondFlr               0\n",
       "PorchSF                 0\n",
       "ExtraRoom               0\n",
       "SinceRemod              0\n",
       "FullBaths               0\n",
       "HalfBaths               0\n",
       "MSZoning_FV             0\n",
       "MSZoning_RH             0\n",
       "MSZoning_RL             0\n",
       "MSZoning_RM             0\n",
       "LotShape_Reg            0\n",
       "LandContour_NotLvl      0\n",
       "LotConfig_CulDSac       0\n",
       "LotConfig_FR            0\n",
       "LotConfig_Inside        0\n",
       "Neighborhood_Blueste    0\n",
       "Neighborhood_BrDale     0\n",
       "Neighborhood_BrkSide    0\n",
       "Neighborhood_ClearCr    0\n",
       "Neighborhood_CollgCr    0\n",
       "Neighborhood_Crawfor    0\n",
       "Neighborhood_Edwards    0\n",
       "Neighborhood_Gilbert    0\n",
       "Neighborhood_IDOTRR     0\n",
       "Neighborhood_MeadowV    0\n",
       "Neighborhood_Mitchel    0\n",
       "Neighborhood_NAmes      0\n",
       "Neighborhood_NPkVill    0\n",
       "Neighborhood_NWAmes     0\n",
       "Neighborhood_NoRidge    0\n",
       "Neighborhood_NridgHt    0\n",
       "Neighborhood_OldTown    0\n",
       "Neighborhood_SWISU      0\n",
       "Neighborhood_Sawyer     0\n",
       "Neighborhood_SawyerW    0\n",
       "Neighborhood_Somerst    0\n",
       "Neighborhood_StoneBr    0\n",
       "Neighborhood_Timber     0\n",
       "Neighborhood_Veenker    0\n",
       "Condition1_Norm         0\n",
       "BldgType_2fmCon         0\n",
       "BldgType_Duplex         0\n",
       "BldgType_Twnhs          0\n",
       "BldgType_TwnhsE         0\n",
       "HouseStyle_1.5Unf       0\n",
       "HouseStyle_1Story       0\n",
       "HouseStyle_2.5Fin       0\n",
       "HouseStyle_2.5Unf       0\n",
       "HouseStyle_2Story       0\n",
       "HouseStyle_SFoyer       0\n",
       "HouseStyle_SLvl         0\n",
       "OverallQual_Avg         0\n",
       "OverallQual_BA          0\n",
       "OverallQual_EX          0\n",
       "OverallQual_GO          0\n",
       "OverallCond_Avg         0\n",
       "OverallCond_BA          0\n",
       "OverallCond_EX          0\n",
       "OverallCond_GO          0\n",
       "RoofStyle_Hip           0\n",
       "RoofStyle_Other         0\n",
       "Exterior1st_AsphShn     0\n",
       "Exterior1st_BrkComm     0\n",
       "Exterior1st_BrkFace     0\n",
       "Exterior1st_CBlock      0\n",
       "Exterior1st_CemntBd     0\n",
       "Exterior1st_HdBoard     0\n",
       "Exterior1st_ImStucc     0\n",
       "Exterior1st_MetalSd     0\n",
       "Exterior1st_Plywood     0\n",
       "Exterior1st_Stone       0\n",
       "Exterior1st_Stucco      0\n",
       "Exterior1st_VinylSd     0\n",
       "Exterior1st_Wd Sdng     0\n",
       "Exterior1st_WdShing     0\n",
       "Exterior2nd_AsphShn     0\n",
       "Exterior2nd_Brk Cmn     0\n",
       "Exterior2nd_BrkFace     0\n",
       "Exterior2nd_CBlock      0\n",
       "Exterior2nd_CmentBd     0\n",
       "Exterior2nd_HdBoard     0\n",
       "Exterior2nd_ImStucc     0\n",
       "Exterior2nd_MetalSd     0\n",
       "Exterior2nd_Other       0\n",
       "Exterior2nd_Plywood     0\n",
       "Exterior2nd_Stone       0\n",
       "Exterior2nd_Stucco      0\n",
       "Exterior2nd_VinylSd     0\n",
       "Exterior2nd_Wd Sdng     0\n",
       "Exterior2nd_Wd Shng     0\n",
       "MasVnrType_BrkFace      0\n",
       "MasVnrType_None         0\n",
       "MasVnrType_Stone        0\n",
       "ExterQual_Fa            0\n",
       "ExterQual_Gd            0\n",
       "ExterQual_TA            0\n",
       "ExterCond_Fa            0\n",
       "ExterCond_Gd            0\n",
       "ExterCond_Po            0\n",
       "ExterCond_TA            0\n",
       "Foundation_CBlock       0\n",
       "Foundation_PConc        0\n",
       "Foundation_Slab         0\n",
       "Foundation_Stone        0\n",
       "Foundation_Wood         0\n",
       "BsmtQual_Fa             0\n",
       "BsmtQual_Gd             0\n",
       "BsmtQual_NA             0\n",
       "BsmtQual_TA             0\n",
       "BsmtCond_Gd             0\n",
       "BsmtCond_NA             0\n",
       "BsmtCond_Po             0\n",
       "BsmtCond_TA             0\n",
       "BsmtExposure_Gd         0\n",
       "BsmtExposure_Mn         0\n",
       "BsmtExposure_NA         0\n",
       "BsmtExposure_No         0\n",
       "BsmtFinType1_BLQ        0\n",
       "BsmtFinType1_GLQ        0\n",
       "BsmtFinType1_LwQ        0\n",
       "BsmtFinType1_NA         0\n",
       "BsmtFinType1_Rec        0\n",
       "BsmtFinType1_Unf        0\n",
       "HeatingQC_Ex            0\n",
       "HeatingQC_Gd            0\n",
       "HeatingQC_TA            0\n",
       "CentralAir_Y            0\n",
       "Electrical_FuseF        0\n",
       "Electrical_FuseP        0\n",
       "Electrical_Mix          0\n",
       "Electrical_SBrkr        0\n",
       "KitchenQual_Fa          0\n",
       "KitchenQual_Gd          0\n",
       "KitchenQual_TA          0\n",
       "Functional_Typ          0\n",
       "FireplaceQu_Fa          0\n",
       "FireplaceQu_Gd          0\n",
       "FireplaceQu_NA          0\n",
       "FireplaceQu_Po          0\n",
       "FireplaceQu_TA          0\n",
       "GarageType_Detchd       0\n",
       "GarageType_NA           0\n",
       "GarageFinish_NA         0\n",
       "GarageFinish_RFn        0\n",
       "GarageFinish_Unf        0\n",
       "GarageQual_Fa           0\n",
       "GarageQual_Gd           0\n",
       "GarageQual_NA           0\n",
       "GarageQual_Po           0\n",
       "GarageQual_TA           0\n",
       "GarageCond_Fa           0\n",
       "GarageCond_Gd           0\n",
       "GarageCond_NA           0\n",
       "GarageCond_Po           0\n",
       "GarageCond_TA           0\n",
       "PavedDrive_P            0\n",
       "PavedDrive_Y            0\n",
       "PoolQC_Fa               0\n",
       "PoolQC_Gd               0\n",
       "PoolQC_NA               0\n",
       "MoSold_2                0\n",
       "MoSold_3                0\n",
       "MoSold_4                0\n",
       "MoSold_5                0\n",
       "MoSold_6                0\n",
       "MoSold_7                0\n",
       "MoSold_8                0\n",
       "MoSold_9                0\n",
       "MoSold_10               0\n",
       "MoSold_11               0\n",
       "MoSold_12               0\n",
       "SaleType_WD             0\n",
       "SaleCondition_Unconv    0\n",
       "dtype: int64"
      ]
     },
     "execution_count": 25,
     "metadata": {},
     "output_type": "execute_result"
    }
   ],
   "source": [
    "train_final.isna().sum()"
   ]
  },
  {
   "cell_type": "code",
   "execution_count": 26,
   "metadata": {
    "scrolled": false
   },
   "outputs": [
    {
     "data": {
      "text/plain": [
       "LotFrontage             0\n",
       "LotArea                 0\n",
       "MasVnrArea              0\n",
       "GrLivArea               0\n",
       "BedroomAbvGr            0\n",
       "KitchenAbvGr            0\n",
       "Fireplaces              0\n",
       "GarageCars              0\n",
       "WoodDeckSF              0\n",
       "PoolArea                0\n",
       "SecondFlr               0\n",
       "PorchSF                 0\n",
       "ExtraRoom               0\n",
       "SinceRemod              0\n",
       "FullBaths               0\n",
       "HalfBaths               0\n",
       "MSZoning_FV             0\n",
       "MSZoning_RH             0\n",
       "MSZoning_RL             0\n",
       "MSZoning_RM             0\n",
       "LotShape_Reg            0\n",
       "LandContour_NotLvl      0\n",
       "LotConfig_CulDSac       0\n",
       "LotConfig_FR            0\n",
       "LotConfig_Inside        0\n",
       "Neighborhood_Blueste    0\n",
       "Neighborhood_BrDale     0\n",
       "Neighborhood_BrkSide    0\n",
       "Neighborhood_ClearCr    0\n",
       "Neighborhood_CollgCr    0\n",
       "Neighborhood_Crawfor    0\n",
       "Neighborhood_Edwards    0\n",
       "Neighborhood_Gilbert    0\n",
       "Neighborhood_IDOTRR     0\n",
       "Neighborhood_MeadowV    0\n",
       "Neighborhood_Mitchel    0\n",
       "Neighborhood_NAmes      0\n",
       "Neighborhood_NPkVill    0\n",
       "Neighborhood_NWAmes     0\n",
       "Neighborhood_NoRidge    0\n",
       "Neighborhood_NridgHt    0\n",
       "Neighborhood_OldTown    0\n",
       "Neighborhood_SWISU      0\n",
       "Neighborhood_Sawyer     0\n",
       "Neighborhood_SawyerW    0\n",
       "Neighborhood_Somerst    0\n",
       "Neighborhood_StoneBr    0\n",
       "Neighborhood_Timber     0\n",
       "Neighborhood_Veenker    0\n",
       "Condition1_Norm         0\n",
       "BldgType_2fmCon         0\n",
       "BldgType_Duplex         0\n",
       "BldgType_Twnhs          0\n",
       "BldgType_TwnhsE         0\n",
       "HouseStyle_1.5Unf       0\n",
       "HouseStyle_1Story       0\n",
       "HouseStyle_2.5Fin       0\n",
       "HouseStyle_2.5Unf       0\n",
       "HouseStyle_2Story       0\n",
       "HouseStyle_SFoyer       0\n",
       "HouseStyle_SLvl         0\n",
       "OverallQual_Avg         0\n",
       "OverallQual_BA          0\n",
       "OverallQual_EX          0\n",
       "OverallQual_GO          0\n",
       "OverallCond_Avg         0\n",
       "OverallCond_BA          0\n",
       "OverallCond_EX          0\n",
       "OverallCond_GO          0\n",
       "RoofStyle_Hip           0\n",
       "RoofStyle_Other         0\n",
       "Exterior1st_AsphShn     0\n",
       "Exterior1st_BrkComm     0\n",
       "Exterior1st_BrkFace     0\n",
       "Exterior1st_CBlock      0\n",
       "Exterior1st_CemntBd     0\n",
       "Exterior1st_HdBoard     0\n",
       "Exterior1st_ImStucc     0\n",
       "Exterior1st_MetalSd     0\n",
       "Exterior1st_Plywood     0\n",
       "Exterior1st_Stone       0\n",
       "Exterior1st_Stucco      0\n",
       "Exterior1st_VinylSd     0\n",
       "Exterior1st_Wd Sdng     0\n",
       "Exterior1st_WdShing     0\n",
       "Exterior2nd_AsphShn     0\n",
       "Exterior2nd_Brk Cmn     0\n",
       "Exterior2nd_BrkFace     0\n",
       "Exterior2nd_CBlock      0\n",
       "Exterior2nd_CmentBd     0\n",
       "Exterior2nd_HdBoard     0\n",
       "Exterior2nd_ImStucc     0\n",
       "Exterior2nd_MetalSd     0\n",
       "Exterior2nd_Other       0\n",
       "Exterior2nd_Plywood     0\n",
       "Exterior2nd_Stone       0\n",
       "Exterior2nd_Stucco      0\n",
       "Exterior2nd_VinylSd     0\n",
       "Exterior2nd_Wd Sdng     0\n",
       "Exterior2nd_Wd Shng     0\n",
       "MasVnrType_BrkFace      0\n",
       "MasVnrType_None         0\n",
       "MasVnrType_Stone        0\n",
       "ExterQual_Fa            0\n",
       "ExterQual_Gd            0\n",
       "ExterQual_TA            0\n",
       "ExterCond_Fa            0\n",
       "ExterCond_Gd            0\n",
       "ExterCond_Po            0\n",
       "ExterCond_TA            0\n",
       "Foundation_CBlock       0\n",
       "Foundation_PConc        0\n",
       "Foundation_Slab         0\n",
       "Foundation_Stone        0\n",
       "Foundation_Wood         0\n",
       "BsmtQual_Fa             0\n",
       "BsmtQual_Gd             0\n",
       "BsmtQual_NA             0\n",
       "BsmtQual_TA             0\n",
       "BsmtCond_Gd             0\n",
       "BsmtCond_NA             0\n",
       "BsmtCond_Po             0\n",
       "BsmtCond_TA             0\n",
       "BsmtExposure_Gd         0\n",
       "BsmtExposure_Mn         0\n",
       "BsmtExposure_NA         0\n",
       "BsmtExposure_No         0\n",
       "BsmtFinType1_BLQ        0\n",
       "BsmtFinType1_GLQ        0\n",
       "BsmtFinType1_LwQ        0\n",
       "BsmtFinType1_NA         0\n",
       "BsmtFinType1_Rec        0\n",
       "BsmtFinType1_Unf        0\n",
       "HeatingQC_Ex            0\n",
       "HeatingQC_Gd            0\n",
       "HeatingQC_TA            0\n",
       "CentralAir_Y            0\n",
       "Electrical_FuseF        0\n",
       "Electrical_FuseP        0\n",
       "Electrical_Mix          0\n",
       "Electrical_SBrkr        0\n",
       "KitchenQual_Fa          0\n",
       "KitchenQual_Gd          0\n",
       "KitchenQual_TA          0\n",
       "Functional_Typ          0\n",
       "FireplaceQu_Fa          0\n",
       "FireplaceQu_Gd          0\n",
       "FireplaceQu_NA          0\n",
       "FireplaceQu_Po          0\n",
       "FireplaceQu_TA          0\n",
       "GarageType_Detchd       0\n",
       "GarageType_NA           0\n",
       "GarageFinish_NA         0\n",
       "GarageFinish_RFn        0\n",
       "GarageFinish_Unf        0\n",
       "GarageQual_Fa           0\n",
       "GarageQual_Gd           0\n",
       "GarageQual_NA           0\n",
       "GarageQual_Po           0\n",
       "GarageQual_TA           0\n",
       "GarageCond_Fa           0\n",
       "GarageCond_Gd           0\n",
       "GarageCond_NA           0\n",
       "GarageCond_Po           0\n",
       "GarageCond_TA           0\n",
       "PavedDrive_P            0\n",
       "PavedDrive_Y            0\n",
       "PoolQC_Fa               0\n",
       "PoolQC_Gd               0\n",
       "PoolQC_NA               0\n",
       "MoSold_2                0\n",
       "MoSold_3                0\n",
       "MoSold_4                0\n",
       "MoSold_5                0\n",
       "MoSold_6                0\n",
       "MoSold_7                0\n",
       "MoSold_8                0\n",
       "MoSold_9                0\n",
       "MoSold_10               0\n",
       "MoSold_11               0\n",
       "MoSold_12               0\n",
       "SaleType_WD             0\n",
       "SaleCondition_Unconv    0\n",
       "dtype: int64"
      ]
     },
     "execution_count": 26,
     "metadata": {},
     "output_type": "execute_result"
    }
   ],
   "source": [
    "test_final.isna().sum()"
   ]
  },
  {
   "cell_type": "code",
   "execution_count": null,
   "metadata": {},
   "outputs": [],
   "source": []
  }
 ],
 "metadata": {
  "kernelspec": {
   "display_name": "Python 3",
   "language": "python",
   "name": "python3"
  },
  "language_info": {
   "codemirror_mode": {
    "name": "ipython",
    "version": 3
   },
   "file_extension": ".py",
   "mimetype": "text/x-python",
   "name": "python",
   "nbconvert_exporter": "python",
   "pygments_lexer": "ipython3",
   "version": "3.7.6"
  },
  "toc": {
   "base_numbering": 1,
   "nav_menu": {},
   "number_sections": true,
   "sideBar": true,
   "skip_h1_title": false,
   "title_cell": "Table of Contents",
   "title_sidebar": "Contents",
   "toc_cell": false,
   "toc_position": {},
   "toc_section_display": true,
   "toc_window_display": false
  },
  "varInspector": {
   "cols": {
    "lenName": 16,
    "lenType": 16,
    "lenVar": 40
   },
   "kernels_config": {
    "python": {
     "delete_cmd_postfix": "",
     "delete_cmd_prefix": "del ",
     "library": "var_list.py",
     "varRefreshCmd": "print(var_dic_list())"
    },
    "r": {
     "delete_cmd_postfix": ") ",
     "delete_cmd_prefix": "rm(",
     "library": "var_list.r",
     "varRefreshCmd": "cat(var_dic_list()) "
    }
   },
   "types_to_exclude": [
    "module",
    "function",
    "builtin_function_or_method",
    "instance",
    "_Feature"
   ],
   "window_display": false
  }
 },
 "nbformat": 4,
 "nbformat_minor": 4
}
