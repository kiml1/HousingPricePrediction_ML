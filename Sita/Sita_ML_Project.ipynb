{
 "cells": [
  {
   "cell_type": "markdown",
   "metadata": {
    "toc": true
   },
   "source": [
    "<h1>Table of Contents<span class=\"tocSkip\"></span></h1>\n",
    "<div class=\"toc\"><ul class=\"toc-item\"><li><span><a href=\"#Setup-and-Data-Import\" data-toc-modified-id=\"Setup-and-Data-Import-1\"><span class=\"toc-item-num\">1&nbsp;&nbsp;</span>Setup and Data Import</a></span><ul class=\"toc-item\"><li><span><a href=\"#Exploring\" data-toc-modified-id=\"Exploring-1.1\"><span class=\"toc-item-num\">1.1&nbsp;&nbsp;</span>Exploring</a></span></li><li><span><a href=\"#Organizing\" data-toc-modified-id=\"Organizing-1.2\"><span class=\"toc-item-num\">1.2&nbsp;&nbsp;</span>Organizing</a></span></li></ul></li><li><span><a href=\"#Cleaning-Missing-Values\" data-toc-modified-id=\"Cleaning-Missing-Values-2\"><span class=\"toc-item-num\">2&nbsp;&nbsp;</span>Cleaning Missing Values</a></span><ul class=\"toc-item\"><li><span><a href=\"#Imputing-Values-Not-Actually-Missing\" data-toc-modified-id=\"Imputing-Values-Not-Actually-Missing-2.1\"><span class=\"toc-item-num\">2.1&nbsp;&nbsp;</span>Imputing Values Not Actually Missing</a></span></li><li><span><a href=\"#Imputing-Missing-Values\" data-toc-modified-id=\"Imputing-Missing-Values-2.2\"><span class=\"toc-item-num\">2.2&nbsp;&nbsp;</span>Imputing Missing Values</a></span></li></ul></li><li><span><a href=\"#Exploratory-Data-Analysis\" data-toc-modified-id=\"Exploratory-Data-Analysis-3\"><span class=\"toc-item-num\">3&nbsp;&nbsp;</span>Exploratory Data Analysis</a></span></li></ul></div>"
   ]
  },
  {
   "cell_type": "markdown",
   "metadata": {},
   "source": [
    "## Setup and Data Import"
   ]
  },
  {
   "cell_type": "code",
   "execution_count": 1,
   "metadata": {},
   "outputs": [],
   "source": [
    "import numpy as np\n",
    "import pandas as pd\n",
    "\n",
    "import plotly.express as px\n",
    "\n",
    "pd.options.display.max_rows = None"
   ]
  },
  {
   "cell_type": "code",
   "execution_count": 2,
   "metadata": {},
   "outputs": [],
   "source": [
    "train = pd.read_csv('../train.csv')\n",
    "test = pd.read_csv('../test.csv')"
   ]
  },
  {
   "cell_type": "markdown",
   "metadata": {},
   "source": [
    "### Exploring"
   ]
  },
  {
   "cell_type": "code",
   "execution_count": 3,
   "metadata": {},
   "outputs": [],
   "source": [
    "def exploring(df):\n",
    "    print('Dataframe shape:', df.shape)\n",
    "    print('\\nColumns:\\n', df.columns)"
   ]
  },
  {
   "cell_type": "code",
   "execution_count": 4,
   "metadata": {},
   "outputs": [
    {
     "name": "stdout",
     "output_type": "stream",
     "text": [
      "Dataframe shape: (1460, 81)\n",
      "\n",
      "Columns:\n",
      " Index(['Id', 'MSSubClass', 'MSZoning', 'LotFrontage', 'LotArea', 'Street',\n",
      "       'Alley', 'LotShape', 'LandContour', 'Utilities', 'LotConfig',\n",
      "       'LandSlope', 'Neighborhood', 'Condition1', 'Condition2', 'BldgType',\n",
      "       'HouseStyle', 'OverallQual', 'OverallCond', 'YearBuilt', 'YearRemodAdd',\n",
      "       'RoofStyle', 'RoofMatl', 'Exterior1st', 'Exterior2nd', 'MasVnrType',\n",
      "       'MasVnrArea', 'ExterQual', 'ExterCond', 'Foundation', 'BsmtQual',\n",
      "       'BsmtCond', 'BsmtExposure', 'BsmtFinType1', 'BsmtFinSF1',\n",
      "       'BsmtFinType2', 'BsmtFinSF2', 'BsmtUnfSF', 'TotalBsmtSF', 'Heating',\n",
      "       'HeatingQC', 'CentralAir', 'Electrical', '1stFlrSF', '2ndFlrSF',\n",
      "       'LowQualFinSF', 'GrLivArea', 'BsmtFullBath', 'BsmtHalfBath', 'FullBath',\n",
      "       'HalfBath', 'BedroomAbvGr', 'KitchenAbvGr', 'KitchenQual',\n",
      "       'TotRmsAbvGrd', 'Functional', 'Fireplaces', 'FireplaceQu', 'GarageType',\n",
      "       'GarageYrBlt', 'GarageFinish', 'GarageCars', 'GarageArea', 'GarageQual',\n",
      "       'GarageCond', 'PavedDrive', 'WoodDeckSF', 'OpenPorchSF',\n",
      "       'EnclosedPorch', '3SsnPorch', 'ScreenPorch', 'PoolArea', 'PoolQC',\n",
      "       'Fence', 'MiscFeature', 'MiscVal', 'MoSold', 'YrSold', 'SaleType',\n",
      "       'SaleCondition', 'SalePrice'],\n",
      "      dtype='object')\n"
     ]
    }
   ],
   "source": [
    "exploring(train)"
   ]
  },
  {
   "cell_type": "code",
   "execution_count": 5,
   "metadata": {},
   "outputs": [
    {
     "name": "stdout",
     "output_type": "stream",
     "text": [
      "Dataframe shape: (1459, 80)\n",
      "\n",
      "Columns:\n",
      " Index(['Id', 'MSSubClass', 'MSZoning', 'LotFrontage', 'LotArea', 'Street',\n",
      "       'Alley', 'LotShape', 'LandContour', 'Utilities', 'LotConfig',\n",
      "       'LandSlope', 'Neighborhood', 'Condition1', 'Condition2', 'BldgType',\n",
      "       'HouseStyle', 'OverallQual', 'OverallCond', 'YearBuilt', 'YearRemodAdd',\n",
      "       'RoofStyle', 'RoofMatl', 'Exterior1st', 'Exterior2nd', 'MasVnrType',\n",
      "       'MasVnrArea', 'ExterQual', 'ExterCond', 'Foundation', 'BsmtQual',\n",
      "       'BsmtCond', 'BsmtExposure', 'BsmtFinType1', 'BsmtFinSF1',\n",
      "       'BsmtFinType2', 'BsmtFinSF2', 'BsmtUnfSF', 'TotalBsmtSF', 'Heating',\n",
      "       'HeatingQC', 'CentralAir', 'Electrical', '1stFlrSF', '2ndFlrSF',\n",
      "       'LowQualFinSF', 'GrLivArea', 'BsmtFullBath', 'BsmtHalfBath', 'FullBath',\n",
      "       'HalfBath', 'BedroomAbvGr', 'KitchenAbvGr', 'KitchenQual',\n",
      "       'TotRmsAbvGrd', 'Functional', 'Fireplaces', 'FireplaceQu', 'GarageType',\n",
      "       'GarageYrBlt', 'GarageFinish', 'GarageCars', 'GarageArea', 'GarageQual',\n",
      "       'GarageCond', 'PavedDrive', 'WoodDeckSF', 'OpenPorchSF',\n",
      "       'EnclosedPorch', '3SsnPorch', 'ScreenPorch', 'PoolArea', 'PoolQC',\n",
      "       'Fence', 'MiscFeature', 'MiscVal', 'MoSold', 'YrSold', 'SaleType',\n",
      "       'SaleCondition'],\n",
      "      dtype='object')\n"
     ]
    }
   ],
   "source": [
    "exploring(test)"
   ]
  },
  {
   "cell_type": "markdown",
   "metadata": {},
   "source": [
    "### Organizing"
   ]
  },
  {
   "cell_type": "code",
   "execution_count": 6,
   "metadata": {},
   "outputs": [],
   "source": [
    "# Grouping the features by topic\n",
    "# addons = ['WoodDeckSF', 'OpenPorchSF', 'EnclosedPorch', '3SsnPorch', 'ScreenPorch', 'PoolArea',\n",
    "#                       'PoolQC']\n",
    "# basement = list(df.columns[df.columns.str.contains('Bsmt')])\n",
    "\n",
    "# exterior = ['RoofStyle', 'RoofMatl', 'Exterior1st', 'Exterior2nd', 'MasVnrType', 'MasVnrArea',\n",
    "#                     'ExterQual', 'ExterCond', 'Foundation']\n",
    "# garage = list(df.columns[df.columns.str.contains('Garage')])\n",
    "\n",
    "# general = ['MSSubClass', 'BldgType', 'HouseStyle', 'YearBuilt', 'YearRemodAdd', 'MiscFeature',\n",
    "#                    'MiscVal']\n",
    "# interior = ['1stFlrSF', '2ndFlrSF', 'LowQualFinSF', 'GrLivArea', 'FullBath', 'HalfBath',\n",
    "#                     'BedroomAbvGr', 'KitchenAbvGr', 'KitchenQual', 'TotRmsAbvGrd']\n",
    "# lot = ['LotFrontage', 'LotArea', 'Street', 'Alley', 'LotShape', 'LandContour', 'LotConfig',\n",
    "#                'LandSlope', 'PavedDrive', 'Fence']\n",
    "# neighborhood = ['MSZoning', 'Neighborhood', 'Condition1', 'Condition2']\n",
    "\n",
    "# overall = ['OverallQual', 'OverallCond', 'Functional']\n",
    "\n",
    "# sale = ['MoSold', 'YrSold', 'SaleType', 'SaleCondition', 'SalePrice']\n",
    "\n",
    "# sqft = list(df.columns[df.columns.str.contains('SF')])\n",
    "\n",
    "# utilities = ['Utilities', 'Heating', 'HeatingQC', 'CentralAir', 'Electrical', 'Fireplaces',\n",
    "#                      'FireplaceQu']"
   ]
  },
  {
   "cell_type": "markdown",
   "metadata": {},
   "source": [
    "## Cleaning Missing Values"
   ]
  },
  {
   "cell_type": "code",
   "execution_count": 7,
   "metadata": {},
   "outputs": [],
   "source": [
    "def missing_val_info(df):\n",
    "    print('Number of rows with NaN:', len(df[df.isna().any(axis=1)]), '\\n')\n",
    "    cols_na = df.loc[:, df.isna().any()] # df with only columns that have missing values\n",
    "    print('Columns with NaN:\\n', cols_na.isna().sum())"
   ]
  },
  {
   "cell_type": "code",
   "execution_count": 8,
   "metadata": {},
   "outputs": [
    {
     "name": "stdout",
     "output_type": "stream",
     "text": [
      "Number of rows with NaN: 1460 \n",
      "\n",
      "Columns with NaN:\n",
      " LotFrontage      259\n",
      "Alley           1369\n",
      "MasVnrType         8\n",
      "MasVnrArea         8\n",
      "BsmtQual          37\n",
      "BsmtCond          37\n",
      "BsmtExposure      38\n",
      "BsmtFinType1      37\n",
      "BsmtFinType2      38\n",
      "Electrical         1\n",
      "FireplaceQu      690\n",
      "GarageType        81\n",
      "GarageYrBlt       81\n",
      "GarageFinish      81\n",
      "GarageQual        81\n",
      "GarageCond        81\n",
      "PoolQC          1453\n",
      "Fence           1179\n",
      "MiscFeature     1406\n",
      "dtype: int64\n"
     ]
    }
   ],
   "source": [
    "missing_val_info(train)"
   ]
  },
  {
   "cell_type": "code",
   "execution_count": 9,
   "metadata": {},
   "outputs": [
    {
     "name": "stdout",
     "output_type": "stream",
     "text": [
      "Number of rows with NaN: 1459 \n",
      "\n",
      "Columns with NaN:\n",
      " MSZoning           4\n",
      "LotFrontage      227\n",
      "Alley           1352\n",
      "Utilities          2\n",
      "Exterior1st        1\n",
      "Exterior2nd        1\n",
      "MasVnrType        16\n",
      "MasVnrArea        15\n",
      "BsmtQual          44\n",
      "BsmtCond          45\n",
      "BsmtExposure      44\n",
      "BsmtFinType1      42\n",
      "BsmtFinSF1         1\n",
      "BsmtFinType2      42\n",
      "BsmtFinSF2         1\n",
      "BsmtUnfSF          1\n",
      "TotalBsmtSF        1\n",
      "BsmtFullBath       2\n",
      "BsmtHalfBath       2\n",
      "KitchenQual        1\n",
      "Functional         2\n",
      "FireplaceQu      730\n",
      "GarageType        76\n",
      "GarageYrBlt       78\n",
      "GarageFinish      78\n",
      "GarageCars         1\n",
      "GarageArea         1\n",
      "GarageQual        78\n",
      "GarageCond        78\n",
      "PoolQC          1456\n",
      "Fence           1169\n",
      "MiscFeature     1408\n",
      "SaleType           1\n",
      "dtype: int64\n"
     ]
    }
   ],
   "source": [
    "missing_val_info(test)"
   ]
  },
  {
   "cell_type": "markdown",
   "metadata": {},
   "source": [
    "### Imputing Values Not Actually Missing"
   ]
  },
  {
   "cell_type": "code",
   "execution_count": 10,
   "metadata": {},
   "outputs": [],
   "source": [
    "def impute(df, cols):\n",
    "    '''Accepts a df and list of column names to fill NaN with the string N/A.'''\n",
    "    \n",
    "    df[cols] = df[cols].fillna('N/A')\n",
    "\n",
    "# If observation has TotalBsmtSF > 0, NaN in any Bsmt column != No Basement\n",
    "def impute_bsmt(df, cols):\n",
    "    '''Accepts a df and list of column names to fill NaN with the string N/A,\n",
    "       excluding cols that have TotalBsmtSF > 0.'''\n",
    "\n",
    "    # Store rows where NaN != No Basement\n",
    "    to_drop = df[cols][(df[cols].isna().any(axis=1)) & (df[cols].TotalBsmtSF > 0)]\n",
    "    # After dropping rows, fill NaNs\n",
    "    dframe = df[cols].drop(to_drop.index).fillna('N/A')\n",
    "    df[cols] = pd.concat([dframe, to_drop])"
   ]
  },
  {
   "cell_type": "code",
   "execution_count": 11,
   "metadata": {},
   "outputs": [],
   "source": [
    "impute(train, ['Alley', 'FireplaceQu', 'GarageType', 'GarageYrBlt',\n",
    "               'GarageFinish', 'GarageQual', 'GarageCond', 'PoolQC',\n",
    "               'Fence', 'MiscFeature'])\n",
    "impute_bsmt(train, list(train.columns[train.columns.str.contains('Bsmt')]))"
   ]
  },
  {
   "cell_type": "code",
   "execution_count": 12,
   "metadata": {},
   "outputs": [],
   "source": [
    "impute(test, ['Alley', 'FireplaceQu', 'GarageType', 'GarageYrBlt',\n",
    "               'GarageFinish', 'GarageQual', 'GarageCond', 'PoolQC',\n",
    "               'Fence', 'MiscFeature'])\n",
    "impute_bsmt(test, list(test.columns[test.columns.str.contains('Bsmt')]))"
   ]
  },
  {
   "cell_type": "markdown",
   "metadata": {},
   "source": [
    "### Imputing Missing Values"
   ]
  },
  {
   "cell_type": "code",
   "execution_count": 13,
   "metadata": {
    "scrolled": false
   },
   "outputs": [],
   "source": [
    "def impute_misc_cols(df):\n",
    "    # MAR? Imputed with mean LotFrontage based on multiple related columns.\n",
    "    # Leaves 160 LotFrontage rows un-imputed\n",
    "    df.LotFrontage = df.groupby(['Neighborhood', 'YearBuilt',\n",
    "                                 'LotConfig', 'MSZoning']\n",
    "                                   ).LotFrontage.apply(lambda x:\n",
    "                                                       x.fillna(x.mean()))\n",
    "    # Leaves 5 LotFrontage rows un-imputed\n",
    "    df.LotFrontage = df.groupby(['Neighborhood', 'LotConfig']\n",
    "                               ).LotFrontage.apply(lambda x:\n",
    "                                                   x.fillna(x.mean()))    \n",
    "    df.LotFrontage = df.groupby('Neighborhood'\n",
    "                               ).LotFrontage.apply(lambda x:\n",
    "                                                   x.fillna(x.mean()))\n",
    "    \n",
    "    # MAR? Imputed as None since the same missing observations are\n",
    "    # also NaN in MasVnrArea (mostly 0 values)\n",
    "    df.MasVnrType.fillna('None', inplace=True)\n",
    "    # MAR? Imputed as 0.0 since the same missing observations are\n",
    "    # also NaN in MasVnrType (mostly None values)\n",
    "    df.MasVnrArea.fillna(0.0, inplace=True)\n",
    "\n",
    "    # Likely MCAR. Imputed with mode\n",
    "    df.BsmtExposure.fillna(train.BsmtExposure.mode(), inplace=True)\n",
    "\n",
    "    # MCAR? BsmtFinType2 is missing but BsmtFinSF2 has a value,\n",
    "    #meaning BsmtFinType2 should have a rating.\n",
    "    df.BsmtFinType2.fillna(train.BsmtFinType2.mode(), inplace=True)\n",
    "\n",
    "    # MAR? Some signs this house varies from others in the neighborhood\n",
    "    # built in the same year, but seems likely it has the same wiring\n",
    "    # anyway, given that the most similar homes AND the vast majority\n",
    "    # of homes in the dataset have SBrkr.\n",
    "    df.Electrical.fillna(train.Electrical.mode(), inplace=True)"
   ]
  },
  {
   "cell_type": "code",
   "execution_count": 14,
   "metadata": {
    "scrolled": false
   },
   "outputs": [],
   "source": [
    "def impute_mode(df, cols):\n",
    "    '''Accepts a df and list of column names to fill NaN with the\n",
    "    mode of that column.'''\n",
    "    df[cols] = df[cols].fillna(df.mode().iloc[0])\n",
    "\n",
    "missing_test_cols = test.columns[test.isna().any()].tolist()\n",
    "impute_mode(test, missing_test_cols)"
   ]
  },
  {
   "cell_type": "markdown",
   "metadata": {},
   "source": [
    "## Exploratory Data Analysis"
   ]
  }
 ],
 "metadata": {
  "kernelspec": {
   "display_name": "Python 3",
   "language": "python",
   "name": "python3"
  },
  "language_info": {
   "codemirror_mode": {
    "name": "ipython",
    "version": 3
   },
   "file_extension": ".py",
   "mimetype": "text/x-python",
   "name": "python",
   "nbconvert_exporter": "python",
   "pygments_lexer": "ipython3",
   "version": "3.7.6"
  },
  "toc": {
   "base_numbering": 1,
   "nav_menu": {},
   "number_sections": true,
   "sideBar": true,
   "skip_h1_title": true,
   "title_cell": "Table of Contents",
   "title_sidebar": "Contents",
   "toc_cell": true,
   "toc_position": {
    "height": "calc(100% - 180px)",
    "left": "10px",
    "top": "150px",
    "width": "165px"
   },
   "toc_section_display": true,
   "toc_window_display": true
  }
 },
 "nbformat": 4,
 "nbformat_minor": 4
}
