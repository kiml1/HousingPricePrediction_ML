{
 "cells": [
  {
   "cell_type": "markdown",
   "metadata": {},
   "source": [
    "## Setup and Data Import"
   ]
  },
  {
   "cell_type": "code",
   "execution_count": 1,
   "metadata": {},
   "outputs": [],
   "source": [
    "import numpy as np\n",
    "\n",
    "import pandas as pd\n",
    "pd.options.display.max_rows = None\n",
    "pd.options.display.max_columns = None\n",
    "\n",
    "import sys\n",
    "sys.path.insert(0,'..')\n",
    "\n",
    "import Imputation_Module as imp\n",
    "import FeatureEngineering_Module as fe\n",
    "import Encoding_Module as ec\n",
    "\n",
    "from sklearn.metrics import mean_squared_error, mean_squared_log_error\n",
    "import sklearn.linear_model as lm\n",
    "import sklearn.model_selection as ms\n",
    "from sklearn.pipeline import Pipeline, make_pipeline\n",
    "from sklearn.decomposition import PCA\n",
    "from sklearn import tree\n",
    "from sklearn.ensemble import GradientBoostingRegressor\n",
    "\n",
    "# import statsmodels.api as sm\n",
    "\n",
    "import random\n",
    "\n",
    "import matplotlib.pyplot as plt\n",
    "%matplotlib inline"
   ]
  },
  {
   "cell_type": "code",
   "execution_count": 2,
   "metadata": {},
   "outputs": [],
   "source": [
    "train_raw = pd.read_csv('../train.csv')\n",
    "test_raw = pd.read_csv('../test.csv')\n",
    "\n",
    "train = train_raw.copy()\n",
    "test = test_raw.copy()"
   ]
  },
  {
   "cell_type": "markdown",
   "metadata": {},
   "source": [
    "## Imputation and Feature Engineering"
   ]
  },
  {
   "cell_type": "code",
   "execution_count": 3,
   "metadata": {},
   "outputs": [],
   "source": [
    "train, test = imp.impute_data()\n",
    "\n",
    "train = fe.FeatureEngineering(train)\n",
    "test = fe.FeatureEngineering(test)\n",
    "\n",
    "train_dummies, test_dummies = fe.Dummify(train, test)\n",
    "\n",
    "train_ec, test_ec = ec.encode(train, test)"
   ]
  },
  {
   "cell_type": "code",
   "execution_count": 4,
   "metadata": {},
   "outputs": [],
   "source": [
    "X = train_dummies.drop('SalePrice', 1)\n",
    "y = train_dummies.SalePrice"
   ]
  },
  {
   "cell_type": "code",
   "execution_count": 5,
   "metadata": {},
   "outputs": [],
   "source": [
    "X_ec = train_ec.drop('SalePrice', 1)\n",
    "y_ec = train_dummies.SalePrice"
   ]
  },
  {
   "cell_type": "markdown",
   "metadata": {},
   "source": [
    "## Modeling"
   ]
  },
  {
   "cell_type": "markdown",
   "metadata": {},
   "source": [
    "### Linear Modeling"
   ]
  },
  {
   "cell_type": "code",
   "execution_count": 6,
   "metadata": {
    "scrolled": true
   },
   "outputs": [],
   "source": [
    "def linear_model(model, X=X, y=y):\n",
    "    model.fit(X, y)\n",
    "    model_scores = model.score(X, y)\n",
    "    y_pred = model.predict(X)\n",
    "    RMSE = mean_squared_error(y, y_pred, squared=False)\n",
    "    print('%s R^2: %0.5f'\n",
    "          % (type(model).__name__, model_scores.mean()))\n",
    "    print('Root Mean Squared Error: %0.5f' % RMSE)\n",
    "# What is the difference between RMSE and RMSLE?\n",
    "# What is the difference between cv=5 and cv=10?"
   ]
  },
  {
   "cell_type": "markdown",
   "metadata": {},
   "source": [
    "#### Baseline"
   ]
  },
  {
   "cell_type": "code",
   "execution_count": 7,
   "metadata": {
    "scrolled": true
   },
   "outputs": [
    {
     "name": "stdout",
     "output_type": "stream",
     "text": [
      "LinearRegression R^2: 0.92861\n",
      "Root Mean Squared Error: 20485.11719\n"
     ]
    }
   ],
   "source": [
    "ols = lm.LinearRegression()\n",
    "linear_model(ols)"
   ]
  },
  {
   "cell_type": "code",
   "execution_count": 8,
   "metadata": {},
   "outputs": [],
   "source": [
    "# Improves satisfaction of linearity assumption\n",
    "log_y = np.log(y)"
   ]
  },
  {
   "cell_type": "markdown",
   "metadata": {},
   "source": [
    "#### Log(y)"
   ]
  },
  {
   "cell_type": "code",
   "execution_count": 9,
   "metadata": {
    "scrolled": true
   },
   "outputs": [
    {
     "name": "stdout",
     "output_type": "stream",
     "text": [
      "LinearRegression R^2: 0.93162\n",
      "Root Mean Squared Error: 0.10354\n"
     ]
    }
   ],
   "source": [
    "linear_model(ols, y=log_y)"
   ]
  },
  {
   "cell_type": "code",
   "execution_count": 10,
   "metadata": {},
   "outputs": [
    {
     "name": "stdout",
     "output_type": "stream",
     "text": [
      "LinearRegression R^2: 0.85172\n",
      "Root Mean Squared Error: 0.15246\n"
     ]
    }
   ],
   "source": [
    "# Top Feature Importances from GB tree\n",
    "linear_model(ols,\n",
    "             X=X_ec[['OverallQual', 'GrLivArea', 'GarageCars', 'KitchenQual',\n",
    "                     'ExterQual','LotArea', 'GarageType', 'SinceRemod',\n",
    "                     'BsmtQual', 'FullBaths', 'BsmtFinType1']],\n",
    "             y=log_y)"
   ]
  },
  {
   "cell_type": "markdown",
   "metadata": {},
   "source": [
    "#### Ridge"
   ]
  },
  {
   "cell_type": "code",
   "execution_count": 11,
   "metadata": {
    "scrolled": false
   },
   "outputs": [
    {
     "name": "stdout",
     "output_type": "stream",
     "text": [
      "RidgeCV R^2: 0.93081\n",
      "Root Mean Squared Error: 0.10415\n"
     ]
    }
   ],
   "source": [
    "ridgecv = lm.RidgeCV(alphas=np.logspace(-5, 5, 100), normalize=True)\n",
    "linear_model(ridgecv, y=log_y)\n",
    "# Why does Ridge use LOOCV by default instead of k-fold?"
   ]
  },
  {
   "cell_type": "code",
   "execution_count": 12,
   "metadata": {},
   "outputs": [
    {
     "name": "stdout",
     "output_type": "stream",
     "text": [
      "RidgeCV R^2: 0.85165\n",
      "Root Mean Squared Error: 0.15251\n"
     ]
    }
   ],
   "source": [
    "# Top Feature Importances from GB tree\n",
    "linear_model(ridgecv,\n",
    "             X=X_ec[['OverallQual', 'GrLivArea', 'GarageCars', 'KitchenQual',\n",
    "                     'ExterQual','LotArea', 'GarageType', 'SinceRemod',\n",
    "                     'BsmtQual', 'FullBaths', 'BsmtFinType1']],\n",
    "             y=log_y)"
   ]
  },
  {
   "cell_type": "markdown",
   "metadata": {},
   "source": [
    "#### Lasso"
   ]
  },
  {
   "cell_type": "code",
   "execution_count": 13,
   "metadata": {},
   "outputs": [
    {
     "name": "stdout",
     "output_type": "stream",
     "text": [
      "LassoCV R^2: 0.92792\n",
      "Root Mean Squared Error: 0.10630\n"
     ]
    }
   ],
   "source": [
    "lasso = lm.LassoCV(normalize=True)\n",
    "linear_model(lasso, y=log_y)\n",
    "# Why does Ridge specify alphas but Lasso sets them automatically?"
   ]
  },
  {
   "cell_type": "code",
   "execution_count": 14,
   "metadata": {},
   "outputs": [
    {
     "name": "stdout",
     "output_type": "stream",
     "text": [
      "LassoCV R^2: 0.85159\n",
      "Root Mean Squared Error: 0.15254\n"
     ]
    }
   ],
   "source": [
    "# Top Feature Importances from GB tree\n",
    "linear_model(lasso,\n",
    "             X=X_ec[['OverallQual', 'GrLivArea', 'GarageCars', 'KitchenQual',\n",
    "                     'ExterQual','LotArea', 'GarageType', 'SinceRemod',\n",
    "                     'BsmtQual', 'FullBaths', 'BsmtFinType1']],\n",
    "             y=log_y)"
   ]
  },
  {
   "cell_type": "markdown",
   "metadata": {},
   "source": [
    "#### Elastic Net"
   ]
  },
  {
   "cell_type": "code",
   "execution_count": 15,
   "metadata": {
    "scrolled": true
   },
   "outputs": [
    {
     "name": "stdout",
     "output_type": "stream",
     "text": [
      "ElasticNetCV R^2: 0.92802\n",
      "Root Mean Squared Error: 0.10623\n"
     ]
    }
   ],
   "source": [
    "net = lm.ElasticNetCV(normalize=True)\n",
    "linear_model(net, y=log_y)\n",
    "# When would we choose Elastic Net?"
   ]
  },
  {
   "cell_type": "code",
   "execution_count": 16,
   "metadata": {},
   "outputs": [
    {
     "name": "stdout",
     "output_type": "stream",
     "text": [
      "ElasticNetCV R^2: 0.85169\n",
      "Root Mean Squared Error: 0.15248\n"
     ]
    }
   ],
   "source": [
    "# Top Feature Importances from GB tree\n",
    "linear_model(net,\n",
    "             X=X_ec[['OverallQual', 'GrLivArea', 'GarageCars', 'KitchenQual',\n",
    "                     'ExterQual','LotArea', 'GarageType', 'SinceRemod',\n",
    "                     'BsmtQual', 'FullBaths', 'BsmtFinType1']],\n",
    "             y=log_y)"
   ]
  },
  {
   "cell_type": "markdown",
   "metadata": {},
   "source": [
    "#### PCA"
   ]
  },
  {
   "cell_type": "code",
   "execution_count": 17,
   "metadata": {},
   "outputs": [],
   "source": [
    "# Because PCA results were worse, does that mean the manual feature selection done was effective?"
   ]
  },
  {
   "cell_type": "code",
   "execution_count": 18,
   "metadata": {},
   "outputs": [],
   "source": [
    "# pca = PCA()\n",
    "# pca_pipe = Pipeline(steps=[('pca', pca), ('lasso', lasso)])\n",
    "\n",
    "# pca_params = {'pca__n_components': np.arange(5, 55, 5)}\n",
    "# pca_search = ms.GridSearchCV(pca_pipe, pca_params)\n",
    "# pca_search.fit(X, log_y)\n",
    "\n",
    "# linear_model(pca_search, y=log_y)\n",
    "# -------------------------------------------------------------\n",
    "# TAKES FOREVER TO RUN. RESULTS:\n",
    "\n",
    "# Ridge Cross-Validation Accuracy: 0.87426 (+/- 0.02962)\n",
    "# Root Mean Squared Error: 0.13987\n",
    "\n",
    "# Lasso Cross-Validation Accuracy: 0.87360 (+/- 0.02834)\n",
    "# Root Mean Squared Error: 0.14004"
   ]
  },
  {
   "cell_type": "code",
   "execution_count": 19,
   "metadata": {},
   "outputs": [],
   "source": [
    "# From here, what explains the remaining errors? It looks like from Ryan's charts,\n",
    "# it was variance."
   ]
  },
  {
   "cell_type": "markdown",
   "metadata": {},
   "source": [
    "### Tree Modeling"
   ]
  },
  {
   "cell_type": "code",
   "execution_count": 20,
   "metadata": {},
   "outputs": [],
   "source": [
    "X_train, X_test, y_train, y_test = ms.train_test_split(X_ec, y_ec, test_size=0.2, random_state=0)"
   ]
  },
  {
   "cell_type": "code",
   "execution_count": 21,
   "metadata": {},
   "outputs": [],
   "source": [
    "def get_error(X_train, y_train, X_test, y_test, model, show = True):\n",
    "    model.fit(X_train, y_train)\n",
    "    train_error = 1 - model.score(X_train, y_train)\n",
    "    test_error  = 1 - model.score(X_test, y_test)\n",
    "    if show:\n",
    "        print(\"The training error is: %.5f\" %train_error)\n",
    "        print(\"The test     error is: %.5f\" %test_error)\n",
    "    return [train_error, test_error]"
   ]
  },
  {
   "cell_type": "markdown",
   "metadata": {},
   "source": [
    "#### Baseline"
   ]
  },
  {
   "cell_type": "code",
   "execution_count": 22,
   "metadata": {
    "scrolled": true
   },
   "outputs": [
    {
     "name": "stdout",
     "output_type": "stream",
     "text": [
      "The training error is: 0.00000\n",
      "The test     error is: 0.24913\n"
     ]
    }
   ],
   "source": [
    "tree_model = tree.DecisionTreeRegressor()\n",
    "get_error(X_train, y_train, X_test, y_test, tree_model);"
   ]
  },
  {
   "cell_type": "markdown",
   "metadata": {},
   "source": [
    "#### Log(y) - not useful for decision trees because DTs have no linearity assumption"
   ]
  },
  {
   "cell_type": "code",
   "execution_count": 23,
   "metadata": {},
   "outputs": [
    {
     "name": "stdout",
     "output_type": "stream",
     "text": [
      "The training error is: 0.00000\n",
      "The test     error is: 0.24512\n"
     ]
    }
   ],
   "source": [
    "tree_model = tree.DecisionTreeRegressor()\n",
    "get_error(X_train, y_train.apply(np.log), X_test, y_test.apply(np.log),\n",
    "          tree_model);"
   ]
  },
  {
   "cell_type": "code",
   "execution_count": 24,
   "metadata": {
    "scrolled": true
   },
   "outputs": [
    {
     "name": "stdout",
     "output_type": "stream",
     "text": [
      "The training error is: 0.14420\n",
      "The test     error is: 0.23300\n",
      "The best score is 0.7258\n"
     ]
    },
    {
     "data": {
      "text/plain": [
       "{'criterion': 'friedman_mse', 'max_depth': 5}"
      ]
     },
     "execution_count": 24,
     "metadata": {},
     "output_type": "execute_result"
    }
   ],
   "source": [
    "grid_para_tree = {'criterion': [\"mse\", \"friedman_mse\", \"mae\"],\n",
    "                  'max_depth': range(1, 31)}\n",
    "grid_search_tree = ms.GridSearchCV(tree_model, grid_para_tree, cv=10)\n",
    "\n",
    "get_error(X_train, y_train, X_test, y_test, grid_search_tree)\n",
    "print('The best score is %.4f' %grid_search_tree.best_score_)\n",
    "grid_search_tree.best_params_"
   ]
  },
  {
   "cell_type": "markdown",
   "metadata": {},
   "source": [
    "#### Gradient Boosting"
   ]
  },
  {
   "cell_type": "code",
   "execution_count": 25,
   "metadata": {},
   "outputs": [],
   "source": [
    "# gb_model = GradientBoostingRegressor()\n",
    "\n",
    "# grid_para_gb = {'loss': ['ls', 'lad', 'huber', 'quantile'],\n",
    "#                 'criterion': [\"mse\", \"friedman_mse\", \"mae\"],\n",
    "#                 'max_depth': range(1, 10)}\n",
    "# grid_search_gb = ms.GridSearchCV(gb_model, grid_para_gb, cv=5)\n",
    "\n",
    "# get_error(X_train, y_train, X_test, y_test, grid_search_gb)\n",
    "# print('The best score is %.4f' %grid_search_gb.best_score_)\n",
    "# print('The best parameters are:', grid_search_gb.best_params_)\n",
    "\n",
    "# # -------------------------------------------------------------\n",
    "# # TAKES FOREVER TO RUN. RESULTS:\n",
    "\n",
    "# # The best parameters are: {'criterion': 'friedman_mse', 'loss': 'huber', 'max_depth': 4}"
   ]
  },
  {
   "cell_type": "code",
   "execution_count": 26,
   "metadata": {
    "scrolled": true
   },
   "outputs": [
    {
     "name": "stdout",
     "output_type": "stream",
     "text": [
      "The training error is: 0.01811\n",
      "The test     error is: 0.07884\n"
     ]
    }
   ],
   "source": [
    "gb_model = GradientBoostingRegressor(loss='huber', n_estimators=200, max_depth=4)\n",
    "get_error(X_train, y_train.apply(np.log), X_test, y_test.apply(np.log),\n",
    "          gb_model);"
   ]
  },
  {
   "cell_type": "code",
   "execution_count": 27,
   "metadata": {
    "scrolled": true
   },
   "outputs": [
    {
     "data": {
      "text/plain": [
       "<BarContainer object of 49 artists>"
      ]
     },
     "execution_count": 27,
     "metadata": {},
     "output_type": "execute_result"
    },
    {
     "data": {
      "image/png": "[encoded data removed]",
      "text/plain": [
       "<Figure size 576x864 with 1 Axes>"
      ]
     },
     "metadata": {},
     "output_type": "display_data"
    }
   ],
   "source": [
    "feature_importance = list(zip(X_train.columns, gb_model.feature_importances_))\n",
    "dtype = [('feature', 'S10'), ('importance', 'float')]\n",
    "feature_importance = np.array(feature_importance, dtype = dtype)\n",
    "feature_sort = np.sort(feature_importance, order='importance')\n",
    "featureNames, featureScores = zip(*list(feature_sort))\n",
    "\n",
    "from matplotlib.pyplot import figure\n",
    "figure(num=None, figsize=(8, 12), facecolor='w')\n",
    "plt.barh(range(len(featureScores)), featureScores, tick_label=featureNames)"
   ]
  }
 ],
 "metadata": {
  "kernelspec": {
   "display_name": "Python 3",
   "language": "python",
   "name": "python3"
  },
  "language_info": {
   "codemirror_mode": {
    "name": "ipython",
    "version": 3
   },
   "file_extension": ".py",
   "mimetype": "text/x-python",
   "name": "python",
   "nbconvert_exporter": "python",
   "pygments_lexer": "ipython3",
   "version": "3.7.6"
  },
  "toc": {
   "base_numbering": 1,
   "nav_menu": {},
   "number_sections": true,
   "sideBar": true,
   "skip_h1_title": true,
   "title_cell": "Table of Contents",
   "title_sidebar": "Contents",
   "toc_cell": false,
   "toc_position": {
    "height": "calc(100% - 180px)",
    "left": "10px",
    "top": "150px",
    "width": "165px"
   },
   "toc_section_display": true,
   "toc_window_display": true
  }
 },
 "nbformat": 4,
 "nbformat_minor": 4
}
