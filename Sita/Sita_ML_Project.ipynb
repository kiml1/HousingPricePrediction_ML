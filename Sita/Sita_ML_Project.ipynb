{
 "cells": [
  {
   "cell_type": "markdown",
   "metadata": {},
   "source": [
    "## Setup and Data Import"
   ]
  },
  {
   "cell_type": "code",
   "execution_count": 1,
   "metadata": {},
   "outputs": [],
   "source": [
    "import numpy as np\n",
    "\n",
    "import pandas as pd\n",
    "pd.options.display.max_rows = None\n",
    "\n",
    "import sys\n",
    "sys.path.insert(0,'..')\n",
    "\n",
    "import Imputation_Module as imp\n",
    "import FeatureEngineering_Module as fe\n",
    "\n",
    "from sklearn.linear_model import LinearRegression, HuberRegressor,\\\n",
    "    Ridge, RidgeCV, LassoCV, ElasticNetCV\n",
    "from sklearn.model_selection import GridSearchCV, cross_val_score\n",
    "from sklearn.preprocessing import StandardScaler, MinMaxScaler, MaxAbsScaler,\\\n",
    "    RobustScaler, PowerTransformer\n",
    "from sklearn.pipeline import Pipeline, make_pipeline\n",
    "from sklearn.compose import TransformedTargetRegressor\n",
    "from sklearn.decomposition import PCA\n",
    "\n",
    "# import statsmodels.api as sm\n",
    "\n",
    "import matplotlib.pyplot as plt\n",
    "%matplotlib inline"
   ]
  },
  {
   "cell_type": "code",
   "execution_count": 2,
   "metadata": {},
   "outputs": [],
   "source": [
    "train_raw = pd.read_csv('../train.csv')\n",
    "test_raw = pd.read_csv('../test.csv')\n",
    "\n",
    "train = train_raw.copy()\n",
    "test = test_raw.copy()"
   ]
  },
  {
   "cell_type": "markdown",
   "metadata": {},
   "source": [
    "## Imputation and Feature Engineering"
   ]
  },
  {
   "cell_type": "code",
   "execution_count": 3,
   "metadata": {},
   "outputs": [],
   "source": [
    "train, test = imp.impute_data()"
   ]
  },
  {
   "cell_type": "code",
   "execution_count": 4,
   "metadata": {},
   "outputs": [],
   "source": [
    "train = fe.feat_engineering(train);\n",
    "test = fe.feat_engineering(test);"
   ]
  },
  {
   "cell_type": "code",
   "execution_count": 5,
   "metadata": {},
   "outputs": [],
   "source": [
    "train_dummies, test_dummies = fe.one_hot_encoding(train, test)"
   ]
  },
  {
   "cell_type": "code",
   "execution_count": 6,
   "metadata": {},
   "outputs": [],
   "source": [
    "X = train_dummies.drop('SalePrice', 1)\n",
    "y = train_dummies.SalePrice"
   ]
  },
  {
   "cell_type": "markdown",
   "metadata": {},
   "source": [
    "## Modeling"
   ]
  },
  {
   "cell_type": "markdown",
   "metadata": {},
   "source": [
    "### Linear Modeling\n",
    "- Figure out how to use pipelines\n",
    "- Standardize data, because cols have different scales (area, count, quality, etc). If needed, explore MinMaxScaler or MaxAbsScaler.\n",
    "- Normalize data, because numeric cols have different ranges (single-digit bathrooms, double/triple-digit areas, quadruple-digit years, etc.)\n",
    "- Notes: Explore different types of CV, outlier-robust regressors, GLMs"
   ]
  },
  {
   "cell_type": "code",
   "execution_count": 7,
   "metadata": {
    "scrolled": false
   },
   "outputs": [
    {
     "name": "stdout",
     "output_type": "stream",
     "text": [
      "Baseline Linear Regression Accuracy: 0.90267 (+/- 0.02661)\n"
     ]
    }
   ],
   "source": [
    "reg = LinearRegression().fit(X, y)\n",
    "reg_scores = cross_val_score(reg, X, y, cv=10)\n",
    "\n",
    "print('Baseline Linear Regression Accuracy: %0.5f (+/- %0.5f)'\n",
    "      % (reg_scores.mean(), reg_scores.std() * 2))"
   ]
  },
  {
   "cell_type": "code",
   "execution_count": 8,
   "metadata": {
    "scrolled": true
   },
   "outputs": [],
   "source": [
    "def linear_transform(pipe, pipe_name, X=X, y=y):\n",
    "    pipe.fit(X, y) # taking log(y) here does not change the accuracy\n",
    "    pipe_scores = cross_val_score(pipe, X, y, cv=10)    \n",
    "    \n",
    "    print('%s Accuracy: %0.5f (+/- %0.5f)'\n",
    "          % (pipe_name, pipe_scores.mean(), pipe_scores.std() * 2))"
   ]
  },
  {
   "cell_type": "code",
   "execution_count": 9,
   "metadata": {},
   "outputs": [
    {
     "name": "stdout",
     "output_type": "stream",
     "text": [
      "Log(y) Accuracy: 0.91780 (+/- 0.02405)\n"
     ]
    }
   ],
   "source": [
    "tt_lin = TransformedTargetRegressor(\n",
    "        regressor=LinearRegression(), func=np.log, inverse_func=np.exp)\n",
    "linear_transform(tt_lin, 'Log(y)')"
   ]
  },
  {
   "cell_type": "code",
   "execution_count": 10,
   "metadata": {},
   "outputs": [
    {
     "name": "stderr",
     "output_type": "stream",
     "text": [
      "C:\\Users\\sitat\\anaconda3\\lib\\site-packages\\sklearn\\preprocessing\\_data.py:2982: RuntimeWarning: divide by zero encountered in log\n",
      "  loglike = -n_samples / 2 * np.log(x_trans.var())\n"
     ]
    },
    {
     "name": "stdout",
     "output_type": "stream",
     "text": [
      "Log(y) Accuracy: 0.87425 (+/- 0.10432)\n",
      "Log(y) Accuracy: 0.91500 (+/- 0.04124)\n",
      "Log(y) Accuracy: 0.91502 (+/- 0.04130)\n",
      "Log(y) Accuracy: 0.91481 (+/- 0.04143)\n",
      "Log(y) Accuracy: 0.87508 (+/- 0.10915)\n"
     ]
    }
   ],
   "source": [
    "tt_hub = TransformedTargetRegressor(\n",
    "        regressor=HuberRegressor(max_iter=1e10), func=np.log, inverse_func=np.exp)\n",
    "\n",
    "scaled = StandardScaler().fit_transform(X)\n",
    "minmax = MinMaxScaler().fit_transform(X)\n",
    "maxabs = MaxAbsScaler().fit_transform(X)\n",
    "robust = RobustScaler().fit_transform(X)\n",
    "power = PowerTransformer().fit_transform(X)\n",
    "\n",
    "linear_transform(tt_hub, 'Log(y)', X=scaled)\n",
    "linear_transform(tt_hub, 'Log(y)', X=minmax)\n",
    "linear_transform(tt_hub, 'Log(y)', X=maxabs)\n",
    "linear_transform(tt_hub, 'Log(y)', X=robust)\n",
    "linear_transform(tt_hub, 'Log(y)', X=power)"
   ]
  },
  {
   "cell_type": "code",
   "execution_count": 11,
   "metadata": {},
   "outputs": [
    {
     "name": "stdout",
     "output_type": "stream",
     "text": [
      "Log(y) Accuracy: 0.91823 (+/- 0.01797)\n"
     ]
    }
   ],
   "source": [
    "tt_ridge = TransformedTargetRegressor(\n",
    "        regressor=RidgeCV(), func=np.log, inverse_func=np.exp)\n",
    "linear_transform(tt_ridge, 'Log(y)')"
   ]
  },
  {
   "cell_type": "code",
   "execution_count": 12,
   "metadata": {},
   "outputs": [
    {
     "name": "stdout",
     "output_type": "stream",
     "text": [
      "Log(y) Accuracy: 0.91905 (+/- 0.01886)\n"
     ]
    }
   ],
   "source": [
    "tt_lasso = TransformedTargetRegressor(\n",
    "        regressor=LassoCV(normalize=True), func=np.log, inverse_func=np.exp)\n",
    "linear_transform(tt_lasso, 'Log(y)')"
   ]
  },
  {
   "cell_type": "code",
   "execution_count": 13,
   "metadata": {
    "scrolled": true
   },
   "outputs": [
    {
     "name": "stdout",
     "output_type": "stream",
     "text": [
      "Log(y) Accuracy: 0.91735 (+/- 0.01762)\n"
     ]
    }
   ],
   "source": [
    "tt_net = TransformedTargetRegressor(\n",
    "        regressor=ElasticNetCV(normalize=True), func=np.log, inverse_func=np.exp)\n",
    "linear_transform(tt_net, 'Log(y)')"
   ]
  },
  {
   "cell_type": "code",
   "execution_count": 14,
   "metadata": {},
   "outputs": [
    {
     "name": "stdout",
     "output_type": "stream",
     "text": [
      "PCA Accuracy: 0.87818 (+/- 0.02518)\n"
     ]
    }
   ],
   "source": [
    "pca = PCA()\n",
    "# set the tolerance to a large value to make the example faster\n",
    "pipe = Pipeline(steps=[('pca', pca), ('tt_ridge', tt_ridge)])\n",
    "\n",
    "param_grid = {'pca__n_components': [5, 10, 15, 20, 25, 30, 35, 40, 45, 50]}\n",
    "search = GridSearchCV(pipe, param_grid, n_jobs=-1)\n",
    "search.fit(X, y)\n",
    "\n",
    "linear_transform(search, 'PCA')"
   ]
  }
 ],
 "metadata": {
  "kernelspec": {
   "display_name": "Python 3",
   "language": "python",
   "name": "python3"
  },
  "language_info": {
   "codemirror_mode": {
    "name": "ipython",
    "version": 3
   },
   "file_extension": ".py",
   "mimetype": "text/x-python",
   "name": "python",
   "nbconvert_exporter": "python",
   "pygments_lexer": "ipython3",
   "version": "3.7.6"
  },
  "toc": {
   "base_numbering": 1,
   "nav_menu": {},
   "number_sections": true,
   "sideBar": true,
   "skip_h1_title": true,
   "title_cell": "Table of Contents",
   "title_sidebar": "Contents",
   "toc_cell": false,
   "toc_position": {
    "height": "calc(100% - 180px)",
    "left": "10px",
    "top": "150px",
    "width": "165px"
   },
   "toc_section_display": true,
   "toc_window_display": true
  }
 },
 "nbformat": 4,
 "nbformat_minor": 4
}
