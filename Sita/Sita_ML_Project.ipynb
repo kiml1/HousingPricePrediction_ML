{
 "cells": [
  {
   "cell_type": "markdown",
   "metadata": {
    "toc": true
   },
   "source": [
    "<h1>Table of Contents<span class=\"tocSkip\"></span></h1>\n",
    "<div class=\"toc\"><ul class=\"toc-item\"><li><span><a href=\"#Setup-and-Data-Import\" data-toc-modified-id=\"Setup-and-Data-Import-1\"><span class=\"toc-item-num\">1&nbsp;&nbsp;</span>Setup and Data Import</a></span></li><li><span><a href=\"#Cleaning-Missing-Values\" data-toc-modified-id=\"Cleaning-Missing-Values-2\"><span class=\"toc-item-num\">2&nbsp;&nbsp;</span>Cleaning Missing Values</a></span><ul class=\"toc-item\"><li><span><a href=\"#Examining-Columns-with-Missing-Values\" data-toc-modified-id=\"Examining-Columns-with-Missing-Values-2.1\"><span class=\"toc-item-num\">2.1&nbsp;&nbsp;</span>Examining Columns with Missing Values</a></span></li><li><span><a href=\"#Dropping-Columns-with-Majority-NaN\" data-toc-modified-id=\"Dropping-Columns-with-Majority-NaN-2.2\"><span class=\"toc-item-num\">2.2&nbsp;&nbsp;</span>Dropping Columns with Majority NaN</a></span></li><li><span><a href=\"#Imputing-Values-Not-Actually-Missing\" data-toc-modified-id=\"Imputing-Values-Not-Actually-Missing-2.3\"><span class=\"toc-item-num\">2.3&nbsp;&nbsp;</span>Imputing Values Not Actually Missing</a></span></li><li><span><a href=\"#Imputing-Remaining-Missing-Values\" data-toc-modified-id=\"Imputing-Remaining-Missing-Values-2.4\"><span class=\"toc-item-num\">2.4&nbsp;&nbsp;</span>Imputing Remaining Missing Values</a></span></li></ul></li><li><span><a href=\"#Exploratory-Data-Analysis\" data-toc-modified-id=\"Exploratory-Data-Analysis-3\"><span class=\"toc-item-num\">3&nbsp;&nbsp;</span>Exploratory Data Analysis</a></span><ul class=\"toc-item\"><li><span><a href=\"#Separating-Target-and-Features\" data-toc-modified-id=\"Separating-Target-and-Features-3.1\"><span class=\"toc-item-num\">3.1&nbsp;&nbsp;</span>Separating Target and Features</a></span></li></ul></li></ul></div>"
   ]
  },
  {
   "cell_type": "markdown",
   "metadata": {},
   "source": [
    "## Setup and Data Import"
   ]
  },
  {
   "cell_type": "code",
   "execution_count": 1,
   "metadata": {},
   "outputs": [],
   "source": [
    "import numpy as np\n",
    "import pandas as pd\n",
    "\n",
    "import plotly.express as px\n",
    "\n",
    "pd.options.display.max_rows = None"
   ]
  },
  {
   "cell_type": "code",
   "execution_count": 2,
   "metadata": {},
   "outputs": [],
   "source": [
    "train_raw = pd.read_csv('../train.csv')\n",
    "test_raw = pd.read_csv('../test.csv')"
   ]
  },
  {
   "cell_type": "code",
   "execution_count": 3,
   "metadata": {},
   "outputs": [
    {
     "name": "stdout",
     "output_type": "stream",
     "text": [
      "Train: (1460, 81)\n",
      "Test: (1459, 80)\n"
     ]
    }
   ],
   "source": [
    "print('Train:', train_raw.shape)\n",
    "print('Test:', test_raw.shape)"
   ]
  },
  {
   "cell_type": "code",
   "execution_count": 4,
   "metadata": {},
   "outputs": [],
   "source": [
    "# Grouping the features by topic\n",
    "# addons = ['WoodDeckSF', 'OpenPorchSF', 'EnclosedPorch', '3SsnPorch', 'ScreenPorch', 'PoolArea',\n",
    "#                       'PoolQC']\n",
    "# basement = list(df.columns[df.columns.str.contains('Bsmt')])\n",
    "\n",
    "# exterior = ['RoofStyle', 'RoofMatl', 'Exterior1st', 'Exterior2nd', 'MasVnrType', 'MasVnrArea',\n",
    "#                     'ExterQual', 'ExterCond', 'Foundation']\n",
    "# garage = list(df.columns[df.columns.str.contains('Garage')])\n",
    "\n",
    "# general = ['MSSubClass', 'BldgType', 'HouseStyle', 'YearBuilt', 'YearRemodAdd', 'MiscFeature',\n",
    "#                    'MiscVal']\n",
    "# interior = ['1stFlrSF', '2ndFlrSF', 'LowQualFinSF', 'GrLivArea', 'FullBath', 'HalfBath',\n",
    "#                     'BedroomAbvGr', 'KitchenAbvGr', 'KitchenQual', 'TotRmsAbvGrd']\n",
    "# lot = ['LotFrontage', 'LotArea', 'Street', 'Alley', 'LotShape', 'LandContour', 'LotConfig',\n",
    "#                'LandSlope', 'PavedDrive', 'Fence']\n",
    "# neighborhood = ['MSZoning', 'Neighborhood', 'Condition1', 'Condition2']\n",
    "\n",
    "# overall = ['OverallQual', 'OverallCond', 'Functional']\n",
    "\n",
    "# sale = ['MoSold', 'YrSold', 'SaleType', 'SaleCondition', 'SalePrice']\n",
    "\n",
    "# sqft = list(df.columns[df.columns.str.contains('SF')])\n",
    "\n",
    "# utilities = ['Utilities', 'Heating', 'HeatingQC', 'CentralAir', 'Electrical', 'Fireplaces',\n",
    "#                      'FireplaceQu']"
   ]
  },
  {
   "cell_type": "markdown",
   "metadata": {},
   "source": [
    "## Cleaning Missing Values"
   ]
  },
  {
   "cell_type": "markdown",
   "metadata": {},
   "source": [
    "### Examining Columns with Missing Values"
   ]
  },
  {
   "cell_type": "code",
   "execution_count": 5,
   "metadata": {},
   "outputs": [],
   "source": [
    "def missing_val_info(df):\n",
    "    '''Accepts a dataframe and prints a Series containing column names and\n",
    "    the sum of their NaN values.'''\n",
    "    \n",
    "    print('Number of rows with NaN:', len(df[df.isna().any(axis=1)]), '\\n')\n",
    "    cols_na = df.loc[:, df.isna().any()] # df with only columns that have missing values\n",
    "    \n",
    "    if (len(df[df.isna().any(axis=1)]) > 0):\n",
    "        print('Columns with NaN:\\n', cols_na.isna().sum())"
   ]
  },
  {
   "cell_type": "code",
   "execution_count": 6,
   "metadata": {},
   "outputs": [
    {
     "name": "stdout",
     "output_type": "stream",
     "text": [
      "Number of rows with NaN: 1460 \n",
      "\n",
      "Columns with NaN:\n",
      " LotFrontage      259\n",
      "Alley           1369\n",
      "MasVnrType         8\n",
      "MasVnrArea         8\n",
      "BsmtQual          37\n",
      "BsmtCond          37\n",
      "BsmtExposure      38\n",
      "BsmtFinType1      37\n",
      "BsmtFinType2      38\n",
      "Electrical         1\n",
      "FireplaceQu      690\n",
      "GarageType        81\n",
      "GarageYrBlt       81\n",
      "GarageFinish      81\n",
      "GarageQual        81\n",
      "GarageCond        81\n",
      "PoolQC          1453\n",
      "Fence           1179\n",
      "MiscFeature     1406\n",
      "dtype: int64\n",
      "----------------------------\n",
      "Number of rows with NaN: 1459 \n",
      "\n",
      "Columns with NaN:\n",
      " MSZoning           4\n",
      "LotFrontage      227\n",
      "Alley           1352\n",
      "Utilities          2\n",
      "Exterior1st        1\n",
      "Exterior2nd        1\n",
      "MasVnrType        16\n",
      "MasVnrArea        15\n",
      "BsmtQual          44\n",
      "BsmtCond          45\n",
      "BsmtExposure      44\n",
      "BsmtFinType1      42\n",
      "BsmtFinSF1         1\n",
      "BsmtFinType2      42\n",
      "BsmtFinSF2         1\n",
      "BsmtUnfSF          1\n",
      "TotalBsmtSF        1\n",
      "BsmtFullBath       2\n",
      "BsmtHalfBath       2\n",
      "KitchenQual        1\n",
      "Functional         2\n",
      "FireplaceQu      730\n",
      "GarageType        76\n",
      "GarageYrBlt       78\n",
      "GarageFinish      78\n",
      "GarageCars         1\n",
      "GarageArea         1\n",
      "GarageQual        78\n",
      "GarageCond        78\n",
      "PoolQC          1456\n",
      "Fence           1169\n",
      "MiscFeature     1408\n",
      "SaleType           1\n",
      "dtype: int64\n"
     ]
    }
   ],
   "source": [
    "missing_val_info(train_raw)\n",
    "print('-' * 28)\n",
    "missing_val_info(test_raw)"
   ]
  },
  {
   "cell_type": "markdown",
   "metadata": {},
   "source": [
    "### Dropping Columns with Majority NaN"
   ]
  },
  {
   "cell_type": "code",
   "execution_count": 7,
   "metadata": {},
   "outputs": [],
   "source": [
    "def drop_cols_majority_nan(df):\n",
    "    '''Accepts a dataframe and returns a copy of the dataframe minus columns\n",
    "    that had more than 90% missing values.'''\n",
    "    drop_thresh = df.shape[0]*.9\n",
    "    new_df = df.dropna(axis=1, how='all', thresh=drop_thresh).copy()  \n",
    "    return new_df"
   ]
  },
  {
   "cell_type": "code",
   "execution_count": 8,
   "metadata": {},
   "outputs": [
    {
     "name": "stdout",
     "output_type": "stream",
     "text": [
      "Train dropped columns: ['Alley', 'Fence', 'FireplaceQu', 'LotFrontage', 'MiscFeature', 'PoolQC']\n",
      "Train shape: (1460, 75)\n",
      "------------------------------------------------------------------------------------------------\n",
      "Test dropped columns: ['Alley', 'Fence', 'FireplaceQu', 'LotFrontage', 'MiscFeature', 'PoolQC']\n",
      "Test shape: (1459, 74)\n"
     ]
    }
   ],
   "source": [
    "train = drop_cols_majority_nan(train_raw)\n",
    "print('Train dropped columns:',\n",
    "      train_raw.columns.difference(train.columns).tolist())\n",
    "print('Train shape:', train.shape)\n",
    "\n",
    "print('-' * 96)\n",
    "\n",
    "test = drop_cols_majority_nan(test_raw)\n",
    "print('Test dropped columns:',\n",
    "      test_raw.columns.difference(test.columns).tolist())\n",
    "print('Test shape:', test.shape)"
   ]
  },
  {
   "cell_type": "markdown",
   "metadata": {},
   "source": [
    "### Imputing Values Not Actually Missing"
   ]
  },
  {
   "cell_type": "code",
   "execution_count": 9,
   "metadata": {},
   "outputs": [],
   "source": [
    "def impute(df, cols):\n",
    "    '''Accepts a df and list of column names to fill NaN with the string N/A.'''\n",
    "    \n",
    "    df[cols] = df[cols].fillna('N/A')\n",
    "\n",
    "# If observation has TotalBsmtSF > 0, NaN in any Bsmt column != No Basement\n",
    "def impute_bsmt(df, cols):\n",
    "    '''Accepts a df and list of column names to fill NaN with the string N/A,\n",
    "       excluding cols that have TotalBsmtSF > 0.'''\n",
    "\n",
    "    # Store rows where NaN != No Basement\n",
    "    to_drop = df[cols][(df[cols].isna().any(axis=1)) & (df[cols].TotalBsmtSF > 0)]\n",
    "    # After dropping rows, fill NaNs\n",
    "    dframe = df[cols].drop(to_drop.index).fillna('N/A')\n",
    "    df[cols] = pd.concat([dframe, to_drop])"
   ]
  },
  {
   "cell_type": "code",
   "execution_count": 10,
   "metadata": {},
   "outputs": [],
   "source": [
    "impute(train, list(train.columns[train.columns.str.contains('Garage')]))\n",
    "impute_bsmt(train, list(train.columns[train.columns.str.contains('Bsmt')]))"
   ]
  },
  {
   "cell_type": "markdown",
   "metadata": {},
   "source": [
    "### Imputing Remaining Missing Values"
   ]
  },
  {
   "cell_type": "code",
   "execution_count": 11,
   "metadata": {
    "scrolled": false
   },
   "outputs": [],
   "source": [
    "def missing_cols(df):\n",
    "    return df.columns[df.isna().any()].tolist()\n",
    "\n",
    "def impute_categorical_mode(df, cols):\n",
    "    '''\n",
    "    Accepts a df and list of column names to fill NaN in categorical columns\n",
    "    with the mode of each column.\n",
    "    '''\n",
    "    df[cols] = df[cols].fillna(df.mode().iloc[0])\n",
    "\n",
    "impute_categorical_mode(train, missing_cols(train))\n",
    "impute_categorical_mode(test, missing_cols(test))"
   ]
  },
  {
   "cell_type": "code",
   "execution_count": 12,
   "metadata": {},
   "outputs": [
    {
     "name": "stdout",
     "output_type": "stream",
     "text": [
      "Number of rows with NaN: 0 \n",
      "\n",
      "---------------------------\n",
      "Number of rows with NaN: 0 \n",
      "\n"
     ]
    }
   ],
   "source": [
    "missing_val_info(train)\n",
    "print('-' * 27)\n",
    "missing_val_info(test)"
   ]
  },
  {
   "cell_type": "markdown",
   "metadata": {},
   "source": [
    "## Exploratory Data Analysis"
   ]
  },
  {
   "cell_type": "markdown",
   "metadata": {},
   "source": [
    "### Separating Target and Features"
   ]
  },
  {
   "cell_type": "code",
   "execution_count": 13,
   "metadata": {},
   "outputs": [],
   "source": [
    "def separate_variables(df):\n",
    "    '''Splits a training dataframe into target and feature dataframes.'''\n",
    "    target = df.SalePrice\n",
    "    features = df.drop('SalePrice', 1)\n",
    "    return target, features\n",
    "\n",
    "y_train, X_train = separate_variables(train)"
   ]
  }
 ],
 "metadata": {
  "kernelspec": {
   "display_name": "Python 3",
   "language": "python",
   "name": "python3"
  },
  "language_info": {
   "codemirror_mode": {
    "name": "ipython",
    "version": 3
   },
   "file_extension": ".py",
   "mimetype": "text/x-python",
   "name": "python",
   "nbconvert_exporter": "python",
   "pygments_lexer": "ipython3",
   "version": "3.7.6"
  },
  "toc": {
   "base_numbering": 1,
   "nav_menu": {},
   "number_sections": true,
   "sideBar": true,
   "skip_h1_title": true,
   "title_cell": "Table of Contents",
   "title_sidebar": "Contents",
   "toc_cell": true,
   "toc_position": {
    "height": "calc(100% - 180px)",
    "left": "10px",
    "top": "150px",
    "width": "165px"
   },
   "toc_section_display": true,
   "toc_window_display": true
  }
 },
 "nbformat": 4,
 "nbformat_minor": 4
}
