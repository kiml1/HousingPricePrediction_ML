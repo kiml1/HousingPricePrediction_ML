{
 "cells": [
  {
   "cell_type": "markdown",
   "metadata": {},
   "source": [
    "## Setup and Data Import"
   ]
  },
  {
   "cell_type": "code",
   "execution_count": 1,
   "metadata": {},
   "outputs": [],
   "source": [
    "import numpy as np\n",
    "\n",
    "import pandas as pd\n",
    "pd.options.display.max_rows = None\n",
    "pd.options.display.max_columns = None\n",
    "\n",
    "import sys\n",
    "sys.path.insert(0,'..')\n",
    "\n",
    "import Imputation_Module as imp # imports csv files\n",
    "import FeatureEngineering_Module as fe\n",
    "import Encoding_Module as ec\n",
    "\n",
    "from sklearn.metrics import mean_squared_error\n",
    "import sklearn.linear_model as lm\n",
    "import sklearn.model_selection as ms\n",
    "from sklearn.pipeline import Pipeline, make_pipeline\n",
    "from sklearn.decomposition import PCA\n",
    "from sklearn import tree\n",
    "from sklearn.ensemble import GradientBoostingRegressor\n",
    "\n",
    "import statsmodels.api as sm\n",
    "\n",
    "import random\n",
    "\n",
    "import matplotlib.pyplot as plt\n",
    "%matplotlib inline\n",
    "plt.style.use('dark_background')"
   ]
  },
  {
   "cell_type": "markdown",
   "metadata": {},
   "source": [
    "## Imputation and Feature Engineering"
   ]
  },
  {
   "cell_type": "code",
   "execution_count": 2,
   "metadata": {},
   "outputs": [],
   "source": [
    "train, test = imp.impute_data()\n",
    "\n",
    "train = fe.FeatureEngineering(train)\n",
    "test = fe.FeatureEngineering(test)\n",
    "\n",
    "train_dummies, test_dummies = fe.Dummify(train, test)\n",
    "\n",
    "train_ec, test_ec = ec.encode(train, test)"
   ]
  },
  {
   "cell_type": "code",
   "execution_count": 3,
   "metadata": {},
   "outputs": [],
   "source": [
    "X = train_dummies.drop('SalePrice', 1)\n",
    "y = train_dummies.SalePrice"
   ]
  },
  {
   "cell_type": "code",
   "execution_count": 4,
   "metadata": {},
   "outputs": [],
   "source": [
    "X_ec = train_ec.drop('SalePrice', 1)\n",
    "y_ec = train_dummies.SalePrice"
   ]
  },
  {
   "cell_type": "markdown",
   "metadata": {},
   "source": [
    "## Modeling"
   ]
  },
  {
   "cell_type": "markdown",
   "metadata": {},
   "source": [
    "### Linear Modeling with Log(y)"
   ]
  },
  {
   "cell_type": "code",
   "execution_count": 5,
   "metadata": {},
   "outputs": [],
   "source": [
    "X_train, X_test, y_train, y_test \\\n",
    "    = ms.train_test_split(X, np.log(y), test_size=0.2, random_state=0)"
   ]
  },
  {
   "cell_type": "code",
   "execution_count": 6,
   "metadata": {
    "scrolled": true
   },
   "outputs": [],
   "source": [
    "def linear_model(model, X=X_train, y=y_train):\n",
    "    model.fit(X, y)\n",
    "    score = model.score(X, y)\n",
    "    y_pred = model.predict(X_test)\n",
    "\n",
    "    RMSLE = mean_squared_error(y_test, y_pred, squared=False)\n",
    "    print('%s R^2: %0.5f'\n",
    "          % (type(model).__name__, score.mean()))\n",
    "    print('Root Mean Squared Log Error: %0.5f' % RMSLE)"
   ]
  },
  {
   "cell_type": "markdown",
   "metadata": {},
   "source": [
    "#### Baseline"
   ]
  },
  {
   "cell_type": "code",
   "execution_count": 7,
   "metadata": {
    "scrolled": true
   },
   "outputs": [
    {
     "name": "stdout",
     "output_type": "stream",
     "text": [
      "LinearRegression R^2: 0.93146\n",
      "Root Mean Squared Log Error: 0.11501\n"
     ]
    }
   ],
   "source": [
    "ols = lm.LinearRegression()\n",
    "linear_model(ols)"
   ]
  },
  {
   "cell_type": "markdown",
   "metadata": {},
   "source": [
    "#### Ridge"
   ]
  },
  {
   "cell_type": "code",
   "execution_count": 8,
   "metadata": {
    "scrolled": false
   },
   "outputs": [
    {
     "name": "stdout",
     "output_type": "stream",
     "text": [
      "RidgeCV R^2: 0.92983\n",
      "Root Mean Squared Log Error: 0.11273\n"
     ]
    }
   ],
   "source": [
    "ridgecv = lm.RidgeCV(alphas=np.logspace(-5, 5, 100), normalize=True)\n",
    "linear_model(ridgecv)\n"
   ]
  },
  {
   "cell_type": "markdown",
   "metadata": {},
   "source": [
    "#### Lasso"
   ]
  },
  {
   "cell_type": "code",
   "execution_count": 9,
   "metadata": {
    "scrolled": true
   },
   "outputs": [
    {
     "name": "stdout",
     "output_type": "stream",
     "text": [
      "LassoCV R^2: 0.92857\n",
      "Root Mean Squared Log Error: 0.11116\n"
     ]
    }
   ],
   "source": [
    "lasso = lm.LassoCV(alphas=np.logspace(-7, -1, 100), max_iter=10000, normalize=True, cv=10)\n",
    "linear_model(lasso)"
   ]
  },
  {
   "cell_type": "code",
   "execution_count": 10,
   "metadata": {},
   "outputs": [
    {
     "data": {
      "text/plain": [
       "2.310129700083158e-05"
      ]
     },
     "execution_count": 10,
     "metadata": {},
     "output_type": "execute_result"
    }
   ],
   "source": [
    "lasso.alpha_"
   ]
  },
  {
   "cell_type": "markdown",
   "metadata": {},
   "source": [
    "#### Elastic Net"
   ]
  },
  {
   "cell_type": "code",
   "execution_count": 11,
   "metadata": {
    "scrolled": false
   },
   "outputs": [
    {
     "name": "stdout",
     "output_type": "stream",
     "text": [
      "ElasticNetCV R^2: 0.92889\n",
      "Root Mean Squared Log Error: 0.11233\n"
     ]
    }
   ],
   "source": [
    "net = lm.ElasticNetCV(normalize=True)\n",
    "linear_model(net)"
   ]
  },
  {
   "cell_type": "code",
   "execution_count": 12,
   "metadata": {
    "scrolled": true
   },
   "outputs": [],
   "source": [
    "lasso_coefs = pd.DataFrame({'feature': np.array(X_train.columns),\n",
    "                            'coefficient': lasso.coef_}\n",
    "                          ).sort_values('coefficient', ascending=False)\n",
    "\n",
    "# lasso_coefs.plot.barh(y='coefficient', x='feature', figsize=(12, 40),\n",
    "#                       title='LassoCV Coefficients');"
   ]
  },
  {
   "cell_type": "code",
   "execution_count": 29,
   "metadata": {
    "scrolled": true
   },
   "outputs": [
    {
     "ename": "AttributeError",
     "evalue": "'function' object has no attribute 'tables'",
     "output_type": "error",
     "traceback": [
      "\u001b[1;31m---------------------------------------------------------------------------\u001b[0m",
      "\u001b[1;31mAttributeError\u001b[0m                            Traceback (most recent call last)",
      "\u001b[1;32m<ipython-input-29-e95bfb0d6b4c>\u001b[0m in \u001b[0;36m<module>\u001b[1;34m\u001b[0m\n\u001b[0;32m      3\u001b[0m \u001b[1;31m# sm_lasso.rename(columns=sm_lasso[0]).drop(sm_lasso.index[0])\u001b[0m\u001b[1;33m\u001b[0m\u001b[1;33m\u001b[0m\u001b[1;33m\u001b[0m\u001b[0m\n\u001b[0;32m      4\u001b[0m \u001b[1;33m\u001b[0m\u001b[0m\n\u001b[1;32m----> 5\u001b[1;33m \u001b[0msm_lasso\u001b[0m\u001b[1;33m.\u001b[0m\u001b[0msummary\u001b[0m\u001b[1;33m.\u001b[0m\u001b[0mtables\u001b[0m\u001b[1;33m\u001b[0m\u001b[1;33m\u001b[0m\u001b[0m\n\u001b[0m",
      "\u001b[1;31mAttributeError\u001b[0m: 'function' object has no attribute 'tables'"
     ]
    }
   ],
   "source": [
    "X_add_const = sm.add_constant(X_train)\n",
    "sm_lasso = sm.OLS(y_train, X_add_const).fit_regularized('sqrt_lasso', alpha=2.31)#.summary().tables[1]\n",
    "# sm_lasso.rename(columns=sm_lasso[0]).drop(sm_lasso.index[0])\n",
    "\n",
    "sm_lasso.summary"
   ]
  },
  {
   "cell_type": "markdown",
   "metadata": {},
   "source": [
    "### Tree Modeling"
   ]
  },
  {
   "cell_type": "code",
   "execution_count": null,
   "metadata": {},
   "outputs": [],
   "source": [
    "Xec_train, Xec_test, yec_train, yec_test = ms.train_test_split(X_ec, y_ec, test_size=0.2, random_state=0)"
   ]
  },
  {
   "cell_type": "code",
   "execution_count": null,
   "metadata": {},
   "outputs": [],
   "source": [
    "def get_error(model, X_train=Xec_train, y_train=yec_train, X_test=Xec_test, y_test=yec_test):\n",
    "    model.fit(X_train, y_train)\n",
    "    train_error = 1 - model.score(X_train, y_train)\n",
    "    test_error  = 1 - model.score(X_test, y_test)\n",
    "    print(\"The training error is: %.5f\" %train_error)\n",
    "    print(\"The test error is: %.5f\" %test_error)"
   ]
  },
  {
   "cell_type": "markdown",
   "metadata": {},
   "source": [
    "#### Baseline (Log(y))"
   ]
  },
  {
   "cell_type": "code",
   "execution_count": null,
   "metadata": {},
   "outputs": [],
   "source": [
    "tree_model = tree.DecisionTreeRegressor()\n",
    "get_error(tree_model)"
   ]
  },
  {
   "cell_type": "code",
   "execution_count": null,
   "metadata": {
    "scrolled": true
   },
   "outputs": [],
   "source": [
    "grid_para_tree = {'criterion': [\"mse\", \"friedman_mse\", \"mae\"],\n",
    "                  'max_depth': range(1, 12)}\n",
    "grid_search_tree = ms.GridSearchCV(tree_model, grid_para_tree, cv=10)\n",
    "\n",
    "get_error(grid_search_tree)\n",
    "print('The best score is %.4f' %grid_search_tree.best_score_)\n",
    "print('The best parameters are %s' %grid_search_tree.best_params_)"
   ]
  },
  {
   "cell_type": "markdown",
   "metadata": {},
   "source": [
    "#### Gradient Boosting"
   ]
  },
  {
   "cell_type": "code",
   "execution_count": null,
   "metadata": {},
   "outputs": [],
   "source": [
    "# gb_model = GradientBoostingRegressor()\n",
    "\n",
    "# grid_para_gb = {'loss': ['ls', 'lad', 'huber', 'quantile'],\n",
    "#                 'criterion': [\"mse\", \"friedman_mse\", \"mae\"],\n",
    "#                 'max_depth': range(1, 12)}\n",
    "# grid_search_gb = ms.GridSearchCV(gb_model, grid_para_gb, cv=10, n_jobs=5)\n",
    "\n",
    "# get_error(grid_search_gb)\n",
    "# print('The best score is %.4f' %grid_search_tree.best_score_)\n",
    "# print('The best parameters are %s' %grid_search_tree.best_params_)\n",
    "# # -------------------------------------------------------------\n",
    "# # TAKES FOREVER TO RUN. RESULTS:\n",
    "\n",
    "# # The training error is: 0.01315\n",
    "# # The test error is: 0.09606\n",
    "# # The best score is 0.8820023636243057\n",
    "# # The best parameters are {'criterion': 'mse', 'loss': 'lad', 'max_depth': 9}"
   ]
  },
  {
   "cell_type": "code",
   "execution_count": null,
   "metadata": {
    "scrolled": true
   },
   "outputs": [],
   "source": [
    "gb_model = GradientBoostingRegressor(loss='lad', n_estimators=400, subsample=0.8,\n",
    "                                     criterion='mse', max_depth=9, random_state=0)\n",
    "get_error(gb_model)"
   ]
  },
  {
   "cell_type": "markdown",
   "metadata": {},
   "source": [
    "##### Feature Importances"
   ]
  },
  {
   "cell_type": "code",
   "execution_count": null,
   "metadata": {},
   "outputs": [],
   "source": [
    "feat_imp = pd.DataFrame({'feature': np.array(Xec_train.columns),\n",
    "                         'importance': gb_model.feature_importances_})"
   ]
  },
  {
   "cell_type": "code",
   "execution_count": null,
   "metadata": {},
   "outputs": [],
   "source": [
    "feat_imp.sort_values('importance').plot.barh(y='importance', x='feature', figsize=(12,12),\n",
    "                   title='Feature Importances');"
   ]
  }
 ],
 "metadata": {
  "kernelspec": {
   "display_name": "Python 3",
   "language": "python",
   "name": "python3"
  },
  "language_info": {
   "codemirror_mode": {
    "name": "ipython",
    "version": 3
   },
   "file_extension": ".py",
   "mimetype": "text/x-python",
   "name": "python",
   "nbconvert_exporter": "python",
   "pygments_lexer": "ipython3",
   "version": "3.7.6"
  },
  "toc": {
   "base_numbering": 1,
   "nav_menu": {},
   "number_sections": true,
   "sideBar": true,
   "skip_h1_title": true,
   "title_cell": "Table of Contents",
   "title_sidebar": "Contents",
   "toc_cell": false,
   "toc_position": {
    "height": "calc(100% - 180px)",
    "left": "10px",
    "top": "150px",
    "width": "165px"
   },
   "toc_section_display": true,
   "toc_window_display": true
  }
 },
 "nbformat": 4,
 "nbformat_minor": 4
}
