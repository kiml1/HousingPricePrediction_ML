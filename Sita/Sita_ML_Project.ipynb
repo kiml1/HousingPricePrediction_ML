{
 "cells": [
  {
   "cell_type": "markdown",
   "metadata": {},
   "source": [
    "## Setup and Data Import"
   ]
  },
  {
   "cell_type": "code",
   "execution_count": 1,
   "metadata": {},
   "outputs": [],
   "source": [
    "import numpy as np\n",
    "\n",
    "import pandas as pd\n",
    "pd.options.display.max_rows = None\n",
    "pd.options.display.max_columns = None\n",
    "\n",
    "import sys\n",
    "sys.path.insert(0,'..')\n",
    "\n",
    "import Imputation_Module as imp # imports csv files\n",
    "import FeatureEngineering_Module as fe\n",
    "import Encoding_Module as ec\n",
    "\n",
    "from sklearn.metrics import mean_squared_error, mean_squared_log_error\n",
    "import sklearn.linear_model as lm\n",
    "import sklearn.model_selection as ms\n",
    "from sklearn import tree\n",
    "from sklearn.ensemble import GradientBoostingRegressor\n",
    "\n",
    "import joblib\n",
    "\n",
    "import matplotlib.pyplot as plt\n",
    "%matplotlib inline\n",
    "plt.style.use('dark_background')"
   ]
  },
  {
   "cell_type": "markdown",
   "metadata": {},
   "source": [
    "## Imputation and Feature Engineering"
   ]
  },
  {
   "cell_type": "code",
   "execution_count": 2,
   "metadata": {},
   "outputs": [],
   "source": [
    "train, test = imp.impute_data()\n",
    "\n",
    "train = fe.FeatureEngineering(train)\n",
    "test = fe.FeatureEngineering(test)\n",
    "\n",
    "train_dummies, test_dummies = fe.Dummify(train, test)\n",
    "\n",
    "train_ec, test_ec = ec.encode(train, test)"
   ]
  },
  {
   "cell_type": "code",
   "execution_count": 3,
   "metadata": {},
   "outputs": [],
   "source": [
    "X = train_dummies.drop('SalePrice', 1)\n",
    "y = train_dummies.SalePrice"
   ]
  },
  {
   "cell_type": "code",
   "execution_count": 4,
   "metadata": {},
   "outputs": [],
   "source": [
    "X_ec = train_ec.drop('SalePrice', 1)\n",
    "y_ec = train_dummies.SalePrice"
   ]
  },
  {
   "cell_type": "markdown",
   "metadata": {},
   "source": [
    "## Modeling"
   ]
  },
  {
   "cell_type": "markdown",
   "metadata": {},
   "source": [
    "### Linear Modeling with Log(y)"
   ]
  },
  {
   "cell_type": "code",
   "execution_count": 5,
   "metadata": {},
   "outputs": [],
   "source": [
    "X_train, X_test, y_train, y_test \\\n",
    "    = ms.train_test_split(X, np.log(y), test_size=0.2, random_state=0)"
   ]
  },
  {
   "cell_type": "code",
   "execution_count": 6,
   "metadata": {
    "scrolled": true
   },
   "outputs": [],
   "source": [
    "def linear_model(model, X=X_train, y=y_train):\n",
    "    model.fit(X, y)\n",
    "    score = model.score(X, y)\n",
    "    y_pred = model.predict(X_test)\n",
    "\n",
    "    RMSLE = mean_squared_error(y_test, y_pred, squared=False)\n",
    "    print('%s R^2: %0.5f'\n",
    "          % (type(model).__name__, score.mean()))\n",
    "    print('Root Mean Squared Log Error: %0.5f' % RMSLE)"
   ]
  },
  {
   "cell_type": "markdown",
   "metadata": {},
   "source": [
    "#### Baseline"
   ]
  },
  {
   "cell_type": "code",
   "execution_count": 7,
   "metadata": {
    "scrolled": true
   },
   "outputs": [
    {
     "name": "stdout",
     "output_type": "stream",
     "text": [
      "LinearRegression R^2: 0.93146\n",
      "Root Mean Squared Log Error: 0.11501\n"
     ]
    }
   ],
   "source": [
    "ols = lm.LinearRegression()\n",
    "linear_model(ols)"
   ]
  },
  {
   "cell_type": "markdown",
   "metadata": {},
   "source": [
    "#### Ridge"
   ]
  },
  {
   "cell_type": "code",
   "execution_count": 8,
   "metadata": {
    "scrolled": false
   },
   "outputs": [
    {
     "name": "stdout",
     "output_type": "stream",
     "text": [
      "RidgeCV R^2: 0.92983\n",
      "Root Mean Squared Log Error: 0.11273\n"
     ]
    }
   ],
   "source": [
    "ridgecv = lm.RidgeCV(alphas=np.logspace(-5, 5, 100), normalize=True)\n",
    "linear_model(ridgecv)"
   ]
  },
  {
   "cell_type": "markdown",
   "metadata": {},
   "source": [
    "#### Lasso"
   ]
  },
  {
   "cell_type": "code",
   "execution_count": 9,
   "metadata": {
    "scrolled": true
   },
   "outputs": [
    {
     "name": "stdout",
     "output_type": "stream",
     "text": [
      "LassoCV R^2: 0.92857\n",
      "Root Mean Squared Log Error: 0.11116\n"
     ]
    }
   ],
   "source": [
    "lasso = lm.LassoCV(alphas=np.logspace(-7, -1, 100), max_iter=10000, normalize=True, cv=10)\n",
    "linear_model(lasso)"
   ]
  },
  {
   "cell_type": "markdown",
   "metadata": {},
   "source": [
    "#### Elastic Net"
   ]
  },
  {
   "cell_type": "code",
   "execution_count": 10,
   "metadata": {
    "scrolled": false
   },
   "outputs": [
    {
     "name": "stdout",
     "output_type": "stream",
     "text": [
      "ElasticNetCV R^2: 0.92791\n",
      "Root Mean Squared Log Error: 0.11247\n"
     ]
    }
   ],
   "source": [
    "net = lm.ElasticNetCV(alphas=np.logspace(-7, -1, 100), max_iter=10000, normalize=True, cv=10)\n",
    "linear_model(net)"
   ]
  },
  {
   "cell_type": "markdown",
   "metadata": {},
   "source": [
    "### Tree Modeling"
   ]
  },
  {
   "cell_type": "code",
   "execution_count": 11,
   "metadata": {},
   "outputs": [],
   "source": [
    "Xec_train, Xec_test, yec_train, yec_test = ms.train_test_split(X_ec, y_ec, test_size=0.2, random_state=0)"
   ]
  },
  {
   "cell_type": "code",
   "execution_count": 12,
   "metadata": {},
   "outputs": [],
   "source": [
    "def get_error(model, X_train=Xec_train, y_train=yec_train, X_test=Xec_test, y_test=yec_test):\n",
    "    model.fit(X_train, y_train)\n",
    "    train_error = 1 - model.score(X_train, y_train)\n",
    "    test_error  = 1 - model.score(X_test, y_test)\n",
    "    print(\"The training error is: %.5f\" %train_error)\n",
    "    print(\"The test error is: %.5f\" %test_error)\n",
    "    \n",
    "    y_pred = model.predict(X_test)\n",
    "    RMSLE = np.sqrt(mean_squared_log_error(y_test, y_pred))\n",
    "    print('Root Mean Squared Log Error: %0.5f' % RMSLE)"
   ]
  },
  {
   "cell_type": "markdown",
   "metadata": {},
   "source": [
    "#### Baseline"
   ]
  },
  {
   "cell_type": "code",
   "execution_count": 13,
   "metadata": {},
   "outputs": [
    {
     "name": "stdout",
     "output_type": "stream",
     "text": [
      "The training error is: 0.00000\n",
      "The test error is: 0.23744\n",
      "Root Mean Squared Log Error: 0.18801\n"
     ]
    }
   ],
   "source": [
    "tree_model = tree.DecisionTreeRegressor(random_state=0)\n",
    "get_error(tree_model)"
   ]
  },
  {
   "cell_type": "code",
   "execution_count": 14,
   "metadata": {
    "scrolled": true
   },
   "outputs": [],
   "source": [
    "# grid_para_tree = {'criterion': [\"mse\", \"friedman_mse\", \"mae\"],\n",
    "#                   'max_depth': range(1, 12)}\n",
    "# grid_search_tree = ms.GridSearchCV(tree_model, grid_para_tree, cv=10)\n",
    "\n",
    "# get_error(grid_search_tree)\n",
    "# print('The best score is %.4f' %grid_search_tree.best_score_)\n",
    "# print('The best parameters are %s' %grid_search_tree.best_params_)\n",
    "# # -------------------------------------------------------------\n",
    "# # RESULTS:\n",
    "\n",
    "# # The training error is: 0.20091\n",
    "# # The test error is: 0.26604\n",
    "# # The best score is 0.7259\n",
    "# # The best parameters are {'criterion': 'mse', 'max_depth': 4}"
   ]
  },
  {
   "cell_type": "markdown",
   "metadata": {},
   "source": [
    "#### Gradient Boosting"
   ]
  },
  {
   "cell_type": "markdown",
   "metadata": {},
   "source": [
    "##### Baseline"
   ]
  },
  {
   "cell_type": "code",
   "execution_count": 15,
   "metadata": {
    "scrolled": false
   },
   "outputs": [
    {
     "name": "stdout",
     "output_type": "stream",
     "text": [
      "The training error is: 0.04000\n",
      "The test error is: 0.08469\n",
      "Root Mean Squared Log Error: 0.11283\n"
     ]
    }
   ],
   "source": [
    "gb_model = GradientBoostingRegressor(random_state=0)\n",
    "get_error(gb_model)"
   ]
  },
  {
   "cell_type": "code",
   "execution_count": 16,
   "metadata": {},
   "outputs": [],
   "source": [
    "# gb_model = GradientBoostingRegressor(random_state=0)\n",
    "\n",
    "# grid_para_gb = {'loss': ['ls', 'lad', 'huber', 'quantile'],\n",
    "#                 'n_estimators': [50, 200, 400],\n",
    "#                 'subsample': [1.0, 0.8],\n",
    "#                 'criterion': [\"mse\", \"friedman_mse\", \"mae\"],\n",
    "#                 'max_depth': range(1, 10)}\n",
    "# grid_search_gb = ms.GridSearchCV(gb_model, grid_para_gb, cv=10, n_jobs=-1)\n",
    "\n",
    "# get_error(grid_search_gb)\n",
    "# print('The best score is %.4f' %grid_search_gb.best_score_)\n",
    "# print('The best parameters are %s' %grid_search_gb.best_params_)\n",
    "# joblib.dump(grid_search_gb.best_estimator_, 'gb_model_ames_housing.pkl')\n",
    "# # -------------------------------------------------------------\n",
    "# # TAKES SEVERAL HOURS TO RUN. SAVED AS 'gb_model.pkl'\n",
    "# # RESULTS:\n",
    "\n",
    "# # The training error is: 0.03764\n",
    "# # The test error is: 0.08361\n",
    "# # The best score is 0.8975\n",
    "# # The best parameters are {'criterion': 'mse', 'loss': 'huber', 'max_depth': 2,\n",
    "# #                          'n_estimators': 400, 'subsample': 0.8}"
   ]
  },
  {
   "cell_type": "code",
   "execution_count": 17,
   "metadata": {
    "scrolled": true
   },
   "outputs": [
    {
     "name": "stdout",
     "output_type": "stream",
     "text": [
      "The training error is: 0.03764\n",
      "The test error is: 0.08361\n",
      "Root Mean Squared Log Error: 0.11674\n"
     ]
    }
   ],
   "source": [
    "gb_final = joblib.load('gb_model.pkl')\n",
    "get_error(gb_final)"
   ]
  },
  {
   "cell_type": "markdown",
   "metadata": {},
   "source": [
    "The baseline Gradient Boosting model generated decent results - no severe over or under-fitting with an error rate less than 10%. A grid search was run on 5 parameters regardless and resulted in slightly reduced errors in both the training and test sets. It is what is used for the following analysis, but was generally not worth the computational expensive of the grid search."
   ]
  },
  {
   "cell_type": "markdown",
   "metadata": {},
   "source": [
    "##### Feature Importances"
   ]
  },
  {
   "cell_type": "code",
   "execution_count": 18,
   "metadata": {},
   "outputs": [],
   "source": [
    "feat_imp = pd.DataFrame({'feature': np.array(Xec_train.columns),\n",
    "                         'importance': gb_final.feature_importances_})"
   ]
  },
  {
   "cell_type": "code",
   "execution_count": 19,
   "metadata": {
    "scrolled": true
   },
   "outputs": [
    {
     "data": {
      "image/png": "[encoded data removed]",
      "text/plain": [
       "<Figure size 864x864 with 1 Axes>"
      ]
     },
     "metadata": {},
     "output_type": "display_data"
    }
   ],
   "source": [
    "feat_imp.sort_values('importance').plot.barh(y='importance', x='feature', figsize=(12,12),\n",
    "                   title='Feature Importances');"
   ]
  },
  {
   "cell_type": "markdown",
   "metadata": {},
   "source": [
    "The top 6 features that contribute the most to SalePrice are OverallQual, GrLivArea, GarageCars, ExteriorQual, FullBaths, BsmtQual, with a roughly expontial increase in importance.\n",
    "\n",
    "This indicates that the single most important factor when historically selling a home in Ames, Iowa, is \"the overall material and finish of the house.\" A home with any set of features (large/small, good/bad neighborhood, etc.) will sell better than any other house with comparable features as long as the home has high-quality materials and finishes. Therefore, when planning to sell a home, remodel a home with a future sale in mind, or puchase a home for investment, it would be wise to consider the overall quality first and foremost.\n",
    "\n",
    "Exterior quality is the 4th most influential feature on SalePrice and Basement Quality is the 6th, understandably following up Overall Quality. This indicates that if one is prioritizing areas to remodel, indoor finishes, followed by outdoor finishes and finally basement finishes may be the best approach. That said, if remodeling over several years with plans to sell the home in the future, it may be wise to reverse this order given that Years Since Remodel is the 11th of 48 most important feature, so that the most outdated finishes will be those in the basement and the most recent finishes will be those in primary living areas.\n",
    "\n",
    "While Above-Ground SF (GrLivArea) is the second most influential on Sale Price, one must consider the costs associated with increasing this feature. It may be far more worthwhile to simply replace fixtures and/or add cladding to increase the value of a home than expand or add rooms or floors. Also to be considered is lot size and local regulations - some homes may be significantly limited in their ability to grow.\n",
    "\n",
    "The Garage Size (by car capacity) can be thought of similarly to Above-Ground SF - while important for sale price, the costs and feasibility of adding garage space may not be worth it. Also to note is that simply increasing square footage of a garage is not as important as being able to fit an entire additional vehicle in a garage, so adding/building a workspace or storage area will likely not be significantly reflected in a higher Sale Price. Where garage size may be most valuable is at homes that have neither a garage nor carport. Adding some sort of vehicle storage structure, even poor quality, may be worthwhile, even though it has a high cost.\n",
    "\n",
    "Of the 6 most important features, the number of Full Baths comes in 5th. When considering increasing SF or what specific rooms to remodel, bathrooms are a sound bet. Adding a bathroom is less square footage but requires more plumbing and finishes than adding a bedroom or bonus room, so the ratio of bedrooms to bathrooms would be smart to consider. If a home already has one bathroom per bedroom, adding a bathroom may not add as much value as adding a bathroom to a 3 bedroom/1 bath home."
   ]
  }
 ],
 "metadata": {
  "kernelspec": {
   "display_name": "Python 3",
   "language": "python",
   "name": "python3"
  },
  "language_info": {
   "codemirror_mode": {
    "name": "ipython",
    "version": 3
   },
   "file_extension": ".py",
   "mimetype": "text/x-python",
   "name": "python",
   "nbconvert_exporter": "python",
   "pygments_lexer": "ipython3",
   "version": "3.7.6"
  },
  "toc": {
   "base_numbering": 1,
   "nav_menu": {},
   "number_sections": true,
   "sideBar": true,
   "skip_h1_title": true,
   "title_cell": "Table of Contents",
   "title_sidebar": "Contents",
   "toc_cell": false,
   "toc_position": {
    "height": "calc(100% - 180px)",
    "left": "10px",
    "top": "150px",
    "width": "165px"
   },
   "toc_section_display": true,
   "toc_window_display": true
  }
 },
 "nbformat": 4,
 "nbformat_minor": 4
}
