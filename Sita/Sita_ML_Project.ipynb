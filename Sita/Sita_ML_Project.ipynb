{
 "cells": [
  {
   "cell_type": "markdown",
   "metadata": {
    "toc": true
   },
   "source": [
    "<h1>Table of Contents<span class=\"tocSkip\"></span></h1>\n",
    "<div class=\"toc\"><ul class=\"toc-item\"><li><span><a href=\"#Setup-and-Data-Import\" data-toc-modified-id=\"Setup-and-Data-Import-1\"><span class=\"toc-item-num\">1&nbsp;&nbsp;</span>Setup and Data Import</a></span></li><li><span><a href=\"#Organizing\" data-toc-modified-id=\"Organizing-2\"><span class=\"toc-item-num\">2&nbsp;&nbsp;</span>Organizing</a></span><ul class=\"toc-item\"><li><span><a href=\"#ID-to-Index\" data-toc-modified-id=\"ID-to-Index-2.1\"><span class=\"toc-item-num\">2.1&nbsp;&nbsp;</span>ID to Index</a></span></li><li><span><a href=\"#Numerical-Variables-to-Categorical\" data-toc-modified-id=\"Numerical-Variables-to-Categorical-2.2\"><span class=\"toc-item-num\">2.2&nbsp;&nbsp;</span>Numerical Variables to Categorical</a></span></li><li><span><a href=\"#Impute-LotFrontage\" data-toc-modified-id=\"Impute-LotFrontage-2.3\"><span class=\"toc-item-num\">2.3&nbsp;&nbsp;</span>Impute LotFrontage</a></span></li><li><span><a href=\"#Columns-by-Data-Type\" data-toc-modified-id=\"Columns-by-Data-Type-2.4\"><span class=\"toc-item-num\">2.4&nbsp;&nbsp;</span>Columns by Data Type</a></span></li></ul></li><li><span><a href=\"#Cleaning-Missing-Values\" data-toc-modified-id=\"Cleaning-Missing-Values-3\"><span class=\"toc-item-num\">3&nbsp;&nbsp;</span>Cleaning Missing Values</a></span><ul class=\"toc-item\"><li><span><a href=\"#See-Missing-Values\" data-toc-modified-id=\"See-Missing-Values-3.1\"><span class=\"toc-item-num\">3.1&nbsp;&nbsp;</span>See Missing Values</a></span></li><li><span><a href=\"#Drop-Columns-with-Majority-NaN\" data-toc-modified-id=\"Drop-Columns-with-Majority-NaN-3.2\"><span class=\"toc-item-num\">3.2&nbsp;&nbsp;</span>Drop Columns with Majority NaN</a></span></li><li><span><a href=\"#Impute-Values-Not-Actually-Missing\" data-toc-modified-id=\"Impute-Values-Not-Actually-Missing-3.3\"><span class=\"toc-item-num\">3.3&nbsp;&nbsp;</span>Impute Values Not Actually Missing</a></span></li><li><span><a href=\"#Impute-Remaining-Missing-Values\" data-toc-modified-id=\"Impute-Remaining-Missing-Values-3.4\"><span class=\"toc-item-num\">3.4&nbsp;&nbsp;</span>Impute Remaining Missing Values</a></span></li></ul></li><li><span><a href=\"#Feature-Selection\" data-toc-modified-id=\"Feature-Selection-4\"><span class=\"toc-item-num\">4&nbsp;&nbsp;</span>Feature Selection</a></span><ul class=\"toc-item\"><li><span><a href=\"#Numeric-Variables-Correlation-Matrix\" data-toc-modified-id=\"Numeric-Variables-Correlation-Matrix-4.1\"><span class=\"toc-item-num\">4.1&nbsp;&nbsp;</span>Numeric Variables Correlation Matrix</a></span></li><li><span><a href=\"#Numeric-Variables-Feature-Importances\" data-toc-modified-id=\"Numeric-Variables-Feature-Importances-4.2\"><span class=\"toc-item-num\">4.2&nbsp;&nbsp;</span>Numeric Variables Feature Importances</a></span></li><li><span><a href=\"#Separating-Target-and-Features\" data-toc-modified-id=\"Separating-Target-and-Features-4.3\"><span class=\"toc-item-num\">4.3&nbsp;&nbsp;</span>Separating Target and Features</a></span></li></ul></li></ul></div>"
   ]
  },
  {
   "cell_type": "markdown",
   "metadata": {},
   "source": [
    "## Setup and Data Import"
   ]
  },
  {
   "cell_type": "code",
   "execution_count": 1,
   "metadata": {},
   "outputs": [],
   "source": [
    "import numpy as np\n",
    "import pandas as pd\n",
    "from sklearn.impute import SimpleImputer\n",
    "\n",
    "import plotly.express as px\n",
    "\n",
    "pd.options.display.max_rows = None\n",
    "\n",
    "import os\n",
    "if not os.path.exists(\"images\"):\n",
    "    os.mkdir(\"images\")"
   ]
  },
  {
   "cell_type": "code",
   "execution_count": 2,
   "metadata": {},
   "outputs": [],
   "source": [
    "train_raw = pd.read_csv('../train.csv')\n",
    "test_raw = pd.read_csv('../test.csv')\n",
    "\n",
    "train = train_raw.copy()\n",
    "test = test_raw.copy()"
   ]
  },
  {
   "cell_type": "code",
   "execution_count": 3,
   "metadata": {
    "scrolled": true
   },
   "outputs": [
    {
     "name": "stdout",
     "output_type": "stream",
     "text": [
      "Train: (1460, 81)\n",
      "Test: (1459, 80)\n"
     ]
    }
   ],
   "source": [
    "print('Train:', train.shape)\n",
    "print('Test:', test.shape)"
   ]
  },
  {
   "cell_type": "markdown",
   "metadata": {},
   "source": [
    "## Organizing"
   ]
  },
  {
   "cell_type": "markdown",
   "metadata": {},
   "source": [
    "### ID to Index"
   ]
  },
  {
   "cell_type": "code",
   "execution_count": 4,
   "metadata": {},
   "outputs": [],
   "source": [
    "def set_df_index(*dfs):\n",
    "    '''\n",
    "    Sets the index to the Id column.\n",
    "    \n",
    "    Arguments:\n",
    "        dfs: One or more dataframes.\n",
    "    \n",
    "    Returns:\n",
    "        df(s) altered in place.\n",
    "    '''    \n",
    "    \n",
    "    for df in dfs:\n",
    "        df.set_index('Id', inplace=True)"
   ]
  },
  {
   "cell_type": "code",
   "execution_count": 5,
   "metadata": {},
   "outputs": [],
   "source": [
    "set_df_index(train, test)"
   ]
  },
  {
   "cell_type": "markdown",
   "metadata": {},
   "source": [
    "### Numerical Variables to Categorical"
   ]
  },
  {
   "cell_type": "code",
   "execution_count": 6,
   "metadata": {},
   "outputs": [],
   "source": [
    "def num_to_cat_variable(*dfs):\n",
    "    '''\n",
    "    Converts columns containing date keywords into dtype 'category'.\n",
    "    \n",
    "    Arguments:\n",
    "        dfs: One or more dataframes.\n",
    "    \n",
    "    Returns:\n",
    "        df(s) altered in place.\n",
    "    '''\n",
    "    for df in dfs:\n",
    "        date_cols = list(df.columns[df.columns.str.contains('Year')\n",
    "                                   | df.columns.str.contains('Yr')\n",
    "                                   | df.columns.str.contains('Month')                                \n",
    "                                   | df.columns.str.contains('Mo')])\n",
    "\n",
    "        df[date_cols] = df[date_cols].astype('str')\n",
    "        df[date_cols] = df[date_cols].astype('category')\n",
    "        df[date_cols] = df[date_cols].apply(lambda x: x.cat.add_categories('N/A'))"
   ]
  },
  {
   "cell_type": "code",
   "execution_count": 7,
   "metadata": {},
   "outputs": [],
   "source": [
    "num_to_cat_variable(train, test)"
   ]
  },
  {
   "cell_type": "markdown",
   "metadata": {},
   "source": [
    "### Impute LotFrontage\n",
    "- Assumption: No observation has zero LotFrontage because all properties have \n",
    "street access.\n",
    "- LotFrontage needs to be imputed before separating numeric and categorical variables\n",
    "(for use of groupby), and before removing columns that have majority NaN (so\n",
    "that it does not get dropped prematurely)."
   ]
  },
  {
   "cell_type": "code",
   "execution_count": 8,
   "metadata": {},
   "outputs": [],
   "source": [
    "def impute_lot_frontage(*dfs):\n",
    "    '''\n",
    "    Fills the missing values of the LotFrontage column to the means of\n",
    "    LotFrontage grouped by Neighborhood from the training dataset.\n",
    "    \n",
    "    Arguments:\n",
    "        dfs: One or more dataframes.\n",
    "    \n",
    "    Returns:\n",
    "        df(s) altered in place.\n",
    "    '''\n",
    "    \n",
    "    for df in dfs:\n",
    "        train_hood_means = dict(train_raw.groupby('Neighborhood').LotFrontage.mean())\n",
    "        df.LotFrontage = df.LotFrontage.fillna(df.Neighborhood.map(train_hood_means))"
   ]
  },
  {
   "cell_type": "code",
   "execution_count": 9,
   "metadata": {},
   "outputs": [],
   "source": [
    "impute_lot_frontage(train, test)"
   ]
  },
  {
   "cell_type": "markdown",
   "metadata": {},
   "source": [
    "### Columns by Data Type"
   ]
  },
  {
   "cell_type": "code",
   "execution_count": 10,
   "metadata": {},
   "outputs": [],
   "source": [
    "# def separate_dtypes(df):\n",
    "#     '''  \n",
    "#     Assigns to two variables a dataframe's numeric columns and categorical\n",
    "#     columns, respectively. You must assign this function to two variables -\n",
    "#     the first representing the numeric columns, the second representing the\n",
    "#     categorical columns.\n",
    "    \n",
    "#     Arguments:\n",
    "#         df: A dataframe. If dataframe has either no numeric or no categorical\n",
    "#         columns, the associated variable will return a df with only an index.\n",
    "    \n",
    "#     Returns:\n",
    "#         num_cols: A copy of df containing only numerical columns.\n",
    "#         cat_cols: A copy of df containing only categorical columns.\n",
    "#     '''\n",
    "    \n",
    "#     num_cols = df.select_dtypes(include=[\n",
    "#         'int', 'int8', 'int16', 'int32', 'int64', 'uint8', 'uint16', 'uint32',\n",
    "#         'uint64', 'float', 'float16', 'float32', 'float64']).copy()\n",
    "    \n",
    "#     cat_cols = df.select_dtypes(include=['object', 'category', 'bool']).copy()\n",
    "    \n",
    "#     return num_cols, cat_cols"
   ]
  },
  {
   "cell_type": "code",
   "execution_count": 11,
   "metadata": {},
   "outputs": [],
   "source": [
    "# num_train, cat_train = separate_dtypes(train_raw)\n",
    "# num_test, cat_test = separate_dtypes(test_raw)"
   ]
  },
  {
   "cell_type": "markdown",
   "metadata": {},
   "source": [
    "## Cleaning Missing Values"
   ]
  },
  {
   "cell_type": "markdown",
   "metadata": {},
   "source": [
    "### See Missing Values"
   ]
  },
  {
   "cell_type": "code",
   "execution_count": 12,
   "metadata": {},
   "outputs": [],
   "source": [
    "def missing_val_info(*dfs):\n",
    "    '''\n",
    "    Prints the sum of rows with missing values and the names of columns\n",
    "    containing NaNs with the sum of their NaN values.\n",
    "    \n",
    "    Arguments:\n",
    "        dfs: One or more dataframes.\n",
    "        \n",
    "    Returns:\n",
    "        Printed output.\n",
    "    '''\n",
    "    \n",
    "    for df in dfs:   \n",
    "        print('Number of rows with NaN:', len(df[df.isna().any(axis=1)]), '\\n')\n",
    "        cols_na = df.loc[:, df.isna().any()] # df with only columns that have missing values\n",
    "\n",
    "        if (len(df[df.isna().any(axis=1)]) > 0):\n",
    "            print('Columns with NaN:\\n', cols_na.isna().sum())\n",
    "        \n",
    "        print('-'*30)"
   ]
  },
  {
   "cell_type": "code",
   "execution_count": 13,
   "metadata": {},
   "outputs": [
    {
     "name": "stdout",
     "output_type": "stream",
     "text": [
      "Number of rows with NaN: 1460 \n",
      "\n",
      "Columns with NaN:\n",
      " Alley           1369\n",
      "MasVnrType         8\n",
      "MasVnrArea         8\n",
      "BsmtQual          37\n",
      "BsmtCond          37\n",
      "BsmtExposure      38\n",
      "BsmtFinType1      37\n",
      "BsmtFinType2      38\n",
      "Electrical         1\n",
      "FireplaceQu      690\n",
      "GarageType        81\n",
      "GarageFinish      81\n",
      "GarageQual        81\n",
      "GarageCond        81\n",
      "PoolQC          1453\n",
      "Fence           1179\n",
      "MiscFeature     1406\n",
      "dtype: int64\n",
      "------------------------------\n",
      "Number of rows with NaN: 1459 \n",
      "\n",
      "Columns with NaN:\n",
      " MSZoning           4\n",
      "Alley           1352\n",
      "Utilities          2\n",
      "Exterior1st        1\n",
      "Exterior2nd        1\n",
      "MasVnrType        16\n",
      "MasVnrArea        15\n",
      "BsmtQual          44\n",
      "BsmtCond          45\n",
      "BsmtExposure      44\n",
      "BsmtFinType1      42\n",
      "BsmtFinSF1         1\n",
      "BsmtFinType2      42\n",
      "BsmtFinSF2         1\n",
      "BsmtUnfSF          1\n",
      "TotalBsmtSF        1\n",
      "BsmtFullBath       2\n",
      "BsmtHalfBath       2\n",
      "KitchenQual        1\n",
      "Functional         2\n",
      "FireplaceQu      730\n",
      "GarageType        76\n",
      "GarageFinish      78\n",
      "GarageCars         1\n",
      "GarageArea         1\n",
      "GarageQual        78\n",
      "GarageCond        78\n",
      "PoolQC          1456\n",
      "Fence           1169\n",
      "MiscFeature     1408\n",
      "SaleType           1\n",
      "dtype: int64\n",
      "------------------------------\n"
     ]
    }
   ],
   "source": [
    "missing_val_info(train, test)"
   ]
  },
  {
   "cell_type": "markdown",
   "metadata": {},
   "source": [
    "### Drop Columns with Majority NaN"
   ]
  },
  {
   "cell_type": "code",
   "execution_count": 14,
   "metadata": {},
   "outputs": [],
   "source": [
    "def drop_cols_majority_nan(*dfs):\n",
    "    '''\n",
    "    Removes columns that have more than 90% missing values.\n",
    "    \n",
    "    Arguments:\n",
    "        dfs: One or more dataframes.\n",
    "    \n",
    "    Returns:\n",
    "        df(s) altered in place.\n",
    "    '''\n",
    "    \n",
    "    for df in dfs:\n",
    "        drop_thresh = df.shape[0] * 0.9\n",
    "        df = df.dropna(axis=1, how='all', thresh=drop_thresh, inplace=True)"
   ]
  },
  {
   "cell_type": "code",
   "execution_count": 15,
   "metadata": {},
   "outputs": [],
   "source": [
    "drop_cols_majority_nan(train, test)"
   ]
  },
  {
   "cell_type": "code",
   "execution_count": 16,
   "metadata": {},
   "outputs": [
    {
     "name": "stdout",
     "output_type": "stream",
     "text": [
      "0.9643835616438357\n"
     ]
    }
   ],
   "source": [
    "# as expected since MiscFeature dropped, Misc Val is mostly not applicable\n",
    "print(train.MiscVal.value_counts()[0] / train.MiscVal.value_counts().sum())\n",
    "\n",
    "def drop_misc_val(*dfs):\n",
    "    '''\n",
    "    Removes the MiscVal column.\n",
    "    \n",
    "    Arguments:\n",
    "        dfs: One or more dataframes.\n",
    "    \n",
    "    Returns:\n",
    "        df(s) altered in place.\n",
    "    '''\n",
    "    \n",
    "    for df in dfs:\n",
    "        df.drop('MiscVal', axis=1, inplace=True)"
   ]
  },
  {
   "cell_type": "code",
   "execution_count": 17,
   "metadata": {},
   "outputs": [],
   "source": [
    "drop_misc_val(train, test)"
   ]
  },
  {
   "cell_type": "markdown",
   "metadata": {},
   "source": [
    "### Impute Values Not Actually Missing"
   ]
  },
  {
   "cell_type": "code",
   "execution_count": 18,
   "metadata": {},
   "outputs": [],
   "source": [
    "def impute_not_missing(df, cols):\n",
    "    '''\n",
    "    Fills NaN values with the string 'N/A' or the integer 0.\n",
    "    \n",
    "    Arguments:\n",
    "        df: A dataframe.\n",
    "        cols: A list of column names as strings.\n",
    "    \n",
    "    Returns:\n",
    "        df altered in place.\n",
    "    '''\n",
    "    \n",
    "    cat_dtypes = ['object', 'category']\n",
    "    num_dtypes = ['int', 'int8', 'int16', 'int32', 'int64', 'uint8', 'uint16',\n",
    "                  'uint32', 'uint64', 'float', 'float16', 'float32', 'float64']\n",
    "    \n",
    "    cat_cols = df[cols].select_dtypes(cat_dtypes).columns.tolist()\n",
    "    num_cols = df[cols].select_dtypes(num_dtypes).columns.tolist()\n",
    "        \n",
    "    df.fillna({x:'N/A' for x in cat_cols}, inplace=True)\n",
    "    df.fillna({x:0 for x in num_cols}, inplace=True)"
   ]
  },
  {
   "cell_type": "code",
   "execution_count": 19,
   "metadata": {},
   "outputs": [],
   "source": [
    "gar_cols = list(train.columns[train.columns.str.contains('Garage')])\n",
    "impute_not_missing(train, gar_cols)\n",
    "impute_not_missing(test, gar_cols)"
   ]
  },
  {
   "cell_type": "code",
   "execution_count": 20,
   "metadata": {},
   "outputs": [],
   "source": [
    "# If observation has TotalBsmtSF > 0, NaN in any Bsmt column != No Basement\n",
    "def impute_bsmt(df, cols):\n",
    "    '''\n",
    "    Fills NaN values with the string 'N/A' or the integer 0, excluding cols\n",
    "    that have TotalBsmtSF > 0.\n",
    "    \n",
    "    Arguments:\n",
    "        df: A dataframe.\n",
    "        cols: A list of column names as strings.\n",
    "    \n",
    "    Returns:\n",
    "        df altered in place.\n",
    "    '''\n",
    "    \n",
    "    cat_dtypes = ['object', 'category']\n",
    "    num_dtypes = ['int', 'int8', 'int16', 'int32', 'int64', 'uint8', 'uint16',\n",
    "                  'uint32', 'uint64', 'float', 'float16', 'float32', 'float64']\n",
    "\n",
    "    cat_cols = df[cols].select_dtypes(cat_dtypes).columns.tolist()\n",
    "    num_cols = df[cols].select_dtypes(num_dtypes).columns.tolist()\n",
    "\n",
    "    # Store rows where NaN != No Basement\n",
    "    to_drop = df[cols][(df[cols].isna().any(axis=1)) & (df[cols].TotalBsmtSF > 0)]\n",
    "    dropped = df[cols].drop(to_drop.index)\n",
    "    \n",
    "    # After dropping rows, fill NaNs \n",
    "    dropped.fillna({x:'N/A' for x in cat_cols}, inplace=True)\n",
    "    dropped.fillna({x:0 for x in num_cols}, inplace=True)\n",
    "    \n",
    "    df[cols] = pd.concat([dropped, to_drop])"
   ]
  },
  {
   "cell_type": "code",
   "execution_count": 21,
   "metadata": {},
   "outputs": [],
   "source": [
    "bsmt = list(train.columns[train.columns.str.contains('Bsmt')])\n",
    "impute_bsmt(train, bsmt)\n",
    "impute_bsmt(test, bsmt)"
   ]
  },
  {
   "cell_type": "code",
   "execution_count": 22,
   "metadata": {},
   "outputs": [
    {
     "name": "stdout",
     "output_type": "stream",
     "text": [
      "Number of rows with NaN: 11 \n",
      "\n",
      "Columns with NaN:\n",
      " MasVnrType      8\n",
      "MasVnrArea      8\n",
      "BsmtExposure    1\n",
      "BsmtFinType2    1\n",
      "Electrical      1\n",
      "dtype: int64\n",
      "------------------------------\n",
      "Number of rows with NaN: 32 \n",
      "\n",
      "Columns with NaN:\n",
      " MSZoning         4\n",
      "Utilities        2\n",
      "Exterior1st      1\n",
      "Exterior2nd      1\n",
      "MasVnrType      16\n",
      "MasVnrArea      15\n",
      "BsmtQual         2\n",
      "BsmtCond         3\n",
      "BsmtExposure     2\n",
      "KitchenQual      1\n",
      "Functional       2\n",
      "SaleType         1\n",
      "dtype: int64\n",
      "------------------------------\n"
     ]
    }
   ],
   "source": [
    "missing_val_info(train, test)"
   ]
  },
  {
   "cell_type": "markdown",
   "metadata": {},
   "source": [
    "### Impute Remaining Missing Values"
   ]
  },
  {
   "cell_type": "code",
   "execution_count": 23,
   "metadata": {
    "scrolled": true
   },
   "outputs": [],
   "source": [
    "def impute_mean_mode(*dfs):\n",
    "    '''\n",
    "    Fills NaN values with the mean or the mode of each column.\n",
    "    \n",
    "    Arguments:\n",
    "        dfs: One or more dataframes.\n",
    "    \n",
    "    Returns:\n",
    "        df(s) altered in place.\n",
    "    '''\n",
    "    \n",
    "    for df in dfs:\n",
    "        cat_dtypes = ['object', 'category']\n",
    "        num_dtypes = ['int', 'int8', 'int16', 'int32', 'int64', 'uint8', 'uint16',\n",
    "                      'uint32', 'uint64', 'float', 'float16', 'float32', 'float64']\n",
    "\n",
    "        cat_cols = df.select_dtypes(cat_dtypes).columns.tolist()\n",
    "        num_cols = df.select_dtypes(num_dtypes).columns.tolist()\n",
    "\n",
    "        imp_mode = SimpleImputer(missing_values=np.nan, strategy='most_frequent')\n",
    "        imp_mean = SimpleImputer(missing_values=np.nan, strategy='mean')\n",
    "\n",
    "        df[cat_cols] = imp_mode.fit_transform(df[cat_cols])\n",
    "        df[num_cols] = imp_mean.fit_transform(df[num_cols])"
   ]
  },
  {
   "cell_type": "code",
   "execution_count": 24,
   "metadata": {},
   "outputs": [],
   "source": [
    "impute_mean_mode(train, test)"
   ]
  },
  {
   "cell_type": "code",
   "execution_count": 25,
   "metadata": {},
   "outputs": [
    {
     "name": "stdout",
     "output_type": "stream",
     "text": [
      "Number of rows with NaN: 0 \n",
      "\n",
      "------------------------------\n",
      "Number of rows with NaN: 0 \n",
      "\n",
      "------------------------------\n"
     ]
    }
   ],
   "source": [
    "missing_val_info(train, test)"
   ]
  },
  {
   "cell_type": "markdown",
   "metadata": {},
   "source": [
    "## Feature Selection"
   ]
  },
  {
   "cell_type": "code",
   "execution_count": 30,
   "metadata": {},
   "outputs": [],
   "source": [
    "# # Grouping the features by topic\n",
    "# addons = ['WoodDeckSF', 'OpenPorchSF', 'EnclosedPorch', '3SsnPorch',\n",
    "#           'ScreenPorch', 'PoolArea']\n",
    "\n",
    "# basement = list(train.columns[train.columns.str.contains('Bsmt')])\n",
    "\n",
    "# exterior = ['RoofStyle', 'RoofMatl', 'Exterior1st', 'Exterior2nd', 'MasVnrType',\n",
    "#             'MasVnrArea', 'ExterQual', 'ExterCond', 'Foundation']\n",
    "\n",
    "# garage = list(train.columns[train.columns.str.contains('Garage')])\n",
    "\n",
    "# general = ['MSSubClass', 'BldgType', 'HouseStyle', 'YearBuilt', 'YearRemodAdd']\n",
    "\n",
    "# interior = ['1stFlrSF', '2ndFlrSF', 'LowQualFinSF', 'GrLivArea', 'FullBath',\n",
    "#             'HalfBath', 'BedroomAbvGr', 'KitchenAbvGr', 'KitchenQual',\n",
    "#             'TotRmsAbvGrd']\n",
    "\n",
    "# lot = ['LotArea', 'Street', 'LotShape', 'LandContour', 'LotConfig', 'LandSlope',\n",
    "#        'PavedDrive', 'Fence']\n",
    "\n",
    "# neighborhood = ['MSZoning', 'Neighborhood', 'Condition1', 'Condition2']\n",
    "\n",
    "# overall = ['OverallQual', 'OverallCond', 'Functional']\n",
    "\n",
    "# sale = ['MoSold', 'YrSold', 'SaleType', 'SaleCondition', 'SalePrice']\n",
    "\n",
    "# generated_sqft = list(train.columns[train.columns.str.contains('SF')])\n",
    "\n",
    "# utilities = ['Utilities', 'Heating', 'HeatingQC', 'CentralAir', 'Electrical',\n",
    "#              'Fireplaces']"
   ]
  },
  {
   "cell_type": "markdown",
   "metadata": {},
   "source": [
    "### Numeric Variables Correlation Matrix"
   ]
  },
  {
   "cell_type": "code",
   "execution_count": 31,
   "metadata": {
    "scrolled": false
   },
   "outputs": [
    {
     "ename": "NameError",
     "evalue": "name 'num_cols' is not defined",
     "output_type": "error",
     "traceback": [
      "\u001b[1;31m---------------------------------------------------------------------------\u001b[0m",
      "\u001b[1;31mNameError\u001b[0m                                 Traceback (most recent call last)",
      "\u001b[1;32m<ipython-input-31-17d14b0fe69f>\u001b[0m in \u001b[0;36m<module>\u001b[1;34m\u001b[0m\n\u001b[1;32m----> 1\u001b[1;33m num_corr_matrix = num_cols.corr()[(num_cols.corr() > np.abs(0.5)) & (num_cols.corr() < 1)\n\u001b[0m\u001b[0;32m      2\u001b[0m                          ].dropna(how='all').dropna(axis=1, how='all')\n\u001b[0;32m      3\u001b[0m \u001b[1;33m\u001b[0m\u001b[0m\n\u001b[0;32m      4\u001b[0m \u001b[0mpx\u001b[0m\u001b[1;33m.\u001b[0m\u001b[0mimshow\u001b[0m\u001b[1;33m(\u001b[0m\u001b[0mimg\u001b[0m\u001b[1;33m=\u001b[0m\u001b[0mnum_corr_matrix\u001b[0m\u001b[1;33m,\u001b[0m \u001b[0mx\u001b[0m\u001b[1;33m=\u001b[0m\u001b[0mnum_corr_matrix\u001b[0m\u001b[1;33m.\u001b[0m\u001b[0mindex\u001b[0m\u001b[1;33m,\u001b[0m \u001b[0my\u001b[0m\u001b[1;33m=\u001b[0m\u001b[0mnum_corr_matrix\u001b[0m\u001b[1;33m.\u001b[0m\u001b[0mcolumns\u001b[0m\u001b[1;33m)\u001b[0m\u001b[1;33m\u001b[0m\u001b[1;33m\u001b[0m\u001b[0m\n",
      "\u001b[1;31mNameError\u001b[0m: name 'num_cols' is not defined"
     ]
    }
   ],
   "source": [
    "num_corr_matrix = num_cols.corr()[(num_cols.corr() > np.abs(0.5)) & (num_cols.corr() < 1)\n",
    "                         ].dropna(how='all').dropna(axis=1, how='all')\n",
    "\n",
    "px.imshow(img=num_corr_matrix, x=num_corr_matrix.index, y=num_corr_matrix.columns)"
   ]
  },
  {
   "cell_type": "markdown",
   "metadata": {},
   "source": [
    "### Numeric Variables Feature Importances"
   ]
  },
  {
   "cell_type": "code",
   "execution_count": null,
   "metadata": {},
   "outputs": [],
   "source": [
    "from sklearn.ensemble import ExtraTreesClassifier\n",
    "\n",
    "num_tree_model = ExtraTreesClassifier()\n",
    "num_tree_model.fit(num_cols, train.SalePrice);"
   ]
  },
  {
   "cell_type": "code",
   "execution_count": null,
   "metadata": {},
   "outputs": [],
   "source": [
    "feat_importances = pd.Series(num_tree_model.feature_importances_, index=num_cols.columns\n",
    "                            ).sort_values(ascending=True)\n",
    "\n",
    "px.bar(x=feat_importances.values, y=feat_importances.index)"
   ]
  },
  {
   "cell_type": "code",
   "execution_count": null,
   "metadata": {},
   "outputs": [],
   "source": [
    "len(train)"
   ]
  },
  {
   "cell_type": "markdown",
   "metadata": {},
   "source": [
    "### Separating Target and Features"
   ]
  },
  {
   "cell_type": "code",
   "execution_count": null,
   "metadata": {},
   "outputs": [],
   "source": [
    "# def separate_variables(df):\n",
    "#     '''Splits a training dataframe into target and feature dataframes.'''\n",
    "    \n",
    "#     target = df.SalePrice\n",
    "#     features = df.drop('SalePrice', 1)\n",
    "#     return target, features\n",
    "\n",
    "# y_train, X_train = separate_variables(train)"
   ]
  }
 ],
 "metadata": {
  "kernelspec": {
   "display_name": "Python 3",
   "language": "python",
   "name": "python3"
  },
  "language_info": {
   "codemirror_mode": {
    "name": "ipython",
    "version": 3
   },
   "file_extension": ".py",
   "mimetype": "text/x-python",
   "name": "python",
   "nbconvert_exporter": "python",
   "pygments_lexer": "ipython3",
   "version": "3.7.6"
  },
  "toc": {
   "base_numbering": 1,
   "nav_menu": {},
   "number_sections": true,
   "sideBar": true,
   "skip_h1_title": true,
   "title_cell": "Table of Contents",
   "title_sidebar": "Contents",
   "toc_cell": true,
   "toc_position": {
    "height": "calc(100% - 180px)",
    "left": "10px",
    "top": "150px",
    "width": "165px"
   },
   "toc_section_display": true,
   "toc_window_display": true
  },
  "varInspector": {
   "cols": {
    "lenName": 16,
    "lenType": 16,
    "lenVar": 40
   },
   "kernels_config": {
    "python": {
     "delete_cmd_postfix": "",
     "delete_cmd_prefix": "del ",
     "library": "var_list.py",
     "varRefreshCmd": "print(var_dic_list())"
    },
    "r": {
     "delete_cmd_postfix": ") ",
     "delete_cmd_prefix": "rm(",
     "library": "var_list.r",
     "varRefreshCmd": "cat(var_dic_list()) "
    }
   },
   "oldHeight": 329.51666600000004,
   "position": {
    "height": "40px",
    "left": "824.333px",
    "right": "20px",
    "top": "69px",
    "width": "456.3px"
   },
   "types_to_exclude": [
    "module",
    "function",
    "builtin_function_or_method",
    "instance",
    "_Feature"
   ],
   "varInspector_section_display": "none",
   "window_display": true
  }
 },
 "nbformat": 4,
 "nbformat_minor": 4
}
